{
 "cells": [
  {
   "cell_type": "markdown",
   "metadata": {},
   "source": [
    "# Information Retrieval 1#\n",
    "## Assignment 2: Retrieval models [100 points] ##"
   ]
  },
  {
   "cell_type": "markdown",
   "metadata": {},
   "source": [
    "In this assignment you will get familiar with basic and advanced information retrieval concepts. You will implement different information retrieval ranking models and evaluate their performance.\n",
    "\n",
    "We provide you with a Indri index. To query the index, you'll use a Python package ([pyndri](https://github.com/cvangysel/pyndri)) that allows easy access to the underlying document statistics.\n",
    "\n",
    "For evaluation you'll use the [TREC Eval](https://github.com/usnistgov/trec_eval) utility, provided by the National Institute of Standards and Technology of the United States. TREC Eval is the de facto standard way to compute Information Retrieval measures and is frequently referenced in scientific papers.\n",
    "\n",
    "This is a **groups-of-three assignment**, the deadline is **Wednesday, January 31st**. Code quality, informative comments and convincing analysis of the results will be considered when grading. Submission should be done through blackboard, questions can be asked on the course [Piazza](piazza.com/university_of_amsterdam/spring2018/52041inr6y/home).\n",
    "\n",
    "### Technicalities (must-read!) ###\n",
    "\n",
    "The assignment directory is organized as follows:\n",
    "   * `./assignment.ipynb` (this file): the description of the assignment.\n",
    "   * `./index/`: the index we prepared for you.\n",
    "   * `./ap_88_90/`: directory with ground-truth and evaluation sets:\n",
    "      * `qrel_test`: test query relevance collection (**test set**).\n",
    "      * `qrel_validation`: validation query relevance collection (**validation set**).\n",
    "      * `topics_title`: semicolon-separated file with query identifiers and terms.\n",
    "\n",
    "You will need the following software packages (tested with Python 3.5 inside [Anaconda](https://conda.io/docs/user-guide/install/index.html)):\n",
    "   * Python 3.5 and Jupyter\n",
    "   * Indri + Pyndri (Follow the installation instructions [here](https://github.com/nickvosk/pyndri/blob/master/README.md))\n",
    "   * gensim [link](https://radimrehurek.com/gensim/install.html)\n",
    "   * TREC Eval [link](https://github.com/usnistgov/trec_eval)"
   ]
  },
  {
   "cell_type": "markdown",
   "metadata": {},
   "source": [
    "### TREC Eval primer ###\n",
    "The TREC Eval utility can be downloaded and compiled as follows:\n",
    "\n",
    "    git clone https://github.com/usnistgov/trec_eval.git\n",
    "    cd trec_eval\n",
    "    make\n",
    "\n",
    "TREC Eval computes evaluation scores given two files: ground-truth information regarding relevant documents, named *query relevance* or *qrel*, and a ranking of documents for a set of queries, referred to as a *run*. The *qrel* will be supplied by us and should not be changed. For every retrieval model (or combinations thereof) you will generate a run of the top-1000 documents for every query. The format of the *run* file is as follows:\n",
    "\n",
    "    $query_identifier Q0 $document_identifier $rank_of_document_for_query $query_document_similarity $run_identifier\n",
    "    \n",
    "where\n",
    "   * `$query_identifier` is the unique identifier corresponding to a query (usually this follows a sequential numbering).\n",
    "   * `Q0` is a legacy field that you can ignore.\n",
    "   * `$document_identifier` corresponds to the unique identifier of a document (e.g., APXXXXXXX where AP denotes the collection and the Xs correspond to a unique numerical identifier).\n",
    "   * `$rank_of_document_for_query` denotes the rank of the document for the particular query. This field is ignored by TREC Eval and is only maintained for legacy support. The ranks are computed by TREC Eval itself using the `$query_document_similarity` field (see next). However, it remains good practice to correctly compute this field.\n",
    "   * `$query_document_similarity` is a score indicating the similarity between query and document where a higher score denotes greater similarity.\n",
    "   * `$run_identifier` is an identifier of the run. This field is for your own convenience and has no purpose beyond bookkeeping.\n",
    "   \n",
    "For example, say we have two queries: `Q1` and `Q2` and we rank three documents (`DOC1`, `DOC2`, `DOC3`). For query `Q1`, we find the following similarity scores `score(Q1, DOC1) = 1.0`, `score(Q1, DOC2) = 0.5`, `score(Q1, DOC3) = 0.75`; and for `Q2`: `score(Q2, DOC1) = -0.1`, `score(Q2, DOC2) = 1.25`, `score(Q1, DOC3) = 0.0`. We can generate run using the following snippet:"
   ]
  },
  {
   "cell_type": "code",
   "execution_count": 11,
   "metadata": {
    "scrolled": false
   },
   "outputs": [
    {
     "name": "stdout",
     "output_type": "stream",
     "text": [
      "Q1 Q0 DOC1 1 1.0 example\n",
      "Q1 Q0 DOC3 2 0.75 example\n",
      "Q1 Q0 DOC2 3 0.5 example\n",
      "Q2 Q0 DOC2 1 1.25 example\n",
      "Q2 Q0 DOC3 2 0.0 example\n",
      "Q2 Q0 DOC1 3 -0.1 example\n"
     ]
    }
   ],
   "source": [
    "import logging\n",
    "import sys\n",
    "import os\n",
    "import time\n",
    "import numpy\n",
    "\n",
    "def write_run(model_name, data, out_f,\n",
    "              max_objects_per_query=sys.maxsize,\n",
    "              skip_sorting=False):\n",
    "    \"\"\"\n",
    "    Write a run to an output file.\n",
    "    Parameters:\n",
    "        - model_name: identifier of run.\n",
    "        - data: dictionary mapping topic_id to object_assesments;\n",
    "            object_assesments is an iterable (list or tuple) of\n",
    "            (relevance, object_id) pairs.\n",
    "            The object_assesments iterable is sorted by decreasing order.\n",
    "        - out_f: output file stream.\n",
    "        - max_objects_per_query: cut-off for number of objects per query.\n",
    "    \"\"\"\n",
    "    for subject_id, object_assesments in data.items():\n",
    "        if not object_assesments:\n",
    "            logging.warning('Received empty ranking for %s; ignoring.',\n",
    "                            subject_id)\n",
    "\n",
    "            continue\n",
    "\n",
    "        # Probe types, to make sure everything goes alright.\n",
    "        # assert isinstance(object_assesments[0][0], float) or \\\n",
    "        #     isinstance(object_assesments[0][0], np.float32)\n",
    "        assert isinstance(object_assesments[0][1], str) or \\\n",
    "            isinstance(object_assesments[0][1], bytes)\n",
    "\n",
    "        if not skip_sorting:\n",
    "            object_assesments = sorted(object_assesments, reverse=True)\n",
    "\n",
    "        if max_objects_per_query < sys.maxsize:\n",
    "            object_assesments = object_assesments[:max_objects_per_query]\n",
    "\n",
    "        if isinstance(subject_id, bytes):\n",
    "            subject_id = subject_id.decode('utf8')\n",
    "\n",
    "        for rank, (relevance, object_id) in enumerate(object_assesments):\n",
    "            if isinstance(object_id, bytes):\n",
    "                object_id = object_id.decode('utf8')\n",
    "\n",
    "            out_f.write(\n",
    "                '{subject} Q0 {object} {rank} {relevance} '\n",
    "                '{model_name}\\n'.format(\n",
    "                    subject=subject_id,\n",
    "                    object=object_id,\n",
    "                    rank=rank + 1,\n",
    "                    relevance=relevance,\n",
    "                    model_name=model_name))\n",
    "            \n",
    "# The following writes the run to standard output.\n",
    "# In your code, you should write the runs to local\n",
    "# storage in order to pass them to trec_eval.\n",
    "write_run(\n",
    "    model_name='example',\n",
    "    data={\n",
    "        'Q1': ((1.0, 'DOC1'), (0.5, 'DOC2'), (0.75, 'DOC3')),\n",
    "        'Q2': ((-0.1, 'DOC1'), (1.25, 'DOC2'), (0.0, 'DOC3')),\n",
    "    },\n",
    "    out_f=sys.stdout,\n",
    "    max_objects_per_query=1000)"
   ]
  },
  {
   "cell_type": "markdown",
   "metadata": {},
   "source": [
    "Now, imagine that we know that `DOC1` is relevant and `DOC3` is non-relevant for `Q1`. In addition, for `Q2` we only know of the relevance of `DOC3`. The query relevance file looks like:\n",
    "\n",
    "    Q1 0 DOC1 1\n",
    "    Q1 0 DOC3 0\n",
    "    Q2 0 DOC3 1\n",
    "    \n",
    "We store the run and qrel in files `example.run` and `example.qrel` respectively on disk. We can now use TREC Eval to compute evaluation measures. In this example, we're only interested in Mean Average Precision and we'll only show this below for brevity. However, TREC Eval outputs much more information such as NDCG, recall, precision, etc.\n",
    "\n",
    "    $ trec_eval -m all_trec -q example.qrel example.run | grep -E \"^map\\s\"\n",
    "    > map                   \tQ1\t1.0000\n",
    "    > map                   \tQ2\t0.5000\n",
    "    > map                   \tall\t0.7500\n",
    "    \n",
    "Now that we've discussed the output format of rankings and how you can compute evaluation measures from these rankings, we'll now proceed with an overview of the indexing framework you'll use."
   ]
  },
  {
   "cell_type": "markdown",
   "metadata": {},
   "source": [
    "### Pyndri primer ###\n",
    "For this assignment you will use [Pyndri](https://github.com/cvangysel/pyndri) [[1](https://arxiv.org/abs/1701.00749)], a python interface for [Indri](https://www.lemurproject.org/indri.php). We have indexed the document collection and you can query the index using Pyndri. We will start by giving you some examples of what Pyndri can do:\n",
    "\n",
    "First we read the document collection index with Pyndri:"
   ]
  },
  {
   "cell_type": "code",
   "execution_count": 12,
   "metadata": {
    "collapsed": true,
    "scrolled": true
   },
   "outputs": [],
   "source": [
    "import pyndri\n",
    "\n",
    "index = pyndri.Index('index/')"
   ]
  },
  {
   "cell_type": "markdown",
   "metadata": {},
   "source": [
    "The loaded index can be used to access a collection of documents in an easy manner. We'll give you some examples to get some idea of what it can do, it is up to you to figure out how to use it for the remainder of the assignment.\n",
    "\n",
    "First let's look at the number of documents, since Pyndri indexes the documents using incremental identifiers we can simply take the lowest index and the maximum document and consider the difference:"
   ]
  },
  {
   "cell_type": "code",
   "execution_count": 4,
   "metadata": {},
   "outputs": [
    {
     "name": "stdout",
     "output_type": "stream",
     "text": [
      "There are 164597 documents in this collection.\n"
     ]
    }
   ],
   "source": [
    "print(\"There are %d documents in this collection.\" % (index.maximum_document() - index.document_base()))"
   ]
  },
  {
   "cell_type": "markdown",
   "metadata": {},
   "source": [
    "Let's take the first document out of the collection and take a look at it:"
   ]
  },
  {
   "cell_type": "code",
   "execution_count": 57,
   "metadata": {
    "scrolled": true
   },
   "outputs": [
    {
     "name": "stdout",
     "output_type": "stream",
     "text": [
      "('AP890425-0001', (1360, 192, 363, 0, 880, 0, 200, 0, 894, 412, 92160, 3, 192, 0, 363, 34, 1441, 0, 174134, 0, 200, 0, 894, 412, 2652, 0, 810, 107, 49, 4903, 420, 0, 1, 48, 35, 489, 0, 35, 687, 192, 243, 0, 249311, 1877, 0, 1651, 1174, 0, 2701, 117, 412, 0, 810, 391, 245233, 1225, 5838, 16, 0, 233156, 3496, 0, 393, 17, 0, 2435, 4819, 930, 0, 0, 200, 0, 894, 0, 22, 398, 145, 0, 3, 271, 115, 0, 1176, 2777, 292, 0, 725, 192, 0, 0, 50046, 0, 1901, 1130, 0, 192, 0, 408, 0, 243779, 0, 0, 553, 192, 0, 363, 0, 3747, 0, 0, 0, 0, 1176, 0, 1239, 0, 0, 1115, 17, 0, 0, 585, 192, 1963, 0, 0, 412, 54356, 0, 773, 0, 0, 0, 192, 0, 0, 1130, 0, 363, 0, 545, 192, 0, 1174, 1901, 1130, 0, 4, 398, 145, 39, 0, 577, 0, 355, 0, 491, 0, 6025, 0, 0, 193156, 88, 34, 437, 0, 0, 1852, 0, 828, 0, 1588, 0, 0, 0, 2615, 0, 0, 107, 49, 420, 0, 0, 190, 7, 714, 2701, 0, 237, 192, 157, 0, 412, 34, 437, 0, 0, 200, 6025, 26, 0, 0, 0, 0, 363, 0, 22, 398, 145, 0, 200, 638, 126222, 6018, 0, 880, 0, 0, 161, 0, 0, 319, 894, 2701, 0, 0, 0, 301, 1200, 0, 363, 251, 430, 0, 207, 0, 76143, 1773, 0, 243779, 0, 0, 72030, 0, 55, 4903, 420, 0, 2701, 1496, 420, 0, 25480, 0, 420, 0, 0, 200, 0, 392, 2949, 0, 1738, 0, 61, 0, 71, 79, 0, 200, 903, 0, 188, 53, 6, 0, 476, 2, 0, 2028, 97, 334, 0, 0, 200, 178, 0, 0, 107, 49, 0, 214, 0, 0, 0, 114, 3866, 1505, 195, 79893, 574, 0, 198, 2160, 0, 192, 0, 420, 0, 384, 0, 2701, 0, 114, 6025, 1549, 74627, 0, 238, 0, 0, 0, 3729, 0, 192, 0, 79893, 0, 0, 729, 3141, 129, 0, 192, 196764, 39, 0, 0, 714, 63, 0, 55, 420, 3356, 0, 0, 117, 412, 0, 0, 79758, 0, 1901, 1130, 4067, 2133, 0, 0, 875, 72, 0, 0, 336, 2789, 0, 0, 25, 920, 121, 104, 0, 3162, 0, 0, 420, 0, 2178, 0, 0, 386, 192545, 159306, 0, 0, 0, 1914, 0, 200, 0, 1794, 0, 2654, 0, 0, 25480, 420, 0, 2795, 0, 0, 229690, 0, 32559, 0, 0, 392, 253919, 0, 0, 0, 0, 379, 0, 0, 114, 0, 553, 10, 0, 1128, 0, 23610, 248, 151, 0, 418, 0, 651, 0, 36, 0, 0, 645, 0, 0, 513, 0, 0, 25480, 420, 34, 0, 0, 0, 15, 0, 3348, 0, 3496, 0, 35, 687, 0, 1, 48, 0, 0, 2803, 0, 0, 714, 1274, 0, 114, 62, 1006, 70268, 1200, 2357, 0, 497, 0, 497, 125, 0, 913, 4647, 3985, 0, 0, 3370, 245233, 0, 0, 687, 0, 4, 1288, 0, 0, 0, 0, 715, 0, 0, 687, 583, 0, 0, 1627, 0, 0, 11, 357, 1359, 0, 849, 0, 0, 1518, 462, 245233, 0, 0, 0, 0, 0, 0, 171, 70268, 0))\n"
     ]
    }
   ],
   "source": [
    "example_document = index.document(index.document_base())\n",
    "print(example_document)"
   ]
  },
  {
   "cell_type": "markdown",
   "metadata": {},
   "source": [
    "Here we see a document consists of two things, a string representing the external document identifier and an integer list representing the identifiers of words that make up the document. Pyndri uses integer representations for words or terms, thus a token_id is an integer that represents a word whereas the token is the actual text of the word/term. Every id has a unique token and vice versa with the exception of stop words: words so common that there are uninformative, all of these receive the zero id.\n",
    "\n",
    "To see what some ids and their matching tokens we take a look at the dictionary of the index:"
   ]
  },
  {
   "cell_type": "code",
   "execution_count": 13,
   "metadata": {},
   "outputs": [
    {
     "name": "stdout",
     "output_type": "stream",
     "text": [
      "[(1, 'new'), (2, 'percent'), (3, 'two'), (4, '1'), (5, 'people'), (6, 'million'), (7, '000'), (8, 'government'), (9, 'president'), (10, 'years'), (11, 'state'), (12, '2'), (13, 'states'), (14, 'three'), (15, 'time')]\n"
     ]
    }
   ],
   "source": [
    "token2id, id2token, _ = index.get_dictionary()\n",
    "print(list(id2token.items())[:15])"
   ]
  },
  {
   "cell_type": "markdown",
   "metadata": {},
   "source": [
    "Using this dictionary we can see the tokens for the (non-stop) words in our example document:"
   ]
  },
  {
   "cell_type": "code",
   "execution_count": 7,
   "metadata": {},
   "outputs": [
    {
     "name": "stdout",
     "output_type": "stream",
     "text": [
      "['52', 'students', 'arrested', 'takeover', 'university', 'massachusetts', 'building', 'fifty', 'two', 'students', 'arrested', 'tuesday', 'evening', 'occupying', 'university', 'massachusetts', 'building', 'overnight', 'protest', 'defense', 'department', 'funded', 'research', 'new', 'york', 'city', 'thousands', 'city', 'college', 'students', 'got', 'unscheduled', 'holiday', 'demonstrators', 'occupied', 'campus', 'administration', 'building', 'protest', 'possible', 'tuition', 'increases', 'prompting', 'officials', 'suspend', 'classes', '60', 'police', 'riot', 'gear', 'arrived', 'university', 'massachusetts', '5', 'p', 'm', 'two', 'hours', 'later', 'bus', 'drove', 'away', '29', 'students', 'camped', 'memorial', 'hall', 'students', 'charged', 'trespassing', '23', 'students', 'arrested', 'lying', 'bus', 'prevent', 'leaving', 'police', '300', 'students', 'stood', 'building', 'chanting', 'looking', 'students', 'hall', 'arrested', '35', 'students', 'occupied', 'memorial', 'hall', '1', 'p', 'm', 'monday', 'declined', 'offer', 'meet', 'administrators', 'provosts', 'office', 'tuesday', 'morning', 'presented', 'list', 'demands', 'halt', 'defense', 'department', 'research', '25', '000', 'student', 'campus', '40', 'students', 'left', 'building', 'tuesday', 'morning', 'university', 'administrators', 'told', 'arrested', '5', 'p', 'm', 'university', 'spokeswoman', 'jeanne', 'hopkins', 'takeover', 'second', 'western', 'massachusetts', 'campus', 'seven', 'protesters', 'arrested', 'april', '19', 'charges', 'disorderly', 'conduct', 'trespassing', 'demonstrating', 'military', 'funded', 'research', 'campus', 'particularly', 'research', 'anthrax', 'research', 'university', 'non', 'classified', 'researchers', 'make', 'work', 'public', 'university', 'rules', '11', '6', 'million', '22', 'percent', 'grant', 'money', 'received', 'university', 'came', 'defense', 'department', '1988', 'school', 'chancellor', 'joseph', 'd', 'duffey', 'issued', 'statement', 'telling', 'students', 'research', 'continue', 'campus', 'school', 'administrators', 'decide', 'differently', 'policy', 'negotiated', 'students', 'duffey', 'latest', 'occupation', 'began', 'students', 'rallying', 'monday', 'student', 'union', 'military', 'research', 'marched', 'administration', 'building', 'ducked', 'memorial', 'hall', 'en', 'route', 'followed', 'members', 'local', 'chapter', 'american', 'friends', 'service', 'committee', 'contended', 'research', 'dangerous', 'town', 'promotes', 'militarism', 'banned', 'university', 'argued', 'purpose', 'anthrax', 'research', 'peaceful', 'strain', 'bacteria', 'non', 'virulent', 'study', 'school', '23', 'years', 'incident', 'amherst', 'health', 'board', 'scheduled', 'hearing', 'wednesday', 'question', 'safety', 'anthrax', 'research', 'tuesday', 'time', '1969', 'classes', 'city', 'college', 'new', 'york', 'canceled', 'student', 'protests', 'school', 'spokesman', 'charles', 'deciccio', 'protesters', 'demanding', 'face', 'face', 'meeting', 'gov', 'mario', 'cuomo', 'feared', 'tuition', 'college', '1', '250', 'increased', 'college', 'staff', 'reduced', 'state', 'budget', 'cuts', 'governor', 'immediate', 'comment', 'tuition', 'set', 'deciccio']\n"
     ]
    }
   ],
   "source": [
    "print([id2token[word_id] for word_id in example_document[1] if word_id > 0])"
   ]
  },
  {
   "cell_type": "markdown",
   "metadata": {},
   "source": [
    "The reverse can also be done, say we want to look for news about the \"University of Massachusetts\", the tokens of that query can be converted to ids using the reverse dictionary:"
   ]
  },
  {
   "cell_type": "code",
   "execution_count": 8,
   "metadata": {},
   "outputs": [
    {
     "name": "stdout",
     "output_type": "stream",
     "text": [
      "Query by tokens: ['university', '', 'massachusetts']\n",
      "Query by ids with stopwords: [200, 0, 894]\n",
      "Query by ids without stopwords: [200, 894]\n"
     ]
    }
   ],
   "source": [
    "query_tokens = index.tokenize(\"University of Massachusetts\")\n",
    "print(\"Query by tokens:\", query_tokens)\n",
    "query_id_tokens = [token2id.get(query_token,0) for query_token in query_tokens]\n",
    "print(\"Query by ids with stopwords:\", query_id_tokens)\n",
    "query_id_tokens = [word_id for word_id in query_id_tokens if word_id > 0]\n",
    "print(\"Query by ids without stopwords:\", query_id_tokens)"
   ]
  },
  {
   "cell_type": "markdown",
   "metadata": {},
   "source": [
    "Naturally we can now match the document and query in the id space, let's see how often a word from the query occurs in our example document:"
   ]
  },
  {
   "cell_type": "code",
   "execution_count": 4,
   "metadata": {},
   "outputs": [
    {
     "ename": "NameError",
     "evalue": "name 'example_document' is not defined",
     "output_type": "error",
     "traceback": [
      "\u001b[0;31m---------------------------------------------------------------------------\u001b[0m",
      "\u001b[0;31mNameError\u001b[0m                                 Traceback (most recent call last)",
      "\u001b[0;32m<ipython-input-4-36f2e4e7e089>\u001b[0m in \u001b[0;36m<module>\u001b[0;34m()\u001b[0m\n\u001b[0;32m----> 1\u001b[0;31m \u001b[0mmatching_words\u001b[0m \u001b[0;34m=\u001b[0m \u001b[0msum\u001b[0m\u001b[0;34m(\u001b[0m\u001b[0;34m[\u001b[0m\u001b[0;32mTrue\u001b[0m \u001b[0;32mfor\u001b[0m \u001b[0mword_id\u001b[0m \u001b[0;32min\u001b[0m \u001b[0mexample_document\u001b[0m\u001b[0;34m[\u001b[0m\u001b[0;36m1\u001b[0m\u001b[0;34m]\u001b[0m \u001b[0;32mif\u001b[0m \u001b[0mword_id\u001b[0m \u001b[0;32min\u001b[0m \u001b[0mquery_id_tokens\u001b[0m\u001b[0;34m]\u001b[0m\u001b[0;34m)\u001b[0m\u001b[0;34m\u001b[0m\u001b[0m\n\u001b[0m\u001b[1;32m      2\u001b[0m \u001b[0mprint\u001b[0m\u001b[0;34m(\u001b[0m\u001b[0;34m\"Document %s has %d word matches with query: \\\"%s\\\".\"\u001b[0m \u001b[0;34m%\u001b[0m \u001b[0;34m(\u001b[0m\u001b[0mexample_document\u001b[0m\u001b[0;34m[\u001b[0m\u001b[0;36m0\u001b[0m\u001b[0;34m]\u001b[0m\u001b[0;34m,\u001b[0m \u001b[0mmatching_words\u001b[0m\u001b[0;34m,\u001b[0m \u001b[0;34m' '\u001b[0m\u001b[0;34m.\u001b[0m\u001b[0mjoin\u001b[0m\u001b[0;34m(\u001b[0m\u001b[0mquery_tokens\u001b[0m\u001b[0;34m)\u001b[0m\u001b[0;34m)\u001b[0m\u001b[0;34m)\u001b[0m\u001b[0;34m\u001b[0m\u001b[0m\n\u001b[1;32m      3\u001b[0m \u001b[0mprint\u001b[0m\u001b[0;34m(\u001b[0m\u001b[0;34m\"Document %s and query \\\"%s\\\" have a %.01f%% overlap.\"\u001b[0m \u001b[0;34m%\u001b[0m \u001b[0;34m(\u001b[0m\u001b[0mexample_document\u001b[0m\u001b[0;34m[\u001b[0m\u001b[0;36m0\u001b[0m\u001b[0;34m]\u001b[0m\u001b[0;34m,\u001b[0m \u001b[0;34m' '\u001b[0m\u001b[0;34m.\u001b[0m\u001b[0mjoin\u001b[0m\u001b[0;34m(\u001b[0m\u001b[0mquery_tokens\u001b[0m\u001b[0;34m)\u001b[0m\u001b[0;34m,\u001b[0m\u001b[0mmatching_words\u001b[0m\u001b[0;34m/\u001b[0m\u001b[0mfloat\u001b[0m\u001b[0;34m(\u001b[0m\u001b[0mlen\u001b[0m\u001b[0;34m(\u001b[0m\u001b[0mexample_document\u001b[0m\u001b[0;34m[\u001b[0m\u001b[0;36m1\u001b[0m\u001b[0;34m]\u001b[0m\u001b[0;34m)\u001b[0m\u001b[0;34m)\u001b[0m\u001b[0;34m*\u001b[0m\u001b[0;36m100\u001b[0m\u001b[0;34m)\u001b[0m\u001b[0;34m)\u001b[0m\u001b[0;34m\u001b[0m\u001b[0m\n",
      "\u001b[0;31mNameError\u001b[0m: name 'example_document' is not defined"
     ]
    }
   ],
   "source": [
    "matching_words = sum([True for word_id in example_document[1] if word_id in query_id_tokens])\n",
    "print(\"Document %s has %d word matches with query: \\\"%s\\\".\" % (example_document[0], matching_words, ' '.join(query_tokens)))\n",
    "print(\"Document %s and query \\\"%s\\\" have a %.01f%% overlap.\" % (example_document[0], ' '.join(query_tokens),matching_words/float(len(example_document[1]))*100))"
   ]
  },
  {
   "cell_type": "markdown",
   "metadata": {},
   "source": [
    "While this is certainly not everything Pyndri can do, it should give you an idea of how to use it. Please take a look at the [examples](https://github.com/cvangysel/pyndri) as it will help you a lot with this assignment.\n",
    "\n",
    "**CAUTION**: Avoid printing out the whole index in this Notebook as it will generate a lot of output and is likely to corrupt the Notebook."
   ]
  },
  {
   "cell_type": "markdown",
   "metadata": {},
   "source": [
    "### Parsing the query file\n",
    "You can parse the query file (`ap_88_89/topics_title`) using the following snippet:"
   ]
  },
  {
   "cell_type": "code",
   "execution_count": 14,
   "metadata": {},
   "outputs": [
    {
     "name": "stdout",
     "output_type": "stream",
     "text": [
      "OrderedDict([(51, 'Airbus Subsidies'), (52, 'South African Sanctions'), (53, 'Leveraged Buyouts'), (54, 'Satellite Launch Contracts'), (55, 'Insider Trading'), (56, 'Prime (Lending) Rate Moves, Predictions'), (57, 'MCI'), (58, 'Rail Strikes'), (59, 'Weather Related Fatalities'), (60, 'Merit-Pay vs. Seniority'), (61, 'Israeli Role in Iran-Contra Affair'), (62, \"Military Coups D'etat\"), (63, 'Machine Translation'), (64, 'Hostage-Taking'), (65, 'Information Retrieval Systems'), (66, 'Natural Language Processing'), (67, 'Politically Motivated Civil Disturbances'), (68, 'Health Hazards from Fine-Diameter Fibers'), (69, 'Attempts to Revive the SALT II Treaty'), (70, 'Surrogate Motherhood'), (71, 'Border Incursions'), (72, 'Demographic Shifts in the U.S.'), (73, 'Demographic Shifts across National Boundaries'), (74, 'Conflicting Policy'), (75, 'Automation'), (76, 'U.S. Constitution - Original Intent'), (77, 'Poaching'), (78, 'Greenpeace'), (79, 'FRG Political Party Positions'), (80, '1988 Presidential Candidates Platforms'), (81, 'Financial crunch for televangelists in the wake of the PTL scandal'), (82, 'Genetic Engineering'), (83, 'Measures to Protect the Atmosphere'), (84, 'Alternative/renewable Energy Plant & Equipment Installation'), (85, 'Official Corruption'), (86, 'Bank Failures'), (87, 'Criminal Actions Against Officers of Failed Financial Institutions'), (88, 'Crude Oil Price Trends'), (89, '\"Downstream\" Investments by OPEC Member States'), (90, 'Data on Proven Reserves of Oil & Natural Gas Producers'), (91, 'U.S. Army Acquisition of Advanced Weapons Systems'), (92, 'International Military Equipment Sales'), (93, 'What Backing Does the National Rifle Association Have?'), (94, 'Computer-aided Crime'), (95, 'Computer-aided Crime Detection'), (96, 'Computer-Aided Medical Diagnosis'), (97, 'Fiber Optics Applications'), (98, 'Fiber Optics Equipment Manufacturers'), (99, 'Iran-Contra Affair'), (100, 'Controlling the Transfer of High Technology'), (101, 'Design of the \"Star Wars\" Anti-missile Defense System'), (102, \"Laser Research Applicable to the U.S.'s Strategic Defense Initiative\"), (103, 'Welfare Reform'), (104, 'Catastrophic Health Insurance'), (105, '\"Black Monday\"'), (106, 'U.S. Control of Insider Trading'), (107, 'Japanese Regulation of Insider Trading'), (108, 'Japanese Protectionist Measures'), (109, 'Find Innovative Companies'), (110, 'Black Resistance Against the South African Government'), (111, 'Nuclear Proliferation'), (112, 'Funding Biotechnology'), (113, 'New Space Satellite Applications'), (114, 'Non-commercial Satellite Launches'), (115, 'Impact of the 1986 Immigration Law'), (116, 'Generic Drug Substitutions'), (117, 'Capacity of the U.S. Cellular Telephone Network'), (118, 'International Terrorists'), (119, 'Actions Against International Terrorists'), (120, 'Economic Impact of International Terrorism'), (121, 'Death from Cancer'), (122, 'RDT&E of New Cancer Fighting Drugs'), (123, 'Research into & Control of Carcinogens'), (124, 'Alternatives to Traditional Cancer Therapies'), (125, 'Anti-smoking Actions by Government'), (126, 'Medical Ethics and Modern Technology'), (127, 'U.S.-U.S.S.R. Arms Control Agreements'), (128, 'Privatization of State Assets'), (129, 'Soviet Spying on the U.S.'), (130, 'Jewish Emigration and U.S.-USSR Relations'), (131, 'McDonnell Douglas Contracts for Military Aircraft'), (132, '\"Stealth\" Aircraft'), (133, 'Hubble Space Telescope'), (134, 'The Human Genome Project'), (135, 'Possible Contributions of Gene Mapping to Medicine'), (136, 'Diversification by Pacific Telesis'), (137, 'Expansion in the U.S. Theme Park Industry'), (138, 'Iranian Support for Lebanese Hostage-takers'), (139, \"Iran's Islamic Revolution - Domestic and Foreign Social Consequences\"), (140, 'Political Impact of Islamic Fundamentalism'), (141, \"Japan's Handling of its Trade Surplus with the U.S.\"), (142, 'Impact of Government Regulated Grain Farming on International Relations'), (143, 'Why Protect U.S. Farmers?'), (144, 'Management Problems at the United Nations'), (145, 'Influence of the \"Pro-Israel Lobby\"'), (146, 'Negotiating an End to the Nicaraguan Civil War'), (147, 'Productivity Trends in the U.S. Economy'), (148, 'Conflict in the Horn of Africa'), (149, 'Industrial Espionage'), (150, 'U.S. Political Campaign Financing'), (151, 'Coping with overcrowded prisons'), (152, 'Accusations of Cheating by Contractors on U.S. Defense Projects'), (153, 'Insurance Coverage which pays for Long Term Care'), (154, 'Oil Spills'), (155, 'Right Wing Christian Fundamentalism in U.S.'), (156, 'Efforts to enact Gun Control Legislation'), (157, 'Causes and treatments of multiple sclerosis (MS)'), (158, 'Term limitations for members of the U.S. Congress'), (159, 'Electric Car Development'), (160, 'Vitamins - The Cure for or Cause of Human Ailments'), (161, 'Acid Rain'), (162, 'Automobile Recalls'), (163, 'Vietnam Veterans and Agent Orange'), (164, 'Generic Drugs - Illegal Activities by Manufacturers'), (165, 'Tobacco company advertising and the young'), (166, 'Standardized testing and cultural bias'), (167, 'Regulation of the showing of violence and explicit sex in motion picture theaters, on television, and on video cassettes.'), (168, 'Financing AMTRAK'), (169, 'Cost of Garbage/Trash Removal'), (170, 'The Consequences of Implantation of Silicone Gel Breast Devices'), (171, \"Use of Mutual Funds in an Individual's Retirement Strategy\"), (172, 'The Effectiveness of Medical Products and Related Programs Utilized in the Cessation of Smoking.'), (173, 'Smoking Bans'), (174, 'Hazardous Waste Cleanup'), (175, 'NRA Prevention of Gun Control Legislation'), (176, 'Real-life private investigators'), (177, 'English as the Official Language in U.S.'), (178, 'Dog Maulings'), (179, 'U. S. Restaurants in Foreign Lands'), (180, 'Ineffectiveness of U.S. Embargoes/Sanctions'), (181, 'Abuse of the Elderly by Family Members, and Medical and Nonmedical Personnel, and Initiatives Being Taken to Minimize This Mistreatment'), (182, 'Commercial Overfishing Creates Food Fish Deficit'), (183, 'Asbestos Related Lawsuits'), (184, 'Corporate Pension Plans/Funds'), (185, 'Reform of the U.S. Welfare System'), (186, 'Difference of Learning Levels Among Inner City and More Suburban School Students'), (187, 'Signs of the Demise of Independent Publishing'), (188, 'Beachfront Erosion'), (189, 'Real Motives for Murder'), (190, 'Instances of Fraud Involving the Use of a Computer'), (191, 'Efforts to Improve U.S. Schooling'), (192, 'Oil Spill Cleanup'), (193, 'Toys R Dangerous'), (194, 'The Amount of Money Earned by Writers'), (195, 'Stock Market Perturbations Attributable to Computer Initiated Trading'), (196, 'School Choice Voucher System and its effects upon the entire U.S. educational program'), (197, 'Reform of the jurisprudence system to stop juries from granting unreasonable monetary awards'), (198, 'Gene Therapy and Its Benefits to Humankind'), (199, 'Legality of Medically Assisted Suicides'), (200, 'Impact of foreign textile imports on U.S. textile industry')])\n"
     ]
    }
   ],
   "source": [
    "import collections\n",
    "import io\n",
    "import logging\n",
    "import sys\n",
    "\n",
    "def parse_topics(file_or_files,\n",
    "                 max_topics=sys.maxsize, delimiter=';'):\n",
    "    assert max_topics >= 0 or max_topics is None\n",
    "\n",
    "    topics = collections.OrderedDict()\n",
    "\n",
    "    if not isinstance(file_or_files, list) and \\\n",
    "            not isinstance(file_or_files, tuple):\n",
    "        if hasattr(file_or_files, '__iter__'):\n",
    "            file_or_files = list(file_or_files)\n",
    "        else:\n",
    "            file_or_files = [file_or_files]\n",
    "\n",
    "    for f in file_or_files:\n",
    "        assert isinstance(f, io.IOBase)\n",
    "\n",
    "        for line in f:\n",
    "            assert(isinstance(line, str))\n",
    "\n",
    "            line = line.strip()\n",
    "\n",
    "            if not line:\n",
    "                continue\n",
    "\n",
    "            topic_id, terms = line.split(delimiter, 1)\n",
    "            topic_id = int(topic_id)\n",
    "            if topic_id in topics and (topics[topic_id] != terms):\n",
    "                    logging.error('Duplicate topic \"%s\" (%s vs. %s).',\n",
    "                                  topic_id,\n",
    "                                  topics[topic_id],\n",
    "                                  terms)\n",
    "\n",
    "            topics[topic_id] = terms\n",
    "\n",
    "            if max_topics > 0 and len(topics) >= max_topics:\n",
    "                break\n",
    "\n",
    "    return topics\n",
    "\n",
    "with open('./ap_88_89/topics_title', 'r') as f_topics:\n",
    "    print(parse_topics([f_topics]))\n",
    "    topics = parse_topics([f_topics])"
   ]
  },
  {
   "cell_type": "markdown",
   "metadata": {},
   "source": [
    "### Task 1: Implement and compare lexical IR methods [35 points] ### \n",
    "\n",
    "In this task you will implement a number of lexical methods for IR using the **Pyndri** framework. Then you will evaluate these methods on the dataset we have provided using **TREC Eval**.\n",
    "\n",
    "Use the **Pyndri** framework to get statistics of the documents (term frequency, document frequency, collection frequency; **you are not allowed to use the query functionality of Pyndri**) and implement the following scoring methods in **Python**:\n",
    "\n",
    "- [TF-IDF](http://nlp.stanford.edu/IR-book/html/htmledition/tf-idf-weighting-1.html) and \n",
    "- [BM25](http://nlp.stanford.edu/IR-book/html/htmledition/okapi-bm25-a-non-binary-model-1.html) with k1=1.2 and b=0.75. **[5 points]**\n",
    "- Language models ([survey](https://drive.google.com/file/d/0B-zklbckv9CHc0c3b245UW90NE0/view))\n",
    "    - Jelinek-Mercer (explore different values of 𝛌 in the range [0.1, 0.5, 0.9]). **[5 points]**\n",
    "    - Dirichlet Prior (explore different values of 𝛍 [500, 1000, 1500]). **[5 points]**\n",
    "    - Absolute discounting (explore different values of 𝛅 in the range [0.1, 0.5, 0.9]). **[5 points]**\n",
    "    - [Positional Language Models](http://sifaka.cs.uiuc.edu/~ylv2/pub/sigir09-plm.pdf) define a language model for each position of a document, and score a document based on the scores of its PLMs. The PLM is estimated based on propagated counts of words within a document through a proximity-based density function, which both captures proximity heuristics and achieves an effect of “soft” passage retrieval. Implement the PLM, all five kernels, but only the Best position strategy to score documents. Use 𝛔 equal to 50, and Dirichlet smoothing with 𝛍 optimized on the validation set (decide how to optimize this value yourself and motivate your decision in the report). **[10 points]**\n",
    "    \n",
    "Implement the above methods and report evaluation measures (on the test set) using the hyper parameter values you optimized on the validation set (also report the values of the hyper parameters). Use TREC Eval to obtain the results and report on `NDCG@10`, Mean Average Precision (`MAP@1000`), `Precision@5` and `Recall@1000`.\n",
    "\n",
    "For the language models, create plots showing `NDCG@10` with varying values of the parameters. You can do this by chaining small scripts using shell scripting (preferred) or execute trec_eval using Python's `subprocess`.\n",
    "\n",
    "Compute significance of the results using a [two-tailed paired Student t-test](https://docs.scipy.org/doc/scipy/reference/generated/scipy.stats.ttest_rel.html) **[5 points]**. Be wary of false rejection of the null hypothesis caused by the [multiple comparisons problem](https://en.wikipedia.org/wiki/Multiple_comparisons_problem). There are multiple ways to mitigate this problem and it is up to you to choose one.\n",
    "\n",
    "Analyse the results by identifying specific queries where different methods succeed or fail and discuss possible reasons that cause these differences. This is *very important* in order to understand who the different retrieval functions behave.\n",
    "\n",
    "**NOTE**: Don’t forget to use log computations in your calculations to avoid underflows. "
   ]
  },
  {
   "cell_type": "markdown",
   "metadata": {},
   "source": [
    "**IMPORTANT**: You should structure your code around the helper functions we provide below."
   ]
  },
  {
   "cell_type": "code",
   "execution_count": 15,
   "metadata": {},
   "outputs": [
    {
     "name": "stdout",
     "output_type": "stream",
     "text": [
      "Gathering statistics about 456 terms.\n",
      "Inverted index creation took 45.176279067993164 seconds.\n"
     ]
    }
   ],
   "source": [
    "import time\n",
    "import pyndri\n",
    "\n",
    "with open('./ap_88_89/topics_title', 'r') as f_topics:\n",
    "    queries = parse_topics([f_topics])\n",
    "\n",
    "index = pyndri.Index('index/')\n",
    "\n",
    "num_documents = index.maximum_document() - index.document_base()\n",
    "\n",
    "dictionary = pyndri.extract_dictionary(index)\n",
    "\n",
    "tokenized_queries = {\n",
    "    query_id: [dictionary.translate_token(token)\n",
    "               for token in index.tokenize(query_string)\n",
    "               if dictionary.has_token(token)]\n",
    "    for query_id, query_string in queries.items()}\n",
    "\n",
    "query_term_ids = set(\n",
    "    query_term_id\n",
    "    for query_term_ids in tokenized_queries.values()\n",
    "    for query_term_id in query_term_ids)\n",
    "\n",
    "print('Gathering statistics about', len(query_term_ids), 'terms.')\n",
    "\n",
    "# inverted index creation.\n",
    "\n",
    "start_time = time.time()\n",
    "document_lengths = {}\n",
    "unique_terms_per_document = {}\n",
    "\n",
    "inverted_index = collections.defaultdict(dict)\n",
    "collection_frequencies = collections.defaultdict(int)\n",
    "\n",
    "total_terms = 0\n",
    "\n",
    "for int_doc_id in range(index.document_base(), index.maximum_document()):\n",
    "    ext_doc_id, doc_token_ids = index.document(int_doc_id)\n",
    "\n",
    "    document_bow = collections.Counter(\n",
    "        token_id for token_id in doc_token_ids\n",
    "        if token_id > 0)\n",
    "    document_length = sum(document_bow.values())\n",
    "\n",
    "    document_lengths[int_doc_id] = document_length\n",
    "    total_terms += document_length\n",
    "\n",
    "    unique_terms_per_document[int_doc_id] = len(document_bow)\n",
    "\n",
    "    for query_term_id in query_term_ids:\n",
    "        assert query_term_id is not None\n",
    "\n",
    "        document_term_frequency = document_bow.get(query_term_id, 0)\n",
    "\n",
    "        if document_term_frequency == 0:\n",
    "            continue\n",
    "\n",
    "        collection_frequencies[query_term_id] += document_term_frequency\n",
    "        inverted_index[query_term_id][int_doc_id] = document_term_frequency\n",
    "\n",
    "avg_doc_length = total_terms / num_documents\n",
    "\n",
    "print('Inverted index creation took', time.time() - start_time, 'seconds.')"
   ]
  },
  {
   "cell_type": "code",
   "execution_count": 260,
   "metadata": {
    "collapsed": true,
    "scrolled": true
   },
   "outputs": [],
   "source": [
    "import time\n",
    "\n",
    "\n",
    "def run_retrieval(model_name, score_fn, parameter = None):\n",
    "    \"\"\"\n",
    "    Runs a retrieval method for all the queries and writes the TREC-friendly results in a file.\n",
    "    \n",
    "    :param model_name: the name of the model (a string)\n",
    "    :param score_fn: the scoring function (a function - see below for an example) \n",
    "    \"\"\"\n",
    "    run_out_path = '{}.run'.format(model_name)\n",
    "\n",
    "    if os.path.exists(run_out_path):\n",
    "        return\n",
    "\n",
    "    retrieval_start_time = time.time()\n",
    "\n",
    "    print('Retrieving using', model_name)\n",
    "    \n",
    "    data = {}\n",
    "    \n",
    "    # TODO: fill the data dictionary. \n",
    "    # The dictionary data should have the form: query_id --> (document_score, external_doc_id)\n",
    "\n",
    "    with open('./ap_88_89/topics_title', 'r') as f_topics:\n",
    "        query_list = parse_topics([f_topics])\n",
    "        \n",
    "    for query, sentence in query_list.items():\n",
    "        print('{:.1f}s: {}'.format(time.time() - retrieval_start_time, query))\n",
    "        query_ids = [token2id.get(word,0) for word in index.tokenize(sentence) if(token2id.get(word,0) > 0)]\n",
    "\n",
    "        document_scores = []\n",
    "        for document_id in range(index.document_base(), index.maximum_document()): # index.maximum_document()\n",
    "            if document_lengths[document_id] > 0:\n",
    "                document = index.document(document_id)\n",
    "                score = score_fn(document_id, query_ids)\n",
    "                document_scores.append((score, document[0]))\n",
    "\n",
    "        sorted(document_scores, reverse = True)\n",
    "        data[query] = document_scores               \n",
    "\n",
    "    with open(run_out_path, 'w') as f_out:\n",
    "        write_run(\n",
    "            model_name=model_name,\n",
    "            data=data,\n",
    "            out_f=f_out,\n",
    "            max_objects_per_query=1000)\n",
    "\n",
    "#run_retrieval('BM25', BM25)"
   ]
  },
  {
   "cell_type": "code",
   "execution_count": 168,
   "metadata": {},
   "outputs": [
    {
     "name": "stdout",
     "output_type": "stream",
     "text": [
      "Retrieving using PLM\n",
      "0.0s: 51\n",
      "2.5s: 52\n",
      "20.3s: 53\n",
      "21.7s: 54\n",
      "29.6s: 55\n",
      "35.5s: 56\n",
      "45.4s: 57\n",
      "45.7s: 58\n",
      "49.3s: 59\n",
      "54.6s: 60\n",
      "60.7s: 61\n",
      "81.3s: 62\n",
      "94.8s: 63\n",
      "96.7s: 64\n",
      "101.5s: 65\n",
      "108.9s: 66\n",
      "113.4s: 67\n",
      "120.5s: 68\n",
      "130.2s: 69\n",
      "140.1s: 70\n",
      "140.5s: 71\n",
      "146.7s: 72\n",
      "154.7s: 73\n",
      "158.2s: 74\n",
      "163.7s: 75\n",
      "163.8s: 76\n",
      "172.8s: 77\n",
      "173.0s: 78\n",
      "173.5s: 79\n",
      "193.2s: 80\n",
      "204.7s: 81\n",
      "214.6s: 82\n",
      "217.0s: 83\n",
      "221.8s: 84\n",
      "238.2s: 85\n",
      "244.1s: 86\n",
      "252.8s: 87\n",
      "263.8s: 88\n",
      "278.4s: 89\n",
      "286.5s: 90\n",
      "302.4s: 91\n",
      "316.2s: 92\n",
      "329.3s: 93\n",
      "335.9s: 94\n",
      "342.9s: 95\n",
      "352.0s: 96\n",
      "362.8s: 97\n",
      "364.5s: 98\n",
      "370.1s: 99\n",
      "382.8s: 100\n",
      "389.5s: 101\n",
      "409.8s: 102\n",
      "430.9s: 103\n",
      "435.8s: 104\n",
      "447.1s: 105\n",
      "460.0s: 106\n",
      "472.7s: 107\n",
      "484.0s: 108\n",
      "493.1s: 109\n",
      "501.4s: 110\n",
      "525.4s: 111\n",
      "535.0s: 112\n",
      "536.6s: 113\n",
      "549.6s: 114\n",
      "556.3s: 115\n",
      "566.0s: 116\n",
      "583.6s: 117\n",
      "593.7s: 118\n",
      "598.1s: 119\n",
      "602.6s: 120\n",
      "612.0s: 121\n",
      "618.8s: 122\n",
      "634.2s: 123\n",
      "641.9s: 124\n",
      "648.1s: 125\n",
      "660.5s: 126\n",
      "670.0s: 127\n",
      "686.0s: 128\n",
      "691.9s: 129\n",
      "711.5s: 130\n",
      "723.9s: 131\n",
      "734.9s: 132\n",
      "740.2s: 133\n",
      "748.9s: 134\n",
      "756.7s: 135\n",
      "761.7s: 136\n",
      "764.9s: 137\n",
      "779.7s: 138\n",
      "792.3s: 139\n",
      "806.2s: 140\n",
      "813.6s: 141\n",
      "826.1s: 142\n",
      "840.8s: 143\n",
      "851.9s: 144\n",
      "868.5s: 145\n",
      "882.3s: 146\n",
      "898.3s: 147\n",
      "909.3s: 148\n",
      "916.6s: 149\n",
      "918.8s: 150\n",
      "938.1s: 151\n",
      "939.8s: 152\n",
      "955.2s: 153\n",
      "978.1s: 154\n",
      "993.0s: 155\n",
      "1005.0s: 156\n",
      "1015.7s: 157\n",
      "1017.5s: 158\n",
      "1034.9s: 159\n",
      "1041.5s: 160\n",
      "1047.6s: 161\n",
      "1053.3s: 162\n",
      "1053.9s: 163\n",
      "1063.5s: 164\n",
      "1072.1s: 165\n",
      "1080.9s: 166\n",
      "1085.4s: 167\n",
      "1100.8s: 168\n",
      "1102.2s: 169\n",
      "1106.3s: 170\n",
      "1108.8s: 171\n",
      "1115.1s: 172\n",
      "1126.7s: 173\n",
      "1129.6s: 174\n",
      "1136.2s: 175\n",
      "1144.7s: 176\n",
      "1154.0s: 177\n",
      "1164.0s: 178\n",
      "1165.2s: 179\n",
      "1174.1s: 180\n",
      "1181.0s: 181\n",
      "1197.8s: 182\n",
      "1214.0s: 183\n",
      "1217.4s: 184\n",
      "1225.1s: 185\n",
      "1237.8s: 186\n",
      "1266.1s: 187\n",
      "1271.5s: 188\n",
      "1272.0s: 189\n",
      "1277.1s: 190\n",
      "1285.6s: 191\n",
      "1294.5s: 192\n",
      "1309.7s: 193\n",
      "1316.5s: 194\n",
      "1324.4s: 195\n",
      "1346.8s: 196\n",
      "1371.5s: 197\n",
      "1384.7s: 198\n",
      "1389.1s: 199\n",
      "1389.5s: 200\n"
     ]
    }
   ],
   "source": [
    "def run_retrieval_PLM(model_name, score_fn, parameter = None):\n",
    "    \"\"\"\n",
    "    Runs a retrieval method for all the queries and writes the TREC-friendly results in a file.\n",
    "    \n",
    "    :param model_name: the name of the model (a string)\n",
    "    :param score_fn: the scoring function (a function - see below for an example) \n",
    "    \"\"\"\n",
    "    run_out_path = '{}.run'.format(model_name)\n",
    "\n",
    "    if os.path.exists(run_out_path):\n",
    "        return\n",
    "\n",
    "    retrieval_start_time = time.time()\n",
    "\n",
    "    print('Retrieving using', model_name)\n",
    "    \n",
    "    data = {}\n",
    "    \n",
    "    # TODO: fill the data dictionary. \n",
    "    # The dictionary data should have the form: query_id --> (document_score, external_doc_id)\n",
    "\n",
    "    with open('./ap_88_89/topics_title', 'r') as f_topics:\n",
    "        query_list = parse_topics([f_topics])\n",
    "        \n",
    "    for query, sentence in query_list.items():\n",
    "        print('{:.1f}s: {}'.format(time.time() - retrieval_start_time, query))\n",
    "        query_ids = [token2id.get(word,0) for word in index.tokenize(sentence) if(token2id.get(word,0) > 0)]\n",
    "        \n",
    "        document_scores = []\n",
    "        for document_id in documents_1000[query]:\n",
    "            int_doc_id = external2int[document_id]\n",
    "            document = index.document(int_doc_id)\n",
    "            score = score_fn(int_doc_id, query_ids, query)\n",
    "            document_scores.append((score, document[0]))\n",
    "            \n",
    "        sorted(document_scores, reverse = True)\n",
    "        data[query] = document_scores               \n",
    "        \n",
    "\n",
    "    with open(run_out_path, 'w') as f_out:\n",
    "        write_run(\n",
    "            model_name=model_name,\n",
    "            data=data,\n",
    "            out_f=f_out,\n",
    "            max_objects_per_query=1000)\n",
    "\n",
    "run_retrieval_PLM('PLM', PLM_optimized)"
   ]
  },
  {
   "cell_type": "code",
   "execution_count": 169,
   "metadata": {
    "collapsed": true
   },
   "outputs": [],
   "source": [
    "index = pyndri.Index('index/')\n",
    "\n",
    "external2int = {}\n",
    "for int_doc_id in range(index.document_base(), index.maximum_document()):\n",
    "    ext_doc_id, _ = index.document(int_doc_id)\n",
    "    external2int[ext_doc_id] = int_doc_id"
   ]
  },
  {
   "cell_type": "code",
   "execution_count": 9,
   "metadata": {},
   "outputs": [
    {
     "name": "stdout",
     "output_type": "stream",
     "text": [
      "0.0\n"
     ]
    }
   ],
   "source": [
    "def tfidf(int_document_id, query_term_ids):\n",
    "    \"\"\"\n",
    "    Scoring function for a document and a query term\n",
    "    \n",
    "    :param int_document_id: the document id\n",
    "    :param query_token_id: the query term id (assuming you have split the query to tokens)\n",
    "    :param document_term_freq: the document term frequency of the query term \n",
    "    \"\"\"\n",
    "    tfidf_score = 0\n",
    "    \n",
    "    for query_term_id in query_term_ids:\n",
    "        tf = inverted_index[query_term_id].get(int_document_id, 0)\n",
    "        num_of_document = index.maximum_document() - index.document_base()\n",
    "\n",
    "        document_frequency = len(inverted_index[query_term_id])\n",
    "        \n",
    "        idf = numpy.log(num_of_document / document_frequency)\n",
    "\n",
    "        #tf_idf = numpy.log(1+numpy.log(tf)) * idf\n",
    "        #if tf is zero ???\n",
    "        tf_idf = numpy.log(1+tf) * idf\n",
    "\n",
    "        tfidf_score += tf_idf\n",
    "        \n",
    "    return tfidf_score\n",
    "\n",
    "#print(tfidf(223, [8]))\n",
    "print(tfidf(2, [5872, 3066]))\n",
    "\n",
    "\n",
    "tfidf_query_env = pyndri.TFIDFQueryEnvironment(index)\n",
    "results = tfidf_query_env.query(id2token[8], results_requested=10)\n",
    "\n",
    "# combining the two functions above: \n",
    "#run_retrieval('tfidf', tfidf)\n"
   ]
  },
  {
   "cell_type": "code",
   "execution_count": 10,
   "metadata": {},
   "outputs": [
    {
     "data": {
      "text/plain": [
       "1.1846073783530506"
      ]
     },
     "execution_count": 10,
     "metadata": {},
     "output_type": "execute_result"
    }
   ],
   "source": [
    "def BM25(int_document_id, query_term_ids, k1=1.2,b=0.75):\n",
    "    \n",
    "    BM25_score = 0\n",
    "    for query_term_id in query_term_ids:\n",
    "        tf = inverted_index[query_term_id].get(int_document_id, 0)\n",
    "        idf = 0 \n",
    "        num_of_document = index.maximum_document() - index.document_base()\n",
    "\n",
    "\n",
    "        document_frequency = len(inverted_index[query_term_id])\n",
    "        idf = numpy.log(num_of_document / document_frequency)\n",
    "\n",
    "        nominator = ((k1 + 1) * tf) * idf\n",
    "        denominator = k1 * ((1-b) + b * (document_lengths[int_document_id] / avg_doc_length)) + tf #document_length\n",
    "        BM25_score += nominator / denominator\n",
    "    \n",
    "    return BM25_score\n",
    "\n",
    "BM25(1, [11])"
   ]
  },
  {
   "cell_type": "code",
   "execution_count": 104,
   "metadata": {},
   "outputs": [
    {
     "data": {
      "text/plain": [
       "0.0010395506405139004"
      ]
     },
     "execution_count": 104,
     "metadata": {},
     "output_type": "execute_result"
    }
   ],
   "source": [
    "def Jelinek_Mercer(int_document_id, query_term_ids, lambda_ = 0.3):\n",
    "    \n",
    "    JM_score = 0\n",
    "    \n",
    "    document_length = document_lengths[int_document_id]\n",
    "    if document_length != 0:\n",
    "        for query_term in query_term_ids:\n",
    "            tf = inverted_index[query_term].get(int_document_id, 0)\n",
    "            collect_term_freq = collection_frequencies[query_term_id] / float(total_terms)\n",
    "\n",
    "            first = lambda_ * tf / document_length\n",
    "            second = (1-lambda_) * collect_term_freq\n",
    "            JM_score += first + second\n",
    "    else:\n",
    "        JM_score = 0\n",
    "    \n",
    "    return JM_score\n",
    "    \n",
    "Jelinek_Mercer(1, [11, 12])"
   ]
  },
  {
   "cell_type": "code",
   "execution_count": 105,
   "metadata": {},
   "outputs": [
    {
     "name": "stdout",
     "output_type": "stream",
     "text": [
      "Retrieving using Jelinek-Mercer_0.3\n",
      "0.0s: 51\n"
     ]
    }
   ],
   "source": [
    "run_retrieval('Jelinek-Mercer_0.3', Jelinek_Mercer)"
   ]
  },
  {
   "cell_type": "code",
   "execution_count": 13,
   "metadata": {},
   "outputs": [
    {
     "data": {
      "text/plain": [
       "0.00493691204460228"
      ]
     },
     "execution_count": 13,
     "metadata": {},
     "output_type": "execute_result"
    }
   ],
   "source": [
    "def Dirichlet(int_document_id,query_term_ids, mu=1500):\n",
    "    num_of_document = index.maximum_document() - index.document_base()\n",
    "    document_length = float(document_lengths[int_document_id])\n",
    "\n",
    "    dirichlet_score = 0\n",
    "    for query_term_id in query_term_ids:\n",
    "        \n",
    "        document_frequency = len(inverted_index[query_term_id])\n",
    "\n",
    "        tf = inverted_index[query_term_id].get(int_document_id, 0)\n",
    "        collect_term_freq = collection_frequencies[query_term_id] / float(total_terms)\n",
    "        \n",
    "        score = (tf + mu*collect_term_freq) / float(document_length + mu)\n",
    "        dirichlet_score += score\n",
    "    \n",
    "    return dirichlet_score\n",
    "\n",
    "Dirichlet(1, [11, 11])"
   ]
  },
  {
   "cell_type": "code",
   "execution_count": 14,
   "metadata": {},
   "outputs": [],
   "source": [
    "#run_retrieval('Dirichlet Prior_1500', Dirichlet) #[500, 1000, 1500]"
   ]
  },
  {
   "cell_type": "code",
   "execution_count": 184,
   "metadata": {
    "collapsed": true
   },
   "outputs": [],
   "source": [
    "corpus_size = sum([len(index.document(i)[1]) for i in range(index.document_base(), index.maximum_document())])\n"
   ]
  },
  {
   "cell_type": "code",
   "execution_count": 189,
   "metadata": {
    "collapsed": true
   },
   "outputs": [],
   "source": [
    "# Make corpus term frequency for language models with query terms only\n",
    "corpus_term_freqs = collections.defaultdict(lambda: 0, key = 0)\n",
    "\n",
    "for query_key in inverted_index.keys():\n",
    "    for document_key in inverted_index[query_key].keys():\n",
    "        corpus_term_freqs[query_key] += inverted_index[query_key][document_key]"
   ]
  },
  {
   "cell_type": "code",
   "execution_count": 261,
   "metadata": {
    "collapsed": true
   },
   "outputs": [],
   "source": [
    "def Absolute_Discounting(int_document_id,query_term_ids, delta = 0.5):\n",
    "    document_length = float(document_lengths[int_document_id])\n",
    "    unique_words = unique_terms_per_document.get(int_document_id, 0)\n",
    "    if document_length == 0:\n",
    "        return 0\n",
    "    \n",
    "    AD_score = 0\n",
    "    for query_term_id in query_term_ids:\n",
    "        document_term_freq = inverted_index[query_term_id].get(int_document_id, 0) \n",
    "\n",
    "        background_lm = background_model[query_term_id]\n",
    "        score = (max(document_term_freq - delta, 0) / document_length\n",
    "                 + (delta * unique_words / document_length) * background_lm)\n",
    "\n",
    "        AD_score += numpy.log(score)\n",
    "                \n",
    "    return AD_score"
   ]
  },
  {
   "cell_type": "code",
   "execution_count": 262,
   "metadata": {},
   "outputs": [
    {
     "name": "stdout",
     "output_type": "stream",
     "text": [
      "-20.498498202129973\n",
      "-21.269758949343647\n",
      "-22.177319747313014\n",
      "-22.649386331692774\n"
     ]
    }
   ],
   "source": [
    "\n",
    "with open('./ap_88_89/topics_title', 'r') as f_topics:\n",
    "    query_list = parse_topics([f_topics])\n",
    "\n",
    "sentence = query_list[107]\n",
    "query_ids = [token2id.get(word,0) for word in index.tokenize(sentence) if(token2id.get(word,0) > 0)]\n",
    "\n",
    "print(Absolute_Discounting(external2int['AP890217-0193'],query_ids))\n",
    "\n",
    "print(Absolute_Discounting(external2int['AP880803-0278'],query_ids))\n",
    "print(Absolute_Discounting(external2int['AP880218-0243'],query_ids))\n",
    "print(Absolute_Discounting(external2int['AP880824-0081'],query_ids))\n",
    "\n",
    "\n",
    "# print(absolute_discounting(external2int['AP891020-0110'], query_ids))\n"
   ]
  },
  {
   "cell_type": "code",
   "execution_count": null,
   "metadata": {},
   "outputs": [
    {
     "name": "stdout",
     "output_type": "stream",
     "text": [
      "Retrieving using Absolute_Discounting_0.5-LAST\n",
      "0.0s: 51\n",
      "8.0s: 52\n",
      "16.5s: 53\n",
      "24.6s: 54\n",
      "34.2s: 55\n",
      "43.0s: 56\n",
      "53.6s: 57\n"
     ]
    }
   ],
   "source": [
    "run_retrieval('Absolute_Discounting_0.5-LAST', Absolute_Discounting) #[0.1, 0.5, 0.9]"
   ]
  },
  {
   "cell_type": "code",
   "execution_count": 17,
   "metadata": {
    "collapsed": true,
    "scrolled": true
   },
   "outputs": [],
   "source": [
    "import math\n",
    "#Kernel Functions\n",
    "\n",
    "def Gaussian(i, j, sigma):\n",
    "    value = math.exp(-(i-j)**2 / 2*sigma**2)\n",
    "    return value\n",
    "\n",
    "def Triangle(i, j, sigma):\n",
    "    if abs(i-j) <= sigma:\n",
    "        value = 1 - abs(i-j)/sigma\n",
    "    else:\n",
    "        value =  0\n",
    "    return value\n",
    "\n",
    "def Cosine(i, j, sigma):\n",
    "    if abs(i-j) <= sigma:\n",
    "        value =  0.5 * (1+math.cos(abs(i-j)*math.pi/sigma))\n",
    "    else:\n",
    "        value = 0\n",
    "    \n",
    "    return value\n",
    "\n",
    "\n",
    "def Circle(i, j, sigma):\n",
    "    if abs(i-j) <= sigma:\n",
    "        value = math.sqrt(1 - (abs(i-j)/sigma)**2)\n",
    "    else:\n",
    "        value = 0\n",
    "    return value\n",
    "\n",
    "# print(Circle(1,3,4))\n",
    "# print(Cosine(1,3,4))\n",
    "# print(Triangle(1,3,4))\n",
    "# print(Gaussian(1,3,4))\n",
    "\n",
    "def Passage(i, j, sigma):\n",
    "    if abs(i-j) <= sigma:\n",
    "        return 1\n",
    "    else:\n",
    "        return 0\n",
    "    \n"
   ]
  },
  {
   "cell_type": "code",
   "execution_count": 18,
   "metadata": {
    "collapsed": true
   },
   "outputs": [],
   "source": [
    "# taken from https://introcs.cs.princeton.edu/java/21function/ErrorFunction.java.html\n",
    "\"\"\"\n",
    "// fractional error less than x.xx * 10 ^ -4.\n",
    "    // Algorithm 26.2.17 in Abromowitz and Stegun, Handbook of Mathematical.\n",
    "    public static double erf2(double z) {\n",
    "        double t = 1.0 / (1.0 + 0.47047 * Math.abs(z));\n",
    "        double poly = t * (0.3480242 + t * (-0.0958798 + t * (0.7478556)));\n",
    "        double ans = 1.0 - poly * Math.exp(-z*z);\n",
    "        if (z >= 0) return  ans;\n",
    "        else        return -ans;\n",
    "    }\n",
    "\n",
    "    // cumulative normal distribution\n",
    "    // See Gaussia.java for a better way to compute Phi(z)\n",
    "    public static double Phi(double z) {\n",
    "        return 0.5 * (1.0 + erf(z / (Math.sqrt(2.0))));\n",
    "    }\n",
    "\"\"\"\n",
    "\n",
    "def erf2(z):\n",
    "    t = 1.0 / (1.0 + 0.47047 * math.fabs(z))\n",
    "    poly = t * (0.3480242 + t * (-0.0958798 + t * (0.7478556)))\n",
    "    ans = 1.0 - poly * math.exp(-z*z)\n",
    "    \n",
    "    if z >= 0:\n",
    "        return ans\n",
    "    else:\n",
    "        return -ans\n",
    "\n",
    "def Phi(z):\n",
    "    return 0.5 * (1.0 + erf2(z / (math.sqrt(2.0))))"
   ]
  },
  {
   "cell_type": "code",
   "execution_count": 77,
   "metadata": {
    "collapsed": true
   },
   "outputs": [],
   "source": [
    "##### PREPROCESS BEFORE PLM ##########\n",
    "\n",
    "#### Get the first 1000 documents per query\n",
    "file = open('tfidf.run', 'r')  \n",
    "lines = file.readlines()\n",
    "\n",
    "documents_1000 = {} ### dictionary query -> document\n",
    "\n",
    "for line in lines:\n",
    "    tokens = line.split()\n",
    "    query = tokens[0]\n",
    "    query_id = int(query)\n",
    "    if query_id in documents_1000.keys():\n",
    "        documents_1000[query_id].append(tokens[2])\n",
    "    else:\n",
    "        documents_1000[query_id] = [tokens[2]]\n",
    "        \n"
   ]
  },
  {
   "cell_type": "code",
   "execution_count": 217,
   "metadata": {
    "collapsed": true
   },
   "outputs": [],
   "source": [
    "######### CREATING BACKGROUND LANGUAGE MODEL #####\n",
    "\n",
    "from collections import defaultdict\n",
    "import numpy as np\n",
    "\n",
    "####### p(w|C) ######\n",
    "background_model = defaultdict(lambda:0) #dictionary word -> P(w|C)\n",
    "for doc_id in np.arange(index.document_base(), index.maximum_document()):\n",
    "    doc = index.document(doc_id)\n",
    "    for word in doc[1]:\n",
    "        background_model[word] += 1\n",
    "\n",
    "\n",
    "sum_ = sum(background_model.values())\n",
    "for key in background_model.keys():\n",
    "    background_model[key] = background_model[key]/sum_\n",
    "#######################\n",
    "\n"
   ]
  },
  {
   "cell_type": "code",
   "execution_count": 22,
   "metadata": {},
   "outputs": [],
   "source": [
    "######### INVERTED INDEX QUERY POSITIONS ###########\n",
    "import time\n",
    "\n",
    "term_positions_per_doc = {} #dictionary term -> {document_id -> positions}\n",
    "\n",
    "start = time.time()\n",
    "query_terms = set()\n",
    "for key, value in tokenized_queries.items():\n",
    "    for term in value:\n",
    "        query_terms.add(term)  \n",
    "i =0\n",
    "for qt_id in query_terms:\n",
    "    i += 1\n",
    "    for int_doc_id in range(index.document_base(), index.maximum_document()):\n",
    "        tf = inverted_index[qt_id].get(int_doc_id, 0)\n",
    "        if tf > 0:\n",
    "            doc_term_ids = np.array(index.document(int_doc_id)[1])\n",
    "            if not qt_id in term_positions_per_doc:\n",
    "                term_positions_per_doc[qt_id] = {}\n",
    "            term_positions_per_doc[qt_id][int_doc_id] = qt_positions\n",
    "    #print('{:.3f}s: {}'.format(time.time() - start, i ))\n",
    "\n",
    "\n",
    "\n"
   ]
  },
  {
   "cell_type": "code",
   "execution_count": 161,
   "metadata": {},
   "outputs": [
    {
     "name": "stdout",
     "output_type": "stream",
     "text": [
      "2939\n"
     ]
    }
   ],
   "source": [
    "def max_length():\n",
    "    max_ = 0\n",
    "    for document_id in range(index.document_base(), index.maximum_document()): \n",
    "        max_ = max(max_, len(index.document(document_id)[1]))\n",
    "        \n",
    "    return max_\n",
    "\n",
    "max_length_ = max_length()\n",
    "\n",
    "print(max_length_)"
   ]
  },
  {
   "cell_type": "code",
   "execution_count": 167,
   "metadata": {},
   "outputs": [],
   "source": [
    "######## CALCULATING Z VALUES IN ADVANCED #####\n",
    "\n",
    "#Zi values per document length and position i\n",
    "Z_values = {} #dictionary document_length -> list of i values from 0 to document length\n",
    "min_length = min(document_lengths.values())\n",
    "max_length = 2939\n",
    "sigma = 50\n",
    "for document_length in range(1, max_length+1):\n",
    "    pos = []\n",
    "    for i in range(0, document_length):\n",
    "        zi = math.sqrt(2*math.pi*sigma*sigma)*(Phi((document_length-i)/sigma) - Phi((1-i)/sigma))\n",
    "        pos.append(zi)\n",
    "    Z_values[document_length] = pos\n",
    "\n"
   ]
  },
  {
   "cell_type": "code",
   "execution_count": 165,
   "metadata": {},
   "outputs": [
    {
     "data": {
      "text/plain": [
       "-7.761565215236459"
      ]
     },
     "execution_count": 165,
     "metadata": {},
     "output_type": "execute_result"
    }
   ],
   "source": [
    "import numpy as np\n",
    "######################################################################\n",
    "\n",
    "def PLM_optimized(document_id ,query_id_tokens, query_id, kernel_method = Gaussian, mu=1000, sigma=50):\n",
    "    document = index.document(document_id)\n",
    "    document_terms = np.array(document[1])\n",
    "    doc_length = len(document[1])\n",
    "    \n",
    "    sqd = -100000 # S(Q,D)\n",
    "    \n",
    "    run_per_query = time.time()\n",
    "\n",
    "    #positions = [term_positions_per_doc[qt_id].get(document_id, []) for qt_id in query_id_tokens]\n",
    "    \n",
    "    positions = []\n",
    "    \n",
    "    for qt_id in query_id_tokens:\n",
    "        if document_id in inverted_index[qt_id]:\n",
    "            positions += term_positions_per_doc[qt_id].get(document_id, [])\n",
    "        \n",
    "    if not positions: # no query terms in document\n",
    "        positions = [0] # position with lowest Zi value is at the edge\n",
    "    pos_min = min(positions)\n",
    "    pos_max = max(positions) + 1\n",
    "    index_range = range(pos_min, pos_max)\n",
    "\n",
    "    for i in index_range:\n",
    "        sqdi = 0 # S(Q,D,i)\n",
    "        \n",
    "        zi = Z_values[doc_length][i]\n",
    "\n",
    "        for query_term in set(query_id_tokens):\n",
    "            C_wi = 0\n",
    "\n",
    "            if document_id in inverted_index[query_term]:\n",
    "                query_term_indices = term_positions_per_doc[query_term][document_id]\n",
    "\n",
    "                for j in query_term_indices:\n",
    "                    C_wi += kernel_method(i,j,sigma)\n",
    "\n",
    "            pwc = background_model[query_term] # p(w|C)\n",
    "         \n",
    "            pwdi = (C_wi+mu*pwc) / (zi+mu) # p(w|D,i)\n",
    "\n",
    "            pwq = 0 # p(w|Q)\n",
    "\n",
    "            if query_term > 0:\n",
    "                pwq = query_id_tokens.count(query_term) / float(len(query_id_tokens))       \n",
    "\n",
    "            if pwq/pwdi != 0:\n",
    "                sqdi -= pwq * math.log(pwq/pwdi)\n",
    "\n",
    "        sqd = max(sqd, sqdi)\n",
    "\n",
    "    #print('{:.4f}s: {}'.format(time.time() - run_per_query, sqd))\n",
    "\n",
    "    return sqd\n",
    "\n",
    "\n",
    "#query = \"weather related fatalities\"\n",
    "#term_list = [token2id.get(term,0) for term in query.split()]\n",
    "term_list = [19282,\n",
    "  29,\n",
    "  106525]\n",
    "# term_list.append(363)\n",
    "# term_list.append(880)\n",
    "# term_list.append(1360)\n",
    "#term_list.append(412)\n",
    "#term_list.append(92160)\n",
    "\n",
    "\n",
    "\n",
    "PLM_optimized(121854, [5465, 276, 1633, 1704, 3895], 76)\n"
   ]
  },
  {
   "cell_type": "code",
   "execution_count": 67,
   "metadata": {
    "scrolled": true
   },
   "outputs": [
    {
     "data": {
      "image/png": "[encoded data removed]",
      "text/plain": [
       "<matplotlib.figure.Figure at 0x125e6d128>"
      ]
     },
     "metadata": {},
     "output_type": "display_data"
    },
    {
     "data": {
      "image/png": "[encoded data removed]",
      "text/plain": [
       "<matplotlib.figure.Figure at 0x12688b908>"
      ]
     },
     "metadata": {},
     "output_type": "display_data"
    },
    {
     "data": {
      "image/png": "[encoded data removed]",
      "text/plain": [
       "<matplotlib.figure.Figure at 0x1268bab00>"
      ]
     },
     "metadata": {},
     "output_type": "display_data"
    }
   ],
   "source": [
    "import matplotlib.pyplot as plt\n",
    "import subprocess\n",
    "\n",
    "def plot_parameter_values(model_name, params, measure):\n",
    "    \n",
    "    ndcgs = []\n",
    "    for param in params:\n",
    "        file_name = model_name + '_' + str(param) + '.run'\n",
    "        \n",
    "        ev_methods = measures[measure]\n",
    "        qrel_set = 'ap_88_89/qrel_validation'\n",
    "        cmd = '/Users/basaktugceeskili/trec_eval/trec_eval -m all_trec -q \"' + qrel_set + '\" \"' + file_name + '\" | grep -E \"' + ev_methods + '\"'\n",
    "        ndcg = float(subprocess.check_output(cmd, shell=True).decode('utf-8').split('\\t')[2].strip())\n",
    "        ndcgs += [ndcg]\n",
    "    \n",
    "    plt.title(model_name + ' hyper parameter values')\n",
    "    plt.plot(params, ndcgs)\n",
    "    plt.xlabel('hyper parameter value')\n",
    "    plt.ylabel('ndcg')\n",
    "    plt.show()\n",
    "\n",
    "plot_parameter_values('Jelinek-Mercer', [0.1, 0.5, 0.9], 'recall')\n",
    "plot_parameter_values('Jelinek-Mercer', [0.1, 0.5, 0.9], 'map')\n",
    "plot_parameter_values('Jelinek-Mercer', [0.1, 0.5, 0.9], 'ndcg')\n",
    "\n",
    "\n"
   ]
  },
  {
   "cell_type": "code",
   "execution_count": 73,
   "metadata": {
    "scrolled": true
   },
   "outputs": [
    {
     "data": {
      "image/png": "[encoded data removed]",
      "text/plain": [
       "<matplotlib.figure.Figure at 0x1270692e8>"
      ]
     },
     "metadata": {},
     "output_type": "display_data"
    },
    {
     "data": {
      "image/png": "[encoded data removed]",
      "text/plain": [
       "<matplotlib.figure.Figure at 0x126c18d30>"
      ]
     },
     "metadata": {},
     "output_type": "display_data"
    },
    {
     "data": {
      "image/png": "[encoded data removed]",
      "text/plain": [
       "<matplotlib.figure.Figure at 0x126b8f358>"
      ]
     },
     "metadata": {},
     "output_type": "display_data"
    }
   ],
   "source": [
    "plot_parameter_values('Dirichlet-Prior', [500, 1000, 1500], \"recall\")\n",
    "plot_parameter_values('Dirichlet-Prior', [500, 1000, 1500], \"ndcg\")\n",
    "plot_parameter_values('Dirichlet-Prior', [500, 1000, 1500], \"map\")"
   ]
  },
  {
   "cell_type": "code",
   "execution_count": 131,
   "metadata": {
    "scrolled": true
   },
   "outputs": [
    {
     "data": {
      "image/png": "[encoded data removed]",
      "text/plain": [
       "<matplotlib.figure.Figure at 0x12701a8d0>"
      ]
     },
     "metadata": {},
     "output_type": "display_data"
    },
    {
     "data": {
      "image/png": "[encoded data removed]",
      "text/plain": [
       "<matplotlib.figure.Figure at 0x126d505c0>"
      ]
     },
     "metadata": {},
     "output_type": "display_data"
    },
    {
     "data": {
      "image/png": "[encoded data removed]",
      "text/plain": [
       "<matplotlib.figure.Figure at 0x125e1f630>"
      ]
     },
     "metadata": {},
     "output_type": "display_data"
    }
   ],
   "source": [
    "plot_parameter_values('Absolute_Discounting', [0.1, 0.5, 0.9], 'recall')\n",
    "plot_parameter_values('Absolute_Discounting', [0.1, 0.5, 0.9], 'ndcg')\n",
    "plot_parameter_values('Absolute_Discounting', [0.1, 0.5, 0.9], 'map')"
   ]
  },
  {
   "cell_type": "code",
   "execution_count": 162,
   "metadata": {},
   "outputs": [
    {
     "data": {
      "text/plain": [
       "512"
      ]
     },
     "execution_count": 162,
     "metadata": {},
     "output_type": "execute_result"
    }
   ],
   "source": [
    "import subprocess\n",
    "\n",
    "# file_name = \"tfidf\" + '.run'\n",
    "# file_name = 'Absolute_Discounting_0.5.run'\n",
    "# file_name2 = 'absolute_discounting0.5.run'\n",
    "\n",
    "\n",
    "# ev_methods = '(ndcg_cut_10(\\s)*all)'\n",
    "# qrel_set = 'ap_88_89/qrel_validation'\n",
    "# cmd = '/Users/basaktugceeskili/trec_eval/trec_eval -m all_trec -q \"' + qrel_set + '\" \"' + file_name + '\" | grep -E \"' + ev_methods + '\"'\n",
    "# ndcg = float(subprocess.check_output(cmd, shell=True).decode('utf-8').split('\\t')[2].strip())\n",
    "\n",
    "# print(ndcg)\n",
    "\n",
    "# # os.system(\"/Users/basaktugceeskili/trec_eval/trec_eval -m all_trec -q {1} {0} > {0}.txt\".format(file_name, qrel_set))\n",
    "# file_name = 'absolute_discounting0.5.run'\n",
    "\n",
    "\n",
    "# ev_methods = '(ndcg_cut_10(\\s)*all)'\n",
    "# qrel_set = 'ap_88_89/qrel_validation'\n",
    "# cmd = '/Users/basaktugceeskili/trec_eval/trec_eval -m all_trec -q \"' + qrel_set + '\" \"' + file_name + '\" | grep -E \"' + ev_methods + '\"'\n",
    "# ndcg = float(subprocess.check_output(cmd, shell=True).decode('utf-8').split('\\t')[2].strip())\n",
    "\n",
    "# print(ndcg)\n",
    "\n",
    "\n",
    "os.system(\"/Users/basaktugceeskili/trec_eval/trec_eval -m all_trec -q ap_88_89/qrel_test 'absolute_discounting0.5.run' > 'absolute_discounting0.5.txt\")"
   ]
  },
  {
   "cell_type": "code",
   "execution_count": 163,
   "metadata": {},
   "outputs": [
    {
     "data": {
      "text/plain": [
       "0"
      ]
     },
     "execution_count": 163,
     "metadata": {},
     "output_type": "execute_result"
    }
   ],
   "source": [
    "import subprocess\n",
    "\n",
    "# file_name = \"PLM\" + '.run'\n",
    "# ev_methods = '(recall_1000\\s*all)'\n",
    "# qrel_set = 'ap_88_89/qrel_validation'\n",
    "# cmd = '/Users/basaktugceeskili/trec_eval/trec_eval -m all_trec -q \"' + qrel_set + '\" \"' + file_name + '\" | grep -E \"' + ev_methods + '\"'\n",
    "# recall_1000 = float(subprocess.check_output(cmd, shell=True).decode('utf-8').split('\\t')[2].strip())\n",
    "\n",
    "# os.system(\"/Users/basaktugceeskili/trec_eval/trec_eval -m all_trec -q {1} {0} > {0}.txt\".format(file_name, qrel_set))\n",
    "\n",
    "# file_name = 'absolute_discounting0.5.run'\n",
    "\n",
    "\n",
    "os.system(\"/Users/basaktugceeskili/trec_eval/trec_eval -m all_trec -q ap_88_89/qrel_test absolute_discounting0.5.run > absolute_discounting.txt\")"
   ]
  },
  {
   "cell_type": "code",
   "execution_count": 143,
   "metadata": {},
   "outputs": [
    {
     "name": "stdout",
     "output_type": "stream",
     "text": [
      "tfidf.run\n",
      "0.4169\n",
      "BM25.run\n",
      "0.4086\n",
      "Jelinek-Mercer_0.5.run\n",
      "0.1287\n",
      "Dirichlet-Prior_500.run\n",
      "0.1992\n",
      "Absolute_Discounting_0.5.run\n",
      "0.1471\n",
      "PLM.run\n",
      "0.1649\n"
     ]
    }
   ],
   "source": [
    "import subprocess\n",
    "from scipy import stats\n",
    "\n",
    "\n",
    "def get_scores_per_query(filename, measure):\n",
    "    file = open(filename, 'r')  \n",
    "    lines = file.readlines()\n",
    "\n",
    "    scores = []\n",
    "\n",
    "    for line in lines:\n",
    "        tokens = line.split()\n",
    "        if tokens[0] == measure:\n",
    "            scores.append(float(tokens[2]))\n",
    "\n",
    "    return scores\n",
    "\n",
    "# compare algorithms against tf-idf and perform t-test\n",
    "measures = {}\n",
    "measures[\"recall\"] = '(recall_1000\\s*all)'\n",
    "measures[\"map\"] = '(map_cut_1000\\s*all)'\n",
    "measures[\"ndcg\"] = '(ndcg_cut_10(\\s)*all)'\n",
    "\n",
    "metrics = {}\n",
    "metrics[\"recall\"] = 'recall_1000'\n",
    "metrics[\"map\"] = 'map_cut_1000'\n",
    "metrics[\"ndcg\"] = 'ndcg_cut_10'\n",
    "\n",
    "\n",
    "\n",
    "\n",
    "def get_eval_score(model_name, measure, param= None):\n",
    "    \n",
    "    if param == None:\n",
    "        file_name = model_name + '.run'\n",
    "    \n",
    "    else:\n",
    "        file_name = model_name + '_' + str(param) + '.run'\n",
    "\n",
    "    print(file_name)\n",
    "    \n",
    "    ev_methods = measures[measure]\n",
    "    \n",
    "    qrel_set = 'ap_88_89/qrel_test'\n",
    "    #cmd = '/Users/basaktugceeskili/trec_eval/trec_eval -m all_trec -q \"' + qrel_set + '\" \"' + file_name + '\" | grep -E \"' + ev_methods + ' | tee ' + \"eval\\/\" +file_name + '.eval' \n",
    "    \n",
    "    os.system(\"/Users/basaktugceeskili/trec_eval/trec_eval -m all_trec -q {1} {0} > {0}.txt\".format(file_name, qrel_set))\n",
    "    \n",
    "    cmd = '/Users/basaktugceeskili/trec_eval/trec_eval -m all_trec -q \"' + qrel_set + '\" \"' + file_name + '\" | grep -E \"' + ev_methods +'\"'\n",
    "    \n",
    "    result_ave = float(subprocess.check_output(cmd, shell=True).decode('utf-8').split('\\t')[2].strip())\n",
    "    print(result_ave)\n",
    "    \n",
    "    scores = get_scores_per_query(file_name +'.txt', metrics[measure])\n",
    "    \n",
    "    return scores\n",
    "\n",
    "\n",
    "\n",
    "def get_test_scores(measure):\n",
    "    scores_list = []\n",
    "    scores_list.append(get_eval_score(\"tfidf\",measure))\n",
    "    scores_list.append(get_eval_score(\"BM25\", measure)) \n",
    "    scores_list.append(get_eval_score(\"Jelinek-Mercer\",measure, 0.5))\n",
    "    scores_list.append(get_eval_score(\"Dirichlet-Prior\", measure,500))\n",
    "    scores_list.append(get_eval_score(\"Absolute_Discounting\",measure, 0.5)) \n",
    "    scores_list.append(get_eval_score(\"PLM\",measure)) \n",
    "\n",
    "\n",
    "    return scores_list\n",
    "    \n",
    "def t_test(scores_list, alpha = .05):\n",
    " \n",
    "    # number of comparisons\n",
    "    num_trials = len(scores_list)-1\n",
    "    m1 = scores_list[0]\n",
    "    pvalues = []\n",
    "    t_stats = []\n",
    "    for m2 in scores_list[1::]:\n",
    "        t_stat, p_val = stats.ttest_rel(m1, m2)\n",
    "        pvalues.append(p_val)\n",
    "        t_stats.append(t_stat)\n",
    "        \n",
    "    #pvalues = np.asarray(pvalues) * num_trials\n",
    "    return p_vals, np.asarray(t_stats)\n",
    "\n",
    "scores_list = get_test_scores(\"ndcg\")\n"
   ]
  },
  {
   "cell_type": "code",
   "execution_count": 123,
   "metadata": {},
   "outputs": [
    {
     "data": {
      "text/plain": [
       "121"
      ]
     },
     "execution_count": 123,
     "metadata": {},
     "output_type": "execute_result"
    }
   ],
   "source": [
    "file_name = 'Absolute_Discounting_0.5-log.run.txt'\n",
    "scores = get_scores_per_query(file_name, metrics[\"recall\"])\n",
    "\n",
    "len(scores_list[0])"
   ]
  },
  {
   "cell_type": "code",
   "execution_count": 144,
   "metadata": {},
   "outputs": [
    {
     "name": "stdout",
     "output_type": "stream",
     "text": [
      "Ttest_relResult(statistic=10.510327858672088, pvalue=1.0273007415380182e-18)\n"
     ]
    }
   ],
   "source": [
    "print(stats.ttest_rel(scores_list[1], scores_list[4]))\n"
   ]
  },
  {
   "cell_type": "markdown",
   "metadata": {},
   "source": [
    "### Task 2: Latent Semantic Models (LSMs) [15 points] ###\n",
    "\n",
    "In this task you will experiment with applying distributional semantics methods ([LSI](http://lsa3.colorado.edu/papers/JASIS.lsi.90.pdf) **[5 points]** and [LDA](https://www.cs.princeton.edu/~blei/papers/BleiNgJordan2003.pdf) **[5 points]**) for retrieval.\n",
    "\n",
    "You do not need to implement LSI or LDA on your own. Instead, you can use [gensim](http://radimrehurek.com/gensim/index.html). An example on how to integrate Pyndri with Gensim for word2vec can be found [here](https://github.com/cvangysel/pyndri/blob/master/examples/word2vec.py). For the remaining latent vector space models, you will need to implement connector classes (such as `IndriSentences`) by yourself.\n",
    "\n",
    "In order to use a latent semantic model for retrieval, you need to:\n",
    "   * build a representation of the query **q**,\n",
    "   * build a representation of the document **d**,\n",
    "   * calculate the similarity between **q** and **d** (e.g., cosine similarity, KL-divergence).\n",
    "     \n",
    "The exact implementation here depends on the latent semantic model you are using. \n",
    "   \n",
    "Each of these LSMs come with various hyperparameters to tune. Make a choice on the parameters, and explicitly mention the reasons that led you to these decisions. You can use the validation set to optimize hyper parameters you see fit; motivate your decisions. In addition, mention clearly how the query/document representations were constructed for each LSM and explain your choices.\n",
    "\n",
    "In this experiment, you will first obtain an initial top-1000 ranking for each query using TF-IDF in **Task 1**, and then re-rank the documents using the LSMs. Use TREC Eval to obtain the results and report on `NDCG@10`, Mean Average Precision (`MAP@1000`), `Precision@5` and `Recall@1000`.\n",
    "\n",
    "Perform significance testing **[5 points]** (similar as in Task 1) in the class of semantic matching methods."
   ]
  },
  {
   "cell_type": "code",
   "execution_count": null,
   "metadata": {
    "collapsed": true
   },
   "outputs": [],
   "source": []
  },
  {
   "cell_type": "code",
   "execution_count": 58,
   "metadata": {},
   "outputs": [
    {
     "name": "stdout",
     "output_type": "stream",
     "text": [
      "-1.2075766015838254\n"
     ]
    }
   ],
   "source": []
  },
  {
   "cell_type": "code",
   "execution_count": null,
   "metadata": {
    "collapsed": true
   },
   "outputs": [],
   "source": []
  },
  {
   "cell_type": "markdown",
   "metadata": {},
   "source": [
    "### Task 3:  Word embeddings for ranking [20 points] (open-ended) ###\n",
    "\n",
    "First create word embeddings on the corpus we provided using [word2vec](http://arxiv.org/abs/1411.2738) -- [gensim implementation](https://radimrehurek.com/gensim/models/word2vec.html). You should extract the indexed documents using pyndri and provide them to gensim for training a model (see example [here](https://github.com/nickvosk/pyndri/blob/master/examples/word2vec.py)).\n",
    "   \n",
    "This is an open-ended task. It is left up you to decide how you will combine word embeddings to derive query and document representations. Note that since we provide the implementation for training word2vec, you will be graded based on your creativity on combining word embeddings for building query and document representations.\n",
    "\n",
    "Note: If you want to experiment with pre-trained word embeddings on a different corpus, you can use the word embeddings we provide alongside the assignment (./data/reduced_vectors_google.txt.tar.gz). These are the [google word2vec word embeddings](https://code.google.com/archive/p/word2vec/), reduced to only the words that appear in the document collection we use in this assignment."
   ]
  },
  {
   "cell_type": "code",
   "execution_count": 1,
   "metadata": {},
   "outputs": [
    {
     "name": "stdout",
     "output_type": "stream",
     "text": [
      "0.0s: Loading pyndri index\n",
      "0.4s: Converting to IndriSentences\n",
      "0.4s: Loading cached Gensim word2vec model if available\n",
      "1.2s: Loaded cached gensim word2vec model\n",
      "1.2s: Done for now\n"
     ]
    }
   ],
   "source": [
    "# Training the Gensim word2vec model ourselves for 5 epochs, like in the example\n",
    "# code. This process took about 90 minutes, so we pickled the final model (250MB)\n",
    "# and provide it in our submission.\n",
    "\n",
    "import copy\n",
    "import pyndri\n",
    "import pyndri.compat\n",
    "import sys\n",
    "import time\n",
    "from gensim import corpora, models, similarities\n",
    "import pickle\n",
    "import gensim\n",
    "\n",
    "start_time = time.time()\n",
    "print('{:.1f}s: Loading pyndri index'.format(time.time() - start_time))\n",
    "index = pyndri.Index('index/')\n",
    "dictionary = pyndri.extract_dictionary(index)\n",
    "\n",
    "print('{:.1f}s: Converting to IndriSentences'.format(time.time() - start_time))\n",
    "sentences = pyndri.compat.IndriSentences(index, dictionary)\n",
    "\n",
    "# print('{:.1f}s: Test IndriSentences'.format(time.time() - start_time))\n",
    "# for i, doc in enumerate(sentences):\n",
    "#     if i>=3:\n",
    "#         break\n",
    "#     print(doc)\n",
    "\n",
    "is_model_trained_already = False\n",
    "print('{:.1f}s: Loading cached Gensim word2vec model if available'.format(time.time() - start_time))\n",
    "try:\n",
    "    with open('trained_word2vec_after_5_epoch.pickle', 'rb') as f:\n",
    "        gensim_embeddings = pickle.load(f).wv\n",
    "    print('{:.1f}s: Loaded cached gensim word2vec model'.format(time.time() - start_time))\n",
    "    is_model_trained_already = True\n",
    "except:\n",
    "    print('{:.1f}s: Nope'.format(time.time() - start_time))\n",
    "\n",
    "\n",
    "if not is_model_trained_already:\n",
    "    print('{:.1f}s: Starting process of training model (est. 90 minutes total)'.format(time.time() - start_time))\n",
    "    print('{:.1f}s: Building vocab (estimated 220 seconds)'.format(time.time() - start_time))\n",
    "    word2vec_init = gensim.models.Word2Vec(\n",
    "        size=300,  # Embedding size\n",
    "        window=5,  # One-sided window size\n",
    "        sg=True,  # Skip-gram.\n",
    "        min_count=5,  # Minimum word frequency.\n",
    "        sample=1e-3,  # Sub-sample threshold.\n",
    "        hs=False,  # Hierarchical softmax.\n",
    "        negative=10,  # Number of negative examples.\n",
    "        iter=1,  # Number of iterations.\n",
    "        workers=8,  # Number of workers.\n",
    "    )\n",
    "    word2vec_init.build_vocab(sentences, trim_rule=None)\n",
    "    \n",
    "    print('{:.1f}s: Training word2vec'.format(time.time() - start_time))\n",
    "    model = word2vec_init\n",
    "    del word2vec_init\n",
    "    for epoch in range(1, 5 + 1):\n",
    "        print('{:.1f}s: start epoch {} of 5 (estimated 1000 seconds)'.format(time.time() - start_time, epoch))\n",
    "        model.train(sentences, total_examples=model.corpus_count, epochs=model.iter)\n",
    "        print('{:.1f}s: Saving model {} to pickle file'.format(time.time() - start_time, epoch))\n",
    "        with open('trained_word2vec_after_{}_epoch.pickle'.format(epoch), 'wb') as f:\n",
    "            pickle.dump(model, f, pickle.HIGHEST_PROTOCOL)\n",
    "    \n",
    "    print('{:.1f}s: Finished training word2vec model'.format(time.time() - start_time))\n",
    "    gensim_embeddings = model.wv\n",
    "    del model\n",
    "    \n",
    "print('{:.1f}s: Done for now'.format(time.time() - start_time))\n",
    "del sentences"
   ]
  },
  {
   "cell_type": "code",
   "execution_count": 2,
   "metadata": {},
   "outputs": [
    {
     "ename": "FileNotFoundError",
     "evalue": "[Errno 2] No such file or directory: 'reduced_vectors_google.txt'",
     "output_type": "error",
     "traceback": [
      "\u001b[0;31m---------------------------------------------------------------------------\u001b[0m",
      "\u001b[0;31mFileNotFoundError\u001b[0m                         Traceback (most recent call last)",
      "\u001b[0;32m<ipython-input-2-fe393f5ebf17>\u001b[0m in \u001b[0;36m<module>\u001b[0;34m()\u001b[0m\n\u001b[1;32m      1\u001b[0m \u001b[0;32mfrom\u001b[0m \u001b[0mgensim\u001b[0m\u001b[0;34m.\u001b[0m\u001b[0mmodels\u001b[0m\u001b[0;34m.\u001b[0m\u001b[0mkeyedvectors\u001b[0m \u001b[0;32mimport\u001b[0m \u001b[0mKeyedVectors\u001b[0m\u001b[0;34m\u001b[0m\u001b[0m\n\u001b[0;32m----> 2\u001b[0;31m \u001b[0mgoogle_embeddings\u001b[0m \u001b[0;34m=\u001b[0m \u001b[0mKeyedVectors\u001b[0m\u001b[0;34m.\u001b[0m\u001b[0mload_word2vec_format\u001b[0m\u001b[0;34m(\u001b[0m\u001b[0;34m'reduced_vectors_google.txt'\u001b[0m\u001b[0;34m,\u001b[0m \u001b[0mbinary\u001b[0m\u001b[0;34m=\u001b[0m\u001b[0;32mFalse\u001b[0m\u001b[0;34m)\u001b[0m\u001b[0;34m\u001b[0m\u001b[0m\n\u001b[0m",
      "\u001b[0;32m/Users/basaktugceeskili/anaconda/lib/python3.6/site-packages/gensim-3.2.0-py3.6-macosx-10.7-x86_64.egg/gensim/models/keyedvectors.py\u001b[0m in \u001b[0;36mload_word2vec_format\u001b[0;34m(cls, fname, fvocab, binary, encoding, unicode_errors, limit, datatype)\u001b[0m\n\u001b[1;32m    193\u001b[0m \u001b[0;34m\u001b[0m\u001b[0m\n\u001b[1;32m    194\u001b[0m         \u001b[0mlogger\u001b[0m\u001b[0;34m.\u001b[0m\u001b[0minfo\u001b[0m\u001b[0;34m(\u001b[0m\u001b[0;34m\"loading projection weights from %s\"\u001b[0m\u001b[0;34m,\u001b[0m \u001b[0mfname\u001b[0m\u001b[0;34m)\u001b[0m\u001b[0;34m\u001b[0m\u001b[0m\n\u001b[0;32m--> 195\u001b[0;31m         \u001b[0;32mwith\u001b[0m \u001b[0mutils\u001b[0m\u001b[0;34m.\u001b[0m\u001b[0msmart_open\u001b[0m\u001b[0;34m(\u001b[0m\u001b[0mfname\u001b[0m\u001b[0;34m)\u001b[0m \u001b[0;32mas\u001b[0m \u001b[0mfin\u001b[0m\u001b[0;34m:\u001b[0m\u001b[0;34m\u001b[0m\u001b[0m\n\u001b[0m\u001b[1;32m    196\u001b[0m             \u001b[0mheader\u001b[0m \u001b[0;34m=\u001b[0m \u001b[0mutils\u001b[0m\u001b[0;34m.\u001b[0m\u001b[0mto_unicode\u001b[0m\u001b[0;34m(\u001b[0m\u001b[0mfin\u001b[0m\u001b[0;34m.\u001b[0m\u001b[0mreadline\u001b[0m\u001b[0;34m(\u001b[0m\u001b[0;34m)\u001b[0m\u001b[0;34m,\u001b[0m \u001b[0mencoding\u001b[0m\u001b[0;34m=\u001b[0m\u001b[0mencoding\u001b[0m\u001b[0;34m)\u001b[0m\u001b[0;34m\u001b[0m\u001b[0m\n\u001b[1;32m    197\u001b[0m             \u001b[0mvocab_size\u001b[0m\u001b[0;34m,\u001b[0m \u001b[0mvector_size\u001b[0m \u001b[0;34m=\u001b[0m \u001b[0;34m(\u001b[0m\u001b[0mint\u001b[0m\u001b[0;34m(\u001b[0m\u001b[0mx\u001b[0m\u001b[0;34m)\u001b[0m \u001b[0;32mfor\u001b[0m \u001b[0mx\u001b[0m \u001b[0;32min\u001b[0m \u001b[0mheader\u001b[0m\u001b[0;34m.\u001b[0m\u001b[0msplit\u001b[0m\u001b[0;34m(\u001b[0m\u001b[0;34m)\u001b[0m\u001b[0;34m)\u001b[0m  \u001b[0;31m# throws for invalid file format\u001b[0m\u001b[0;34m\u001b[0m\u001b[0m\n",
      "\u001b[0;32m/Users/basaktugceeskili/anaconda/lib/python3.6/site-packages/smart_open-1.5.6-py3.6.egg/smart_open/smart_open_lib.py\u001b[0m in \u001b[0;36msmart_open\u001b[0;34m(uri, mode, **kw)\u001b[0m\n\u001b[1;32m    174\u001b[0m             \u001b[0mencoding\u001b[0m \u001b[0;34m=\u001b[0m \u001b[0mkw\u001b[0m\u001b[0;34m.\u001b[0m\u001b[0mpop\u001b[0m\u001b[0;34m(\u001b[0m\u001b[0;34m'encoding'\u001b[0m\u001b[0;34m,\u001b[0m \u001b[0;32mNone\u001b[0m\u001b[0;34m)\u001b[0m\u001b[0;34m\u001b[0m\u001b[0m\n\u001b[1;32m    175\u001b[0m             \u001b[0merrors\u001b[0m \u001b[0;34m=\u001b[0m \u001b[0mkw\u001b[0m\u001b[0;34m.\u001b[0m\u001b[0mpop\u001b[0m\u001b[0;34m(\u001b[0m\u001b[0;34m'errors'\u001b[0m\u001b[0;34m,\u001b[0m \u001b[0mDEFAULT_ERRORS\u001b[0m\u001b[0;34m)\u001b[0m\u001b[0;34m\u001b[0m\u001b[0m\n\u001b[0;32m--> 176\u001b[0;31m             \u001b[0;32mreturn\u001b[0m \u001b[0mfile_smart_open\u001b[0m\u001b[0;34m(\u001b[0m\u001b[0mparsed_uri\u001b[0m\u001b[0;34m.\u001b[0m\u001b[0muri_path\u001b[0m\u001b[0;34m,\u001b[0m \u001b[0mmode\u001b[0m\u001b[0;34m,\u001b[0m \u001b[0mencoding\u001b[0m\u001b[0;34m=\u001b[0m\u001b[0mencoding\u001b[0m\u001b[0;34m,\u001b[0m \u001b[0merrors\u001b[0m\u001b[0;34m=\u001b[0m\u001b[0merrors\u001b[0m\u001b[0;34m)\u001b[0m\u001b[0;34m\u001b[0m\u001b[0m\n\u001b[0m\u001b[1;32m    177\u001b[0m         \u001b[0;32melif\u001b[0m \u001b[0mparsed_uri\u001b[0m\u001b[0;34m.\u001b[0m\u001b[0mscheme\u001b[0m \u001b[0;32min\u001b[0m \u001b[0;34m(\u001b[0m\u001b[0;34m\"s3\"\u001b[0m\u001b[0;34m,\u001b[0m \u001b[0;34m\"s3n\"\u001b[0m\u001b[0;34m,\u001b[0m \u001b[0;34m's3u'\u001b[0m\u001b[0;34m)\u001b[0m\u001b[0;34m:\u001b[0m\u001b[0;34m\u001b[0m\u001b[0m\n\u001b[1;32m    178\u001b[0m             \u001b[0;32mreturn\u001b[0m \u001b[0ms3_open_uri\u001b[0m\u001b[0;34m(\u001b[0m\u001b[0mparsed_uri\u001b[0m\u001b[0;34m,\u001b[0m \u001b[0mmode\u001b[0m\u001b[0;34m,\u001b[0m \u001b[0;34m**\u001b[0m\u001b[0mkw\u001b[0m\u001b[0;34m)\u001b[0m\u001b[0;34m\u001b[0m\u001b[0m\n",
      "\u001b[0;32m/Users/basaktugceeskili/anaconda/lib/python3.6/site-packages/smart_open-1.5.6-py3.6.egg/smart_open/smart_open_lib.py\u001b[0m in \u001b[0;36mfile_smart_open\u001b[0;34m(fname, mode, encoding, errors)\u001b[0m\n\u001b[1;32m    669\u001b[0m     \u001b[0;32mexcept\u001b[0m \u001b[0mKeyError\u001b[0m\u001b[0;34m:\u001b[0m\u001b[0;34m\u001b[0m\u001b[0m\n\u001b[1;32m    670\u001b[0m         \u001b[0mraw_mode\u001b[0m \u001b[0;34m=\u001b[0m \u001b[0mmode\u001b[0m\u001b[0;34m\u001b[0m\u001b[0m\n\u001b[0;32m--> 671\u001b[0;31m     \u001b[0mraw_fobj\u001b[0m \u001b[0;34m=\u001b[0m \u001b[0mopen\u001b[0m\u001b[0;34m(\u001b[0m\u001b[0mfname\u001b[0m\u001b[0;34m,\u001b[0m \u001b[0mraw_mode\u001b[0m\u001b[0;34m)\u001b[0m\u001b[0;34m\u001b[0m\u001b[0m\n\u001b[0m\u001b[1;32m    672\u001b[0m     \u001b[0mdecompressed_fobj\u001b[0m \u001b[0;34m=\u001b[0m \u001b[0mcompression_wrapper\u001b[0m\u001b[0;34m(\u001b[0m\u001b[0mraw_fobj\u001b[0m\u001b[0;34m,\u001b[0m \u001b[0mfname\u001b[0m\u001b[0;34m,\u001b[0m \u001b[0mraw_mode\u001b[0m\u001b[0;34m)\u001b[0m\u001b[0;34m\u001b[0m\u001b[0m\n\u001b[1;32m    673\u001b[0m     \u001b[0mdecoded_fobj\u001b[0m \u001b[0;34m=\u001b[0m \u001b[0mencoding_wrapper\u001b[0m\u001b[0;34m(\u001b[0m\u001b[0mdecompressed_fobj\u001b[0m\u001b[0;34m,\u001b[0m \u001b[0mmode\u001b[0m\u001b[0;34m,\u001b[0m \u001b[0mencoding\u001b[0m\u001b[0;34m=\u001b[0m\u001b[0mencoding\u001b[0m\u001b[0;34m,\u001b[0m \u001b[0merrors\u001b[0m\u001b[0;34m=\u001b[0m\u001b[0merrors\u001b[0m\u001b[0;34m)\u001b[0m\u001b[0;34m\u001b[0m\u001b[0m\n",
      "\u001b[0;31mFileNotFoundError\u001b[0m: [Errno 2] No such file or directory: 'reduced_vectors_google.txt'"
     ]
    }
   ],
   "source": [
    "from gensim.models.keyedvectors import KeyedVectors\n",
    "google_embeddings = KeyedVectors.load_word2vec_format('reduced_vectors_google.txt', binary=False)"
   ]
  },
  {
   "cell_type": "code",
   "execution_count": 3,
   "metadata": {
    "collapsed": true
   },
   "outputs": [],
   "source": [
    "import numpy as np\n",
    "\n",
    "# build document or query embedding by averaging the word embedding\n",
    "def get_average_word_embedding (bow_of_input, embeddings, use_tfidf_weights=False):\n",
    "    #embedding_size = embeddings.vector_size # doesn't work for gensim trained model ???\n",
    "    embedding_size = embeddings[embeddings.index2word[0]].size\n",
    "    total_embedding = np.zeros(embedding_size)\n",
    "    for token_id, count in bow_of_input.items():\n",
    "        word = dictionary.id2token[token_id]\n",
    "        if not word in embeddings.vocab:\n",
    "            continue\n",
    "        embedding = embeddings[word]\n",
    "        if use_tfidf_weights: # weigh each word by its discriminative power\n",
    "            tf = 1 + np.log(bow_of_input.get(token_id, 1)) # log normalized\n",
    "            df = len(inverted_index[token_id])\n",
    "            if df == 0:\n",
    "                weight = 0.0\n",
    "            else:\n",
    "                idf = num_documents / df\n",
    "                weight = tf*idf\n",
    "        else:\n",
    "            weight = count # just simple average\n",
    "        total_embedding += np.array(weight * embedding)\n",
    "    total_embedding /= len(bow_of_input)\n",
    "    return total_embedding"
   ]
  },
  {
   "cell_type": "code",
   "execution_count": 27,
   "metadata": {},
   "outputs": [
    {
     "name": "stdout",
     "output_type": "stream",
     "text": [
      "0.0s: Collecting all document embeddings\n"
     ]
    },
    {
     "name": "stderr",
     "output_type": "stream",
     "text": [
      "/Users/basaktugceeskili/anaconda/lib/python3.6/site-packages/ipykernel_launcher.py:24: RuntimeWarning: invalid value encountered in true_divide\n"
     ]
    },
    {
     "name": "stdout",
     "output_type": "stream",
     "text": [
      "21.7s: 1000 out of 164598\n",
      "42.1s: 2000 out of 164598\n",
      "62.9s: 3000 out of 164598\n",
      "83.9s: 4000 out of 164598\n",
      "103.2s: 5000 out of 164598\n"
     ]
    },
    {
     "ename": "KeyboardInterrupt",
     "evalue": "",
     "output_type": "error",
     "traceback": [
      "\u001b[0;31m---------------------------------------------------------------------------\u001b[0m",
      "\u001b[0;31mKeyboardInterrupt\u001b[0m                         Traceback (most recent call last)",
      "\u001b[0;32m<ipython-input-27-af35e1dfdec9>\u001b[0m in \u001b[0;36m<module>\u001b[0;34m()\u001b[0m\n\u001b[1;32m     41\u001b[0m             if token_id > 0)\n\u001b[1;32m     42\u001b[0m         \u001b[0mdoc_embeddings_simple_split\u001b[0m\u001b[0;34m[\u001b[0m\u001b[0mint_doc_id\u001b[0m\u001b[0;34m]\u001b[0m\u001b[0;34m.\u001b[0m\u001b[0mappend\u001b[0m\u001b[0;34m(\u001b[0m\u001b[0mget_average_word_embedding\u001b[0m\u001b[0;34m(\u001b[0m\u001b[0mchunk_bow\u001b[0m\u001b[0;34m,\u001b[0m \u001b[0mgensim_embeddings\u001b[0m\u001b[0;34m)\u001b[0m\u001b[0;34m)\u001b[0m\u001b[0;34m\u001b[0m\u001b[0m\n\u001b[0;32m---> 43\u001b[0;31m         \u001b[0mdoc_embeddings_weighted_split\u001b[0m\u001b[0;34m[\u001b[0m\u001b[0mint_doc_id\u001b[0m\u001b[0;34m]\u001b[0m\u001b[0;34m.\u001b[0m\u001b[0mappend\u001b[0m\u001b[0;34m(\u001b[0m\u001b[0mget_average_word_embedding\u001b[0m\u001b[0;34m(\u001b[0m\u001b[0mchunk_bow\u001b[0m\u001b[0;34m,\u001b[0m \u001b[0mgensim_embeddings\u001b[0m\u001b[0;34m,\u001b[0m \u001b[0;32mTrue\u001b[0m\u001b[0;34m)\u001b[0m\u001b[0;34m)\u001b[0m\u001b[0;34m\u001b[0m\u001b[0m\n\u001b[0m\u001b[1;32m     44\u001b[0m \u001b[0mprint\u001b[0m\u001b[0;34m(\u001b[0m\u001b[0;34m'{:.1f}s: Done for now'\u001b[0m\u001b[0;34m.\u001b[0m\u001b[0mformat\u001b[0m\u001b[0;34m(\u001b[0m\u001b[0mtime\u001b[0m\u001b[0;34m.\u001b[0m\u001b[0mtime\u001b[0m\u001b[0;34m(\u001b[0m\u001b[0;34m)\u001b[0m \u001b[0;34m-\u001b[0m \u001b[0mstart_time\u001b[0m\u001b[0;34m)\u001b[0m\u001b[0;34m)\u001b[0m\u001b[0;34m\u001b[0m\u001b[0m\n",
      "\u001b[0;32m<ipython-input-3-e4bb6c159321>\u001b[0m in \u001b[0;36mget_average_word_embedding\u001b[0;34m(bow_of_input, embeddings, use_tfidf_weights)\u001b[0m\n\u001b[1;32m     21\u001b[0m         \u001b[0;32melse\u001b[0m\u001b[0;34m:\u001b[0m\u001b[0;34m\u001b[0m\u001b[0m\n\u001b[1;32m     22\u001b[0m             \u001b[0mweight\u001b[0m \u001b[0;34m=\u001b[0m \u001b[0mcount\u001b[0m \u001b[0;31m# just simple average\u001b[0m\u001b[0;34m\u001b[0m\u001b[0m\n\u001b[0;32m---> 23\u001b[0;31m         \u001b[0mtotal_embedding\u001b[0m \u001b[0;34m+=\u001b[0m \u001b[0mnp\u001b[0m\u001b[0;34m.\u001b[0m\u001b[0marray\u001b[0m\u001b[0;34m(\u001b[0m\u001b[0mweight\u001b[0m \u001b[0;34m*\u001b[0m \u001b[0membedding\u001b[0m\u001b[0;34m)\u001b[0m\u001b[0;34m\u001b[0m\u001b[0m\n\u001b[0m\u001b[1;32m     24\u001b[0m     \u001b[0mtotal_embedding\u001b[0m \u001b[0;34m/=\u001b[0m \u001b[0mlen\u001b[0m\u001b[0;34m(\u001b[0m\u001b[0mbow_of_input\u001b[0m\u001b[0;34m)\u001b[0m\u001b[0;34m\u001b[0m\u001b[0m\n\u001b[1;32m     25\u001b[0m     \u001b[0;32mreturn\u001b[0m \u001b[0mtotal_embedding\u001b[0m\u001b[0;34m\u001b[0m\u001b[0m\n",
      "\u001b[0;31mKeyboardInterrupt\u001b[0m: "
     ]
    }
   ],
   "source": [
    "# collect all document embeddings (estimated 70 minutes)\n",
    "import math\n",
    "import time\n",
    "start_time = time.time()\n",
    "from collections import defaultdict\n",
    "import collections\n",
    "\n",
    "\n",
    "print('{:.1f}s: Collecting all document embeddings'.format(time.time() - start_time))\n",
    "\n",
    "doc_embeddings_simple = {}\n",
    "doc_embeddings_weighted = {}\n",
    "doc_embeddings_simple_split = {}\n",
    "doc_embeddings_weighted_split = {}\n",
    "for int_doc_id in range(index.document_base(), index.maximum_document()):\n",
    "    if int_doc_id % 1000 == 0:\n",
    "        print('{:.1f}s: {} out of {}'.format(time.time() - start_time, int_doc_id, index.maximum_document()))\n",
    "    ext_doc_id, doc_token_ids = index.document(int_doc_id)\n",
    "\n",
    "    document_bow = collections.Counter(\n",
    "        token_id for token_id in doc_token_ids\n",
    "        if token_id > 0)\n",
    "    \n",
    "    doc_embeddings_simple[int_doc_id] = get_average_word_embedding(document_bow, gensim_embeddings)\n",
    "    doc_embeddings_weighted[int_doc_id] = get_average_word_embedding(document_bow, gensim_embeddings, True)\n",
    "    \n",
    "    # split document into parts of M words and represent each part as a separate embedding\n",
    "    doc_embeddings_simple_split[int_doc_id] = []\n",
    "    doc_embeddings_weighted_split[int_doc_id] = []\n",
    "    M = 100\n",
    "    chunk_count = math.ceil(len(doc_token_ids)/M)\n",
    "    chunks = []\n",
    "    for i in range(chunk_count):\n",
    "        chunks.append(doc_token_ids[i*M:(i+1)*M])\n",
    "        if i < chunk_count - 1:\n",
    "            offset = int(M/2)\n",
    "            chunks.append(doc_token_ids[offset+i*M:offset+(i+1)*M])\n",
    "    for chunk in chunks:\n",
    "        chunk_bow = collections.Counter(\n",
    "            token_id for token_id in chunk\n",
    "            if token_id > 0)\n",
    "        doc_embeddings_simple_split[int_doc_id].append(get_average_word_embedding(chunk_bow, gensim_embeddings))\n",
    "        doc_embeddings_weighted_split[int_doc_id].append(get_average_word_embedding(chunk_bow, gensim_embeddings, True))\n",
    "print('{:.1f}s: Done for now'.format(time.time() - start_time))"
   ]
  },
  {
   "cell_type": "code",
   "execution_count": 19,
   "metadata": {
    "collapsed": true
   },
   "outputs": [],
   "source": [
    "from scipy import spatial\n",
    "\n",
    "def simple_embeddings_gensim (int_document_id, query_term_ids):\n",
    "    query_bow = collections.Counter(\n",
    "        token_id for token_id in query_term_ids\n",
    "        if token_id > 0)\n",
    "    query_embedding = get_average_word_embedding(query_bow, gensim_embeddings)\n",
    "    doc_embedding = doc_embeddings_simple[int_document_id]\n",
    "    cosine_similarity = 1 - spatial.distance.cosine(query_embedding, doc_embedding)\n",
    "    return cosine_similarity\n",
    "\n",
    "\n",
    "def weighted_embeddings_gensim (int_document_id, query_term_ids):\n",
    "    query_bow = collections.Counter(\n",
    "        token_id for token_id in query_term_ids\n",
    "        if token_id > 0)\n",
    "    query_embedding = get_average_word_embedding(query_bow, gensim_embeddings, True)\n",
    "    doc_embedding = doc_embeddings_weighted[int_document_id]\n",
    "    cosine_similarity = 1 - spatial.distance.cosine(query_embedding, doc_embedding)\n",
    "    return cosine_similarity\n",
    "\n",
    "\n",
    "def simple_split_embeddings_gensim (int_document_id, query_term_ids):\n",
    "    query_bow = collections.Counter(\n",
    "        token_id for token_id in query_term_ids\n",
    "        if token_id > 0)\n",
    "    query_embedding = get_average_word_embedding(query_bow, gensim_embeddings)\n",
    "    doc_embeddings = doc_embeddings_simple_split[int_document_id]\n",
    "    cosine_similarity = max([1 - spatial.distance.cosine(query_embedding, doc_embedding) for doc_embedding in doc_embeddings])\n",
    "    return cosine_similarity\n",
    "\n",
    "\n",
    "def weighted_split_embeddings_gensim (int_document_id, query_term_ids):\n",
    "    query_bow = collections.Counter(\n",
    "        token_id for token_id in query_term_ids\n",
    "        if token_id > 0)\n",
    "    query_embedding = get_average_word_embedding(query_bow, gensim_embeddings, True)\n",
    "    doc_embeddings = doc_embeddings_weighted_split[int_document_id]\n",
    "    cosine_similarity = max([1 - spatial.distance.cosine(query_embedding, doc_embedding) for doc_embedding in doc_embeddings])\n",
    "    return cosine_similarity"
   ]
  },
  {
   "cell_type": "code",
   "execution_count": 29,
   "metadata": {},
   "outputs": [
    {
     "name": "stdout",
     "output_type": "stream",
     "text": [
      "Retrieving using weighted word2vec (gensim)\n",
      "0.0s: 51\n"
     ]
    },
    {
     "name": "stderr",
     "output_type": "stream",
     "text": [
      "/Users/basaktugceeskili/anaconda/lib/python3.6/site-packages/scipy/spatial/distance.py:644: RuntimeWarning: invalid value encountered in double_scalars\n",
      "  dist = 1.0 - uv / np.sqrt(uu * vv)\n"
     ]
    },
    {
     "name": "stdout",
     "output_type": "stream",
     "text": [
      "Retrieving using weighted word2vec on document splits (gensim)\n",
      "0.0s: 51\n"
     ]
    }
   ],
   "source": [
    "# run experiment\n",
    "#run_retrieval('simple word2vec (gensim)', simple_embeddings_gensim)\n",
    "run_retrieval('weighted word2vec (gensim)', weighted_embeddings_gensim)\n",
    "#run_retrieval('simple word2vec on document splits (gensim)', simple_split_embeddings_gensim)\n",
    "run_retrieval('weighted word2vec on document splits (gensim)', weighted_split_embeddings_gensim)"
   ]
  },
  {
   "cell_type": "code",
   "execution_count": 72,
   "metadata": {
    "scrolled": true
   },
   "outputs": [
    {
     "ename": "KeyError",
     "evalue": "6528",
     "output_type": "error",
     "traceback": [
      "\u001b[0;31m---------------------------------------------------------------------------\u001b[0m",
      "\u001b[0;31mKeyError\u001b[0m                                  Traceback (most recent call last)",
      "\u001b[0;32m<ipython-input-72-416dd3dc7795>\u001b[0m in \u001b[0;36m<module>\u001b[0;34m()\u001b[0m\n\u001b[0;32m----> 1\u001b[0;31m \u001b[0mdoc_embeddings_weighted\u001b[0m\u001b[0;34m[\u001b[0m\u001b[0;36m6528\u001b[0m\u001b[0;34m]\u001b[0m\u001b[0;34m\u001b[0m\u001b[0m\n\u001b[0m",
      "\u001b[0;31mKeyError\u001b[0m: 6528"
     ]
    }
   ],
   "source": [
    "doc_embeddings_weighted[6528]"
   ]
  },
  {
   "cell_type": "markdown",
   "metadata": {},
   "source": [
    "### Task 4: Learning to rank (LTR) [15 points] (open-ended) ###\n",
    "\n",
    "In this task you will get an introduction into learning to rank for information retrieval.\n",
    "\n",
    "You can explore different ways for devising features for the model. Obviously, you can use the retrieval methods you implemented in Task 1, Task 2 and Task 3 as features. Think about other features you can use (e.g. query/document length). Creativity on devising new features and providing motivation for them will be taken into account when grading.\n",
    "\n",
    "For every query, first create a document candidate set using the top-1000 documents using TF-IDF, and subsequently compute features given a query and a document. Note that the feature values of different retrieval methods are likely to be distributed differently.\n",
    "\n",
    "You are adviced to start some pointwise learning to rank algorithm e.g. logistic regression, implemented in [scikit-learn](http://scikit-learn.org/stable/modules/generated/sklearn.linear_model.LogisticRegression.html).\n",
    "Train your LTR model using 10-fold cross validation on the test set. More advanced learning to rank algorithms will be appreciated when grading."
   ]
  },
  {
   "cell_type": "code",
   "execution_count": null,
   "metadata": {
    "collapsed": true
   },
   "outputs": [],
   "source": []
  },
  {
   "cell_type": "markdown",
   "metadata": {
    "collapsed": true
   },
   "source": [
    "### Task 4: Write a report [15 points; instant FAIL if not provided] ###\n",
    "\n",
    "The report should be a PDF file created using the [sigconf ACM template](https://www.acm.org/publications/proceedings-template) and will determine a significant part of your grade.\n",
    "\n",
    "   * It should explain what you have implemented, motivate your experiments and detail what you expect to learn from them. **[10 points]**\n",
    "   * Lastly, provide a convincing analysis of your results and conclude the report accordingly. **[10 points]**\n",
    "      * Do all methods perform similarly on all queries? Why?\n",
    "      * Is there a single retrieval model that outperforms all other retrieval models (i.e., silver bullet)?\n",
    "      * ...\n",
    "\n",
    "**Hand in the report and your self-contained implementation source files.** Only send us the files that matter, organized in a well-documented zip/tgz file with clear instructions on how to reproduce your results. That is, we want to be able to regenerate all your results with minimal effort. You can assume that the index and ground-truth information is present in the same file structure as the one we have provided.\n"
   ]
  },
  {
   "cell_type": "code",
   "execution_count": null,
   "metadata": {
    "collapsed": true
   },
   "outputs": [],
   "source": []
  }
 ],
 "metadata": {
  "anaconda-cloud": {},
  "kernelspec": {
   "display_name": "Python 3",
   "language": "python",
   "name": "python3"
  },
  "language_info": {
   "codemirror_mode": {
    "name": "ipython",
    "version": 3
   },
   "file_extension": ".py",
   "mimetype": "text/x-python",
   "name": "python",
   "nbconvert_exporter": "python",
   "pygments_lexer": "ipython3",
   "version": "3.6.3"
  }
 },
 "nbformat": 4,
 "nbformat_minor": 1
}
