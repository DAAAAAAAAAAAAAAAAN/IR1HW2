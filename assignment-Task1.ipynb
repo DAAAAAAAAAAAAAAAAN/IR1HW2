{
 "cells": [
  {
   "cell_type": "markdown",
   "metadata": {},
   "source": [
    "# Information Retrieval 1#\n",
    "## Assignment 2: Retrieval models [100 points] ##"
   ]
  },
  {
   "cell_type": "markdown",
   "metadata": {},
   "source": [
    "In this assignment you will get familiar with basic and advanced information retrieval concepts. You will implement different information retrieval ranking models and evaluate their performance.\n",
    "\n",
    "We provide you with a Indri index. To query the index, you'll use a Python package ([pyndri](https://github.com/cvangysel/pyndri)) that allows easy access to the underlying document statistics.\n",
    "\n",
    "For evaluation you'll use the [TREC Eval](https://github.com/usnistgov/trec_eval) utility, provided by the National Institute of Standards and Technology of the United States. TREC Eval is the de facto standard way to compute Information Retrieval measures and is frequently referenced in scientific papers.\n",
    "\n",
    "This is a **groups-of-three assignment**, the deadline is **Wednesday, January 31st**. Code quality, informative comments and convincing analysis of the results will be considered when grading. Submission should be done through blackboard, questions can be asked on the course [Piazza](piazza.com/university_of_amsterdam/spring2018/52041inr6y/home).\n",
    "\n",
    "### Technicalities (must-read!) ###\n",
    "\n",
    "The assignment directory is organized as follows:\n",
    "   * `./assignment.ipynb` (this file): the description of the assignment.\n",
    "   * `./index/`: the index we prepared for you.\n",
    "   * `./ap_88_90/`: directory with ground-truth and evaluation sets:\n",
    "      * `qrel_test`: test query relevance collection (**test set**).\n",
    "      * `qrel_validation`: validation query relevance collection (**validation set**).\n",
    "      * `topics_title`: semicolon-separated file with query identifiers and terms.\n",
    "\n",
    "You will need the following software packages (tested with Python 3.5 inside [Anaconda](https://conda.io/docs/user-guide/install/index.html)):\n",
    "   * Python 3.5 and Jupyter\n",
    "   * Indri + Pyndri (Follow the installation instructions [here](https://github.com/nickvosk/pyndri/blob/master/README.md))\n",
    "   * gensim [link](https://radimrehurek.com/gensim/install.html)\n",
    "   * TREC Eval [link](https://github.com/usnistgov/trec_eval)"
   ]
  },
  {
   "cell_type": "markdown",
   "metadata": {},
   "source": [
    "### TREC Eval primer ###\n",
    "The TREC Eval utility can be downloaded and compiled as follows:\n",
    "\n",
    "    git clone https://github.com/usnistgov/trec_eval.git\n",
    "    cd trec_eval\n",
    "    make\n",
    "\n",
    "TREC Eval computes evaluation scores given two files: ground-truth information regarding relevant documents, named *query relevance* or *qrel*, and a ranking of documents for a set of queries, referred to as a *run*. The *qrel* will be supplied by us and should not be changed. For every retrieval model (or combinations thereof) you will generate a run of the top-1000 documents for every query. The format of the *run* file is as follows:\n",
    "\n",
    "    $query_identifier Q0 $document_identifier $rank_of_document_for_query $query_document_similarity $run_identifier\n",
    "    \n",
    "where\n",
    "   * `$query_identifier` is the unique identifier corresponding to a query (usually this follows a sequential numbering).\n",
    "   * `Q0` is a legacy field that you can ignore.\n",
    "   * `$document_identifier` corresponds to the unique identifier of a document (e.g., APXXXXXXX where AP denotes the collection and the Xs correspond to a unique numerical identifier).\n",
    "   * `$rank_of_document_for_query` denotes the rank of the document for the particular query. This field is ignored by TREC Eval and is only maintained for legacy support. The ranks are computed by TREC Eval itself using the `$query_document_similarity` field (see next). However, it remains good practice to correctly compute this field.\n",
    "   * `$query_document_similarity` is a score indicating the similarity between query and document where a higher score denotes greater similarity.\n",
    "   * `$run_identifier` is an identifier of the run. This field is for your own convenience and has no purpose beyond bookkeeping.\n",
    "   \n",
    "For example, say we have two queries: `Q1` and `Q2` and we rank three documents (`DOC1`, `DOC2`, `DOC3`). For query `Q1`, we find the following similarity scores `score(Q1, DOC1) = 1.0`, `score(Q1, DOC2) = 0.5`, `score(Q1, DOC3) = 0.75`; and for `Q2`: `score(Q2, DOC1) = -0.1`, `score(Q2, DOC2) = 1.25`, `score(Q1, DOC3) = 0.0`. We can generate run using the following snippet:"
   ]
  },
  {
   "cell_type": "code",
   "execution_count": 1,
   "metadata": {
    "collapsed": false,
    "scrolled": false
   },
   "outputs": [
    {
     "name": "stdout",
     "output_type": "stream",
     "text": [
      "Q1 Q0 DOC1 1 1.0 example\n",
      "Q1 Q0 DOC3 2 0.75 example\n",
      "Q1 Q0 DOC2 3 0.5 example\n",
      "Q2 Q0 DOC2 1 1.25 example\n",
      "Q2 Q0 DOC3 2 0.0 example\n",
      "Q2 Q0 DOC1 3 -0.1 example\n"
     ]
    }
   ],
   "source": [
    "import logging\n",
    "import sys\n",
    "import os\n",
    "import time\n",
    "import numpy\n",
    "\n",
    "def write_run(model_name, data, out_f,\n",
    "              max_objects_per_query=sys.maxsize,\n",
    "              skip_sorting=False):\n",
    "    \"\"\"\n",
    "    Write a run to an output file.\n",
    "    Parameters:\n",
    "        - model_name: identifier of run.\n",
    "        - data: dictionary mapping topic_id to object_assesments;\n",
    "            object_assesments is an iterable (list or tuple) of\n",
    "            (relevance, object_id) pairs.\n",
    "            The object_assesments iterable is sorted by decreasing order.\n",
    "        - out_f: output file stream.\n",
    "        - max_objects_per_query: cut-off for number of objects per query.\n",
    "    \"\"\"\n",
    "    for subject_id, object_assesments in data.items():\n",
    "        if not object_assesments:\n",
    "            logging.warning('Received empty ranking for %s; ignoring.',\n",
    "                            subject_id)\n",
    "\n",
    "            continue\n",
    "\n",
    "        # Probe types, to make sure everything goes alright.\n",
    "        # assert isinstance(object_assesments[0][0], float) or \\\n",
    "        #     isinstance(object_assesments[0][0], np.float32)\n",
    "        assert isinstance(object_assesments[0][1], str) or \\\n",
    "            isinstance(object_assesments[0][1], bytes)\n",
    "\n",
    "        if not skip_sorting:\n",
    "            object_assesments = sorted(object_assesments, reverse=True)\n",
    "\n",
    "        if max_objects_per_query < sys.maxsize:\n",
    "            object_assesments = object_assesments[:max_objects_per_query]\n",
    "\n",
    "        if isinstance(subject_id, bytes):\n",
    "            subject_id = subject_id.decode('utf8')\n",
    "\n",
    "        for rank, (relevance, object_id) in enumerate(object_assesments):\n",
    "            if isinstance(object_id, bytes):\n",
    "                object_id = object_id.decode('utf8')\n",
    "\n",
    "            out_f.write(\n",
    "                '{subject} Q0 {object} {rank} {relevance} '\n",
    "                '{model_name}\\n'.format(\n",
    "                    subject=subject_id,\n",
    "                    object=object_id,\n",
    "                    rank=rank + 1,\n",
    "                    relevance=relevance,\n",
    "                    model_name=model_name))\n",
    "            \n",
    "# The following writes the run to standard output.\n",
    "# In your code, you should write the runs to local\n",
    "# storage in order to pass them to trec_eval.\n",
    "write_run(\n",
    "    model_name='example',\n",
    "    data={\n",
    "        'Q1': ((1.0, 'DOC1'), (0.5, 'DOC2'), (0.75, 'DOC3')),\n",
    "        'Q2': ((-0.1, 'DOC1'), (1.25, 'DOC2'), (0.0, 'DOC3')),\n",
    "    },\n",
    "    out_f=sys.stdout,\n",
    "    max_objects_per_query=1000)"
   ]
  },
  {
   "cell_type": "markdown",
   "metadata": {},
   "source": [
    "Now, imagine that we know that `DOC1` is relevant and `DOC3` is non-relevant for `Q1`. In addition, for `Q2` we only know of the relevance of `DOC3`. The query relevance file looks like:\n",
    "\n",
    "    Q1 0 DOC1 1\n",
    "    Q1 0 DOC3 0\n",
    "    Q2 0 DOC3 1\n",
    "    \n",
    "We store the run and qrel in files `example.run` and `example.qrel` respectively on disk. We can now use TREC Eval to compute evaluation measures. In this example, we're only interested in Mean Average Precision and we'll only show this below for brevity. However, TREC Eval outputs much more information such as NDCG, recall, precision, etc.\n",
    "\n",
    "    $ trec_eval -m all_trec -q example.qrel example.run | grep -E \"^map\\s\"\n",
    "    > map                   \tQ1\t1.0000\n",
    "    > map                   \tQ2\t0.5000\n",
    "    > map                   \tall\t0.7500\n",
    "    \n",
    "Now that we've discussed the output format of rankings and how you can compute evaluation measures from these rankings, we'll now proceed with an overview of the indexing framework you'll use."
   ]
  },
  {
   "cell_type": "markdown",
   "metadata": {},
   "source": [
    "### Pyndri primer ###\n",
    "For this assignment you will use [Pyndri](https://github.com/cvangysel/pyndri) [[1](https://arxiv.org/abs/1701.00749)], a python interface for [Indri](https://www.lemurproject.org/indri.php). We have indexed the document collection and you can query the index using Pyndri. We will start by giving you some examples of what Pyndri can do:\n",
    "\n",
    "First we read the document collection index with Pyndri:"
   ]
  },
  {
   "cell_type": "code",
   "execution_count": 4,
   "metadata": {
    "collapsed": true,
    "scrolled": true
   },
   "outputs": [],
   "source": [
    "import pyndri\n",
    "\n",
    "index = pyndri.Index('index/')"
   ]
  },
  {
   "cell_type": "markdown",
   "metadata": {},
   "source": [
    "The loaded index can be used to access a collection of documents in an easy manner. We'll give you some examples to get some idea of what it can do, it is up to you to figure out how to use it for the remainder of the assignment.\n",
    "\n",
    "First let's look at the number of documents, since Pyndri indexes the documents using incremental identifiers we can simply take the lowest index and the maximum document and consider the difference:"
   ]
  },
  {
   "cell_type": "code",
   "execution_count": 4,
   "metadata": {
    "collapsed": false
   },
   "outputs": [
    {
     "name": "stdout",
     "output_type": "stream",
     "text": [
      "There are 164597 documents in this collection.\n"
     ]
    }
   ],
   "source": [
    "print(\"There are %d documents in this collection.\" % (index.maximum_document() - index.document_base()))"
   ]
  },
  {
   "cell_type": "markdown",
   "metadata": {},
   "source": [
    "Let's take the first document out of the collection and take a look at it:"
   ]
  },
  {
   "cell_type": "code",
   "execution_count": 57,
   "metadata": {
    "collapsed": false,
    "scrolled": true
   },
   "outputs": [
    {
     "name": "stdout",
     "output_type": "stream",
     "text": [
      "('AP890425-0001', (1360, 192, 363, 0, 880, 0, 200, 0, 894, 412, 92160, 3, 192, 0, 363, 34, 1441, 0, 174134, 0, 200, 0, 894, 412, 2652, 0, 810, 107, 49, 4903, 420, 0, 1, 48, 35, 489, 0, 35, 687, 192, 243, 0, 249311, 1877, 0, 1651, 1174, 0, 2701, 117, 412, 0, 810, 391, 245233, 1225, 5838, 16, 0, 233156, 3496, 0, 393, 17, 0, 2435, 4819, 930, 0, 0, 200, 0, 894, 0, 22, 398, 145, 0, 3, 271, 115, 0, 1176, 2777, 292, 0, 725, 192, 0, 0, 50046, 0, 1901, 1130, 0, 192, 0, 408, 0, 243779, 0, 0, 553, 192, 0, 363, 0, 3747, 0, 0, 0, 0, 1176, 0, 1239, 0, 0, 1115, 17, 0, 0, 585, 192, 1963, 0, 0, 412, 54356, 0, 773, 0, 0, 0, 192, 0, 0, 1130, 0, 363, 0, 545, 192, 0, 1174, 1901, 1130, 0, 4, 398, 145, 39, 0, 577, 0, 355, 0, 491, 0, 6025, 0, 0, 193156, 88, 34, 437, 0, 0, 1852, 0, 828, 0, 1588, 0, 0, 0, 2615, 0, 0, 107, 49, 420, 0, 0, 190, 7, 714, 2701, 0, 237, 192, 157, 0, 412, 34, 437, 0, 0, 200, 6025, 26, 0, 0, 0, 0, 363, 0, 22, 398, 145, 0, 200, 638, 126222, 6018, 0, 880, 0, 0, 161, 0, 0, 319, 894, 2701, 0, 0, 0, 301, 1200, 0, 363, 251, 430, 0, 207, 0, 76143, 1773, 0, 243779, 0, 0, 72030, 0, 55, 4903, 420, 0, 2701, 1496, 420, 0, 25480, 0, 420, 0, 0, 200, 0, 392, 2949, 0, 1738, 0, 61, 0, 71, 79, 0, 200, 903, 0, 188, 53, 6, 0, 476, 2, 0, 2028, 97, 334, 0, 0, 200, 178, 0, 0, 107, 49, 0, 214, 0, 0, 0, 114, 3866, 1505, 195, 79893, 574, 0, 198, 2160, 0, 192, 0, 420, 0, 384, 0, 2701, 0, 114, 6025, 1549, 74627, 0, 238, 0, 0, 0, 3729, 0, 192, 0, 79893, 0, 0, 729, 3141, 129, 0, 192, 196764, 39, 0, 0, 714, 63, 0, 55, 420, 3356, 0, 0, 117, 412, 0, 0, 79758, 0, 1901, 1130, 4067, 2133, 0, 0, 875, 72, 0, 0, 336, 2789, 0, 0, 25, 920, 121, 104, 0, 3162, 0, 0, 420, 0, 2178, 0, 0, 386, 192545, 159306, 0, 0, 0, 1914, 0, 200, 0, 1794, 0, 2654, 0, 0, 25480, 420, 0, 2795, 0, 0, 229690, 0, 32559, 0, 0, 392, 253919, 0, 0, 0, 0, 379, 0, 0, 114, 0, 553, 10, 0, 1128, 0, 23610, 248, 151, 0, 418, 0, 651, 0, 36, 0, 0, 645, 0, 0, 513, 0, 0, 25480, 420, 34, 0, 0, 0, 15, 0, 3348, 0, 3496, 0, 35, 687, 0, 1, 48, 0, 0, 2803, 0, 0, 714, 1274, 0, 114, 62, 1006, 70268, 1200, 2357, 0, 497, 0, 497, 125, 0, 913, 4647, 3985, 0, 0, 3370, 245233, 0, 0, 687, 0, 4, 1288, 0, 0, 0, 0, 715, 0, 0, 687, 583, 0, 0, 1627, 0, 0, 11, 357, 1359, 0, 849, 0, 0, 1518, 462, 245233, 0, 0, 0, 0, 0, 0, 171, 70268, 0))\n"
     ]
    }
   ],
   "source": [
    "example_document = index.document(index.document_base())\n",
    "print(example_document)"
   ]
  },
  {
   "cell_type": "markdown",
   "metadata": {},
   "source": [
    "Here we see a document consists of two things, a string representing the external document identifier and an integer list representing the identifiers of words that make up the document. Pyndri uses integer representations for words or terms, thus a token_id is an integer that represents a word whereas the token is the actual text of the word/term. Every id has a unique token and vice versa with the exception of stop words: words so common that there are uninformative, all of these receive the zero id.\n",
    "\n",
    "To see what some ids and their matching tokens we take a look at the dictionary of the index:"
   ]
  },
  {
   "cell_type": "code",
   "execution_count": 9,
   "metadata": {
    "collapsed": false
   },
   "outputs": [
    {
     "name": "stdout",
     "output_type": "stream",
     "text": [
      "[(1, 'new'), (2, 'percent'), (3, 'two'), (4, '1'), (5, 'people'), (6, 'million'), (7, '000'), (8, 'government'), (9, 'president'), (10, 'years'), (11, 'state'), (12, '2'), (13, 'states'), (14, 'three'), (15, 'time')]\n"
     ]
    }
   ],
   "source": [
    "token2id, id2token, _ = index.get_dictionary()\n",
    "print(list(id2token.items())[:15])"
   ]
  },
  {
   "cell_type": "markdown",
   "metadata": {},
   "source": [
    "Using this dictionary we can see the tokens for the (non-stop) words in our example document:"
   ]
  },
  {
   "cell_type": "code",
   "execution_count": 7,
   "metadata": {
    "collapsed": false
   },
   "outputs": [
    {
     "name": "stdout",
     "output_type": "stream",
     "text": [
      "['52', 'students', 'arrested', 'takeover', 'university', 'massachusetts', 'building', 'fifty', 'two', 'students', 'arrested', 'tuesday', 'evening', 'occupying', 'university', 'massachusetts', 'building', 'overnight', 'protest', 'defense', 'department', 'funded', 'research', 'new', 'york', 'city', 'thousands', 'city', 'college', 'students', 'got', 'unscheduled', 'holiday', 'demonstrators', 'occupied', 'campus', 'administration', 'building', 'protest', 'possible', 'tuition', 'increases', 'prompting', 'officials', 'suspend', 'classes', '60', 'police', 'riot', 'gear', 'arrived', 'university', 'massachusetts', '5', 'p', 'm', 'two', 'hours', 'later', 'bus', 'drove', 'away', '29', 'students', 'camped', 'memorial', 'hall', 'students', 'charged', 'trespassing', '23', 'students', 'arrested', 'lying', 'bus', 'prevent', 'leaving', 'police', '300', 'students', 'stood', 'building', 'chanting', 'looking', 'students', 'hall', 'arrested', '35', 'students', 'occupied', 'memorial', 'hall', '1', 'p', 'm', 'monday', 'declined', 'offer', 'meet', 'administrators', 'provosts', 'office', 'tuesday', 'morning', 'presented', 'list', 'demands', 'halt', 'defense', 'department', 'research', '25', '000', 'student', 'campus', '40', 'students', 'left', 'building', 'tuesday', 'morning', 'university', 'administrators', 'told', 'arrested', '5', 'p', 'm', 'university', 'spokeswoman', 'jeanne', 'hopkins', 'takeover', 'second', 'western', 'massachusetts', 'campus', 'seven', 'protesters', 'arrested', 'april', '19', 'charges', 'disorderly', 'conduct', 'trespassing', 'demonstrating', 'military', 'funded', 'research', 'campus', 'particularly', 'research', 'anthrax', 'research', 'university', 'non', 'classified', 'researchers', 'make', 'work', 'public', 'university', 'rules', '11', '6', 'million', '22', 'percent', 'grant', 'money', 'received', 'university', 'came', 'defense', 'department', '1988', 'school', 'chancellor', 'joseph', 'd', 'duffey', 'issued', 'statement', 'telling', 'students', 'research', 'continue', 'campus', 'school', 'administrators', 'decide', 'differently', 'policy', 'negotiated', 'students', 'duffey', 'latest', 'occupation', 'began', 'students', 'rallying', 'monday', 'student', 'union', 'military', 'research', 'marched', 'administration', 'building', 'ducked', 'memorial', 'hall', 'en', 'route', 'followed', 'members', 'local', 'chapter', 'american', 'friends', 'service', 'committee', 'contended', 'research', 'dangerous', 'town', 'promotes', 'militarism', 'banned', 'university', 'argued', 'purpose', 'anthrax', 'research', 'peaceful', 'strain', 'bacteria', 'non', 'virulent', 'study', 'school', '23', 'years', 'incident', 'amherst', 'health', 'board', 'scheduled', 'hearing', 'wednesday', 'question', 'safety', 'anthrax', 'research', 'tuesday', 'time', '1969', 'classes', 'city', 'college', 'new', 'york', 'canceled', 'student', 'protests', 'school', 'spokesman', 'charles', 'deciccio', 'protesters', 'demanding', 'face', 'face', 'meeting', 'gov', 'mario', 'cuomo', 'feared', 'tuition', 'college', '1', '250', 'increased', 'college', 'staff', 'reduced', 'state', 'budget', 'cuts', 'governor', 'immediate', 'comment', 'tuition', 'set', 'deciccio']\n"
     ]
    }
   ],
   "source": [
    "print([id2token[word_id] for word_id in example_document[1] if word_id > 0])"
   ]
  },
  {
   "cell_type": "markdown",
   "metadata": {},
   "source": [
    "The reverse can also be done, say we want to look for news about the \"University of Massachusetts\", the tokens of that query can be converted to ids using the reverse dictionary:"
   ]
  },
  {
   "cell_type": "code",
   "execution_count": 8,
   "metadata": {
    "collapsed": false
   },
   "outputs": [
    {
     "name": "stdout",
     "output_type": "stream",
     "text": [
      "Query by tokens: ['university', '', 'massachusetts']\n",
      "Query by ids with stopwords: [200, 0, 894]\n",
      "Query by ids without stopwords: [200, 894]\n"
     ]
    }
   ],
   "source": [
    "query_tokens = index.tokenize(\"University of Massachusetts\")\n",
    "print(\"Query by tokens:\", query_tokens)\n",
    "query_id_tokens = [token2id.get(query_token,0) for query_token in query_tokens]\n",
    "print(\"Query by ids with stopwords:\", query_id_tokens)\n",
    "query_id_tokens = [word_id for word_id in query_id_tokens if word_id > 0]\n",
    "print(\"Query by ids without stopwords:\", query_id_tokens)"
   ]
  },
  {
   "cell_type": "markdown",
   "metadata": {},
   "source": [
    "Naturally we can now match the document and query in the id space, let's see how often a word from the query occurs in our example document:"
   ]
  },
  {
   "cell_type": "code",
   "execution_count": 4,
   "metadata": {
    "collapsed": false
   },
   "outputs": [
    {
     "ename": "NameError",
     "evalue": "name 'example_document' is not defined",
     "output_type": "error",
     "traceback": [
      "\u001b[0;31m---------------------------------------------------------------------------\u001b[0m",
      "\u001b[0;31mNameError\u001b[0m                                 Traceback (most recent call last)",
      "\u001b[0;32m<ipython-input-4-36f2e4e7e089>\u001b[0m in \u001b[0;36m<module>\u001b[0;34m()\u001b[0m\n\u001b[0;32m----> 1\u001b[0;31m \u001b[0mmatching_words\u001b[0m \u001b[0;34m=\u001b[0m \u001b[0msum\u001b[0m\u001b[0;34m(\u001b[0m\u001b[0;34m[\u001b[0m\u001b[0;32mTrue\u001b[0m \u001b[0;32mfor\u001b[0m \u001b[0mword_id\u001b[0m \u001b[0;32min\u001b[0m \u001b[0mexample_document\u001b[0m\u001b[0;34m[\u001b[0m\u001b[0;36m1\u001b[0m\u001b[0;34m]\u001b[0m \u001b[0;32mif\u001b[0m \u001b[0mword_id\u001b[0m \u001b[0;32min\u001b[0m \u001b[0mquery_id_tokens\u001b[0m\u001b[0;34m]\u001b[0m\u001b[0;34m)\u001b[0m\u001b[0;34m\u001b[0m\u001b[0m\n\u001b[0m\u001b[1;32m      2\u001b[0m \u001b[0mprint\u001b[0m\u001b[0;34m(\u001b[0m\u001b[0;34m\"Document %s has %d word matches with query: \\\"%s\\\".\"\u001b[0m \u001b[0;34m%\u001b[0m \u001b[0;34m(\u001b[0m\u001b[0mexample_document\u001b[0m\u001b[0;34m[\u001b[0m\u001b[0;36m0\u001b[0m\u001b[0;34m]\u001b[0m\u001b[0;34m,\u001b[0m \u001b[0mmatching_words\u001b[0m\u001b[0;34m,\u001b[0m \u001b[0;34m' '\u001b[0m\u001b[0;34m.\u001b[0m\u001b[0mjoin\u001b[0m\u001b[0;34m(\u001b[0m\u001b[0mquery_tokens\u001b[0m\u001b[0;34m)\u001b[0m\u001b[0;34m)\u001b[0m\u001b[0;34m)\u001b[0m\u001b[0;34m\u001b[0m\u001b[0m\n\u001b[1;32m      3\u001b[0m \u001b[0mprint\u001b[0m\u001b[0;34m(\u001b[0m\u001b[0;34m\"Document %s and query \\\"%s\\\" have a %.01f%% overlap.\"\u001b[0m \u001b[0;34m%\u001b[0m \u001b[0;34m(\u001b[0m\u001b[0mexample_document\u001b[0m\u001b[0;34m[\u001b[0m\u001b[0;36m0\u001b[0m\u001b[0;34m]\u001b[0m\u001b[0;34m,\u001b[0m \u001b[0;34m' '\u001b[0m\u001b[0;34m.\u001b[0m\u001b[0mjoin\u001b[0m\u001b[0;34m(\u001b[0m\u001b[0mquery_tokens\u001b[0m\u001b[0;34m)\u001b[0m\u001b[0;34m,\u001b[0m\u001b[0mmatching_words\u001b[0m\u001b[0;34m/\u001b[0m\u001b[0mfloat\u001b[0m\u001b[0;34m(\u001b[0m\u001b[0mlen\u001b[0m\u001b[0;34m(\u001b[0m\u001b[0mexample_document\u001b[0m\u001b[0;34m[\u001b[0m\u001b[0;36m1\u001b[0m\u001b[0;34m]\u001b[0m\u001b[0;34m)\u001b[0m\u001b[0;34m)\u001b[0m\u001b[0;34m*\u001b[0m\u001b[0;36m100\u001b[0m\u001b[0;34m)\u001b[0m\u001b[0;34m)\u001b[0m\u001b[0;34m\u001b[0m\u001b[0m\n",
      "\u001b[0;31mNameError\u001b[0m: name 'example_document' is not defined"
     ]
    }
   ],
   "source": [
    "matching_words = sum([True for word_id in example_document[1] if word_id in query_id_tokens])\n",
    "print(\"Document %s has %d word matches with query: \\\"%s\\\".\" % (example_document[0], matching_words, ' '.join(query_tokens)))\n",
    "print(\"Document %s and query \\\"%s\\\" have a %.01f%% overlap.\" % (example_document[0], ' '.join(query_tokens),matching_words/float(len(example_document[1]))*100))"
   ]
  },
  {
   "cell_type": "markdown",
   "metadata": {},
   "source": [
    "While this is certainly not everything Pyndri can do, it should give you an idea of how to use it. Please take a look at the [examples](https://github.com/cvangysel/pyndri) as it will help you a lot with this assignment.\n",
    "\n",
    "**CAUTION**: Avoid printing out the whole index in this Notebook as it will generate a lot of output and is likely to corrupt the Notebook."
   ]
  },
  {
   "cell_type": "markdown",
   "metadata": {},
   "source": [
    "### Parsing the query file\n",
    "You can parse the query file (`ap_88_89/topics_title`) using the following snippet:"
   ]
  },
  {
   "cell_type": "code",
   "execution_count": 2,
   "metadata": {
    "collapsed": false
   },
   "outputs": [
    {
     "name": "stdout",
     "output_type": "stream",
     "text": [
      "OrderedDict([('51', 'Airbus Subsidies'), ('52', 'South African Sanctions'), ('53', 'Leveraged Buyouts'), ('54', 'Satellite Launch Contracts'), ('55', 'Insider Trading'), ('56', 'Prime (Lending) Rate Moves, Predictions'), ('57', 'MCI'), ('58', 'Rail Strikes'), ('59', 'Weather Related Fatalities'), ('60', 'Merit-Pay vs. Seniority'), ('61', 'Israeli Role in Iran-Contra Affair'), ('62', \"Military Coups D'etat\"), ('63', 'Machine Translation'), ('64', 'Hostage-Taking'), ('65', 'Information Retrieval Systems'), ('66', 'Natural Language Processing'), ('67', 'Politically Motivated Civil Disturbances'), ('68', 'Health Hazards from Fine-Diameter Fibers'), ('69', 'Attempts to Revive the SALT II Treaty'), ('70', 'Surrogate Motherhood'), ('71', 'Border Incursions'), ('72', 'Demographic Shifts in the U.S.'), ('73', 'Demographic Shifts across National Boundaries'), ('74', 'Conflicting Policy'), ('75', 'Automation'), ('76', 'U.S. Constitution - Original Intent'), ('77', 'Poaching'), ('78', 'Greenpeace'), ('79', 'FRG Political Party Positions'), ('80', '1988 Presidential Candidates Platforms'), ('81', 'Financial crunch for televangelists in the wake of the PTL scandal'), ('82', 'Genetic Engineering'), ('83', 'Measures to Protect the Atmosphere'), ('84', 'Alternative/renewable Energy Plant & Equipment Installation'), ('85', 'Official Corruption'), ('86', 'Bank Failures'), ('87', 'Criminal Actions Against Officers of Failed Financial Institutions'), ('88', 'Crude Oil Price Trends'), ('89', '\"Downstream\" Investments by OPEC Member States'), ('90', 'Data on Proven Reserves of Oil & Natural Gas Producers'), ('91', 'U.S. Army Acquisition of Advanced Weapons Systems'), ('92', 'International Military Equipment Sales'), ('93', 'What Backing Does the National Rifle Association Have?'), ('94', 'Computer-aided Crime'), ('95', 'Computer-aided Crime Detection'), ('96', 'Computer-Aided Medical Diagnosis'), ('97', 'Fiber Optics Applications'), ('98', 'Fiber Optics Equipment Manufacturers'), ('99', 'Iran-Contra Affair'), ('100', 'Controlling the Transfer of High Technology'), ('101', 'Design of the \"Star Wars\" Anti-missile Defense System'), ('102', \"Laser Research Applicable to the U.S.'s Strategic Defense Initiative\"), ('103', 'Welfare Reform'), ('104', 'Catastrophic Health Insurance'), ('105', '\"Black Monday\"'), ('106', 'U.S. Control of Insider Trading'), ('107', 'Japanese Regulation of Insider Trading'), ('108', 'Japanese Protectionist Measures'), ('109', 'Find Innovative Companies'), ('110', 'Black Resistance Against the South African Government'), ('111', 'Nuclear Proliferation'), ('112', 'Funding Biotechnology'), ('113', 'New Space Satellite Applications'), ('114', 'Non-commercial Satellite Launches'), ('115', 'Impact of the 1986 Immigration Law'), ('116', 'Generic Drug Substitutions'), ('117', 'Capacity of the U.S. Cellular Telephone Network'), ('118', 'International Terrorists'), ('119', 'Actions Against International Terrorists'), ('120', 'Economic Impact of International Terrorism'), ('121', 'Death from Cancer'), ('122', 'RDT&E of New Cancer Fighting Drugs'), ('123', 'Research into & Control of Carcinogens'), ('124', 'Alternatives to Traditional Cancer Therapies'), ('125', 'Anti-smoking Actions by Government'), ('126', 'Medical Ethics and Modern Technology'), ('127', 'U.S.-U.S.S.R. Arms Control Agreements'), ('128', 'Privatization of State Assets'), ('129', 'Soviet Spying on the U.S.'), ('130', 'Jewish Emigration and U.S.-USSR Relations'), ('131', 'McDonnell Douglas Contracts for Military Aircraft'), ('132', '\"Stealth\" Aircraft'), ('133', 'Hubble Space Telescope'), ('134', 'The Human Genome Project'), ('135', 'Possible Contributions of Gene Mapping to Medicine'), ('136', 'Diversification by Pacific Telesis'), ('137', 'Expansion in the U.S. Theme Park Industry'), ('138', 'Iranian Support for Lebanese Hostage-takers'), ('139', \"Iran's Islamic Revolution - Domestic and Foreign Social Consequences\"), ('140', 'Political Impact of Islamic Fundamentalism'), ('141', \"Japan's Handling of its Trade Surplus with the U.S.\"), ('142', 'Impact of Government Regulated Grain Farming on International Relations'), ('143', 'Why Protect U.S. Farmers?'), ('144', 'Management Problems at the United Nations'), ('145', 'Influence of the \"Pro-Israel Lobby\"'), ('146', 'Negotiating an End to the Nicaraguan Civil War'), ('147', 'Productivity Trends in the U.S. Economy'), ('148', 'Conflict in the Horn of Africa'), ('149', 'Industrial Espionage'), ('150', 'U.S. Political Campaign Financing'), ('151', 'Coping with overcrowded prisons'), ('152', 'Accusations of Cheating by Contractors on U.S. Defense Projects'), ('153', 'Insurance Coverage which pays for Long Term Care'), ('154', 'Oil Spills'), ('155', 'Right Wing Christian Fundamentalism in U.S.'), ('156', 'Efforts to enact Gun Control Legislation'), ('157', 'Causes and treatments of multiple sclerosis (MS)'), ('158', 'Term limitations for members of the U.S. Congress'), ('159', 'Electric Car Development'), ('160', 'Vitamins - The Cure for or Cause of Human Ailments'), ('161', 'Acid Rain'), ('162', 'Automobile Recalls'), ('163', 'Vietnam Veterans and Agent Orange'), ('164', 'Generic Drugs - Illegal Activities by Manufacturers'), ('165', 'Tobacco company advertising and the young'), ('166', 'Standardized testing and cultural bias'), ('167', 'Regulation of the showing of violence and explicit sex in motion picture theaters, on television, and on video cassettes.'), ('168', 'Financing AMTRAK'), ('169', 'Cost of Garbage/Trash Removal'), ('170', 'The Consequences of Implantation of Silicone Gel Breast Devices'), ('171', \"Use of Mutual Funds in an Individual's Retirement Strategy\"), ('172', 'The Effectiveness of Medical Products and Related Programs Utilized in the Cessation of Smoking.'), ('173', 'Smoking Bans'), ('174', 'Hazardous Waste Cleanup'), ('175', 'NRA Prevention of Gun Control Legislation'), ('176', 'Real-life private investigators'), ('177', 'English as the Official Language in U.S.'), ('178', 'Dog Maulings'), ('179', 'U. S. Restaurants in Foreign Lands'), ('180', 'Ineffectiveness of U.S. Embargoes/Sanctions'), ('181', 'Abuse of the Elderly by Family Members, and Medical and Nonmedical Personnel, and Initiatives Being Taken to Minimize This Mistreatment'), ('182', 'Commercial Overfishing Creates Food Fish Deficit'), ('183', 'Asbestos Related Lawsuits'), ('184', 'Corporate Pension Plans/Funds'), ('185', 'Reform of the U.S. Welfare System'), ('186', 'Difference of Learning Levels Among Inner City and More Suburban School Students'), ('187', 'Signs of the Demise of Independent Publishing'), ('188', 'Beachfront Erosion'), ('189', 'Real Motives for Murder'), ('190', 'Instances of Fraud Involving the Use of a Computer'), ('191', 'Efforts to Improve U.S. Schooling'), ('192', 'Oil Spill Cleanup'), ('193', 'Toys R Dangerous'), ('194', 'The Amount of Money Earned by Writers'), ('195', 'Stock Market Perturbations Attributable to Computer Initiated Trading'), ('196', 'School Choice Voucher System and its effects upon the entire U.S. educational program'), ('197', 'Reform of the jurisprudence system to stop juries from granting unreasonable monetary awards'), ('198', 'Gene Therapy and Its Benefits to Humankind'), ('199', 'Legality of Medically Assisted Suicides'), ('200', 'Impact of foreign textile imports on U.S. textile industry')])\n"
     ]
    }
   ],
   "source": [
    "import collections\n",
    "import io\n",
    "import logging\n",
    "import sys\n",
    "\n",
    "def parse_topics(file_or_files,\n",
    "                 max_topics=sys.maxsize, delimiter=';'):\n",
    "    assert max_topics >= 0 or max_topics is None\n",
    "\n",
    "    topics = collections.OrderedDict()\n",
    "\n",
    "    if not isinstance(file_or_files, list) and \\\n",
    "            not isinstance(file_or_files, tuple):\n",
    "        if hasattr(file_or_files, '__iter__'):\n",
    "            file_or_files = list(file_or_files)\n",
    "        else:\n",
    "            file_or_files = [file_or_files]\n",
    "\n",
    "    for f in file_or_files:\n",
    "        assert isinstance(f, io.IOBase)\n",
    "\n",
    "        for line in f:\n",
    "            assert(isinstance(line, str))\n",
    "\n",
    "            line = line.strip()\n",
    "\n",
    "            if not line:\n",
    "                continue\n",
    "\n",
    "            topic_id, terms = line.split(delimiter, 1)\n",
    "\n",
    "            if topic_id in topics and (topics[topic_id] != terms):\n",
    "                    logging.error('Duplicate topic \"%s\" (%s vs. %s).',\n",
    "                                  topic_id,\n",
    "                                  topics[topic_id],\n",
    "                                  terms)\n",
    "\n",
    "            topics[topic_id] = terms\n",
    "\n",
    "            if max_topics > 0 and len(topics) >= max_topics:\n",
    "                break\n",
    "\n",
    "    return topics\n",
    "\n",
    "with open('./ap_88_89/topics_title', 'r') as f_topics:\n",
    "    print(parse_topics([f_topics]))\n",
    "    topics = parse_topics([f_topics])"
   ]
  },
  {
   "cell_type": "markdown",
   "metadata": {},
   "source": [
    "### Task 1: Implement and compare lexical IR methods [35 points] ### \n",
    "\n",
    "In this task you will implement a number of lexical methods for IR using the **Pyndri** framework. Then you will evaluate these methods on the dataset we have provided using **TREC Eval**.\n",
    "\n",
    "Use the **Pyndri** framework to get statistics of the documents (term frequency, document frequency, collection frequency; **you are not allowed to use the query functionality of Pyndri**) and implement the following scoring methods in **Python**:\n",
    "\n",
    "- [TF-IDF](http://nlp.stanford.edu/IR-book/html/htmledition/tf-idf-weighting-1.html) and \n",
    "- [BM25](http://nlp.stanford.edu/IR-book/html/htmledition/okapi-bm25-a-non-binary-model-1.html) with k1=1.2 and b=0.75. **[5 points]**\n",
    "- Language models ([survey](https://drive.google.com/file/d/0B-zklbckv9CHc0c3b245UW90NE0/view))\n",
    "    - Jelinek-Mercer (explore different values of 𝛌 in the range [0.1, 0.5, 0.9]). **[5 points]**\n",
    "    - Dirichlet Prior (explore different values of 𝛍 [500, 1000, 1500]). **[5 points]**\n",
    "    - Absolute discounting (explore different values of 𝛅 in the range [0.1, 0.5, 0.9]). **[5 points]**\n",
    "    - [Positional Language Models](http://sifaka.cs.uiuc.edu/~ylv2/pub/sigir09-plm.pdf) define a language model for each position of a document, and score a document based on the scores of its PLMs. The PLM is estimated based on propagated counts of words within a document through a proximity-based density function, which both captures proximity heuristics and achieves an effect of “soft” passage retrieval. Implement the PLM, all five kernels, but only the Best position strategy to score documents. Use 𝛔 equal to 50, and Dirichlet smoothing with 𝛍 optimized on the validation set (decide how to optimize this value yourself and motivate your decision in the report). **[10 points]**\n",
    "    \n",
    "Implement the above methods and report evaluation measures (on the test set) using the hyper parameter values you optimized on the validation set (also report the values of the hyper parameters). Use TREC Eval to obtain the results and report on `NDCG@10`, Mean Average Precision (`MAP@1000`), `Precision@5` and `Recall@1000`.\n",
    "\n",
    "For the language models, create plots showing `NDCG@10` with varying values of the parameters. You can do this by chaining small scripts using shell scripting (preferred) or execute trec_eval using Python's `subprocess`.\n",
    "\n",
    "Compute significance of the results using a [two-tailed paired Student t-test](https://docs.scipy.org/doc/scipy/reference/generated/scipy.stats.ttest_rel.html) **[5 points]**. Be wary of false rejection of the null hypothesis caused by the [multiple comparisons problem](https://en.wikipedia.org/wiki/Multiple_comparisons_problem). There are multiple ways to mitigate this problem and it is up to you to choose one.\n",
    "\n",
    "Analyse the results by identifying specific queries where different methods succeed or fail and discuss possible reasons that cause these differences. This is *very important* in order to understand who the different retrieval functions behave.\n",
    "\n",
    "**NOTE**: Don’t forget to use log computations in your calculations to avoid underflows. "
   ]
  },
  {
   "cell_type": "markdown",
   "metadata": {},
   "source": [
    "**IMPORTANT**: You should structure your code around the helper functions we provide below."
   ]
  },
  {
   "cell_type": "code",
   "execution_count": 5,
   "metadata": {
    "collapsed": false
   },
   "outputs": [
    {
     "name": "stdout",
     "output_type": "stream",
     "text": [
      "Gathering statistics about 456 terms.\n"
     ]
    }
   ],
   "source": [
    "with open('./ap_88_89/topics_title', 'r') as f_topics:\n",
    "    queries = parse_topics([f_topics])\n",
    "\n",
    "index = pyndri.Index('index/')\n",
    "\n",
    "num_documents = index.maximum_document() - index.document_base()\n",
    "\n",
    "dictionary = pyndri.extract_dictionary(index)\n",
    "\n",
    "tokenized_queries = {\n",
    "    query_id: [dictionary.translate_token(token)\n",
    "               for token in index.tokenize(query_string)\n",
    "               if dictionary.has_token(token)]\n",
    "    for query_id, query_string in queries.items()}\n",
    "\n",
    "query_term_ids = set(\n",
    "    query_term_id\n",
    "    for query_term_ids in tokenized_queries.values()\n",
    "    for query_term_id in query_term_ids)\n",
    "\n",
    "print('Gathering statistics about', len(query_term_ids), 'terms.')\n",
    "\n",
    "# inverted index creation.\n",
    "\n",
    "document_lengths = {}\n",
    "unique_terms_per_document = {}\n",
    "\n",
    "inverted_index = collections.defaultdict(dict)\n",
    "collection_frequencies = collections.defaultdict(int)\n",
    "\n",
    "total_terms = 0\n",
    "\n",
    "for int_doc_id in range(index.document_base(), index.maximum_document()):\n",
    "    ext_doc_id, doc_token_ids = index.document(int_doc_id)\n",
    "\n",
    "    document_bow = collections.Counter(\n",
    "        token_id for token_id in doc_token_ids\n",
    "        if token_id > 0)\n",
    "    document_length = sum(document_bow.values())\n",
    "\n",
    "    document_lengths[int_doc_id] = document_length\n",
    "    total_terms += document_length\n",
    "\n",
    "    unique_terms_per_document[int_doc_id] = len(document_bow)\n",
    "\n",
    "    for query_term_id in query_term_ids:\n",
    "        assert query_term_id is not None\n",
    "\n",
    "        document_term_frequency = document_bow.get(query_term_id, 0)\n",
    "\n",
    "        if document_term_frequency == 0:\n",
    "            continue\n",
    "\n",
    "        collection_frequencies[query_term_id] += document_term_frequency\n",
    "        inverted_index[query_term_id][int_doc_id] = document_term_frequency\n",
    "\n",
    "avg_doc_length = total_terms / num_documents\n",
    "\n",
    "#print('Inverted index creation took', time.time() - start_time, 'seconds.')"
   ]
  },
  {
   "cell_type": "code",
   "execution_count": 155,
   "metadata": {
    "collapsed": true,
    "scrolled": true
   },
   "outputs": [],
   "source": [
    "import time\n",
    "\n",
    "\n",
    "def run_retrieval(model_name, score_fn, parameter = None):\n",
    "    \"\"\"\n",
    "    Runs a retrieval method for all the queries and writes the TREC-friendly results in a file.\n",
    "    \n",
    "    :param model_name: the name of the model (a string)\n",
    "    :param score_fn: the scoring function (a function - see below for an example) \n",
    "    \"\"\"\n",
    "    run_out_path = '{}.run'.format(model_name)\n",
    "\n",
    "    if os.path.exists(run_out_path):\n",
    "        return\n",
    "\n",
    "    retrieval_start_time = time.time()\n",
    "\n",
    "    print('Retrieving using', model_name)\n",
    "    \n",
    "    data = {}\n",
    "    \n",
    "    # TODO: fill the data dictionary. \n",
    "    # The dictionary data should have the form: query_id --> (document_score, external_doc_id)\n",
    "\n",
    "    with open('./ap_88_89/topics_title', 'r') as f_topics:\n",
    "        query_list = parse_topics([f_topics])\n",
    "        \n",
    "    for query, sentence in query_list.items():\n",
    "        print('{:.1f}s: {}'.format(time.time() - retrieval_start_time, query))\n",
    "        query_ids = [token2id.get(word,0) for word in index.tokenize(sentence) if(token2id.get(word,0) > 0)]\n",
    "\n",
    "        document_scores = []\n",
    "        for document_id in range(index.document_base(), 5000): #\n",
    "            document = index.document(document_id)\n",
    "            score = score_fn(document_id, query_ids)\n",
    "            document_scores.append((score, document[0]))\n",
    "            \n",
    "        sorted(document_scores, reverse = True)\n",
    "        data[query] = document_scores               \n",
    "        \n",
    "\n",
    "    with open(run_out_path, 'w') as f_out:\n",
    "        write_run(\n",
    "            model_name=model_name,\n",
    "            data=data,\n",
    "            out_f=f_out,\n",
    "            max_objects_per_query=1000)\n",
    "\n",
    "#run_retrieval('Jelinek_Mercer', Jelinek_Mercer)"
   ]
  },
  {
   "cell_type": "code",
   "execution_count": 156,
   "metadata": {
    "collapsed": false
   },
   "outputs": [
    {
     "name": "stdout",
     "output_type": "stream",
     "text": [
      "Retrieving using tfidf\n",
      "0.0s: 51\n",
      "0.3s: 52\n",
      "0.6s: 53\n",
      "0.9s: 54\n",
      "1.2s: 55\n",
      "1.5s: 56\n",
      "1.8s: 57\n",
      "2.2s: 58\n",
      "2.5s: 59\n",
      "2.8s: 60\n",
      "3.1s: 61\n",
      "3.4s: 62\n",
      "3.7s: 63\n",
      "4.0s: 64\n",
      "4.2s: 65\n",
      "4.5s: 66\n",
      "4.8s: 67\n",
      "5.2s: 68\n",
      "5.5s: 69\n",
      "5.9s: 70\n",
      "6.1s: 71\n",
      "6.4s: 72\n",
      "6.7s: 73\n",
      "7.1s: 74\n",
      "7.3s: 75\n",
      "7.5s: 76\n",
      "7.9s: 77\n",
      "8.1s: 78\n",
      "8.3s: 79\n",
      "8.7s: 80\n",
      "9.0s: 81\n",
      "9.4s: 82\n",
      "9.7s: 83\n",
      "9.9s: 84\n",
      "10.4s: 85\n",
      "10.6s: 86\n",
      "10.9s: 87\n",
      "11.3s: 88\n",
      "11.6s: 89\n",
      "12.0s: 90\n",
      "12.4s: 91\n",
      "12.8s: 92\n",
      "13.1s: 93\n",
      "13.4s: 94\n",
      "13.7s: 95\n",
      "14.0s: 96\n",
      "14.3s: 97\n",
      "14.6s: 98\n",
      "14.9s: 99\n",
      "15.2s: 100\n",
      "15.5s: 101\n",
      "15.9s: 102\n",
      "16.4s: 103\n",
      "16.7s: 104\n",
      "17.0s: 105\n",
      "17.3s: 106\n",
      "17.6s: 107\n",
      "17.9s: 108\n",
      "18.2s: 109\n",
      "18.5s: 110\n",
      "18.8s: 111\n",
      "19.1s: 112\n",
      "19.3s: 113\n",
      "19.7s: 114\n",
      "20.0s: 115\n",
      "20.3s: 116\n",
      "20.5s: 117\n",
      "20.9s: 118\n",
      "21.2s: 119\n",
      "21.5s: 120\n",
      "21.8s: 121\n",
      "22.0s: 122\n",
      "22.4s: 123\n",
      "22.7s: 124\n",
      "23.0s: 125\n",
      "23.3s: 126\n",
      "23.6s: 127\n",
      "24.1s: 128\n",
      "24.4s: 129\n",
      "24.7s: 130\n",
      "25.1s: 131\n",
      "25.4s: 132\n",
      "25.7s: 133\n",
      "25.9s: 134\n",
      "26.2s: 135\n",
      "26.6s: 136\n",
      "26.9s: 137\n",
      "27.3s: 138\n",
      "27.6s: 139\n",
      "28.0s: 140\n",
      "28.3s: 141\n",
      "28.7s: 142\n",
      "29.1s: 143\n",
      "29.4s: 144\n",
      "29.8s: 145\n",
      "30.1s: 146\n",
      "30.4s: 147\n",
      "30.8s: 148\n",
      "31.1s: 149\n",
      "31.3s: 150\n",
      "31.7s: 151\n",
      "31.9s: 152\n",
      "32.3s: 153\n",
      "32.7s: 154\n",
      "32.9s: 155\n",
      "33.3s: 156\n",
      "33.7s: 157\n",
      "34.0s: 158\n",
      "34.3s: 159\n",
      "34.6s: 160\n",
      "35.0s: 161\n",
      "35.2s: 162\n",
      "35.5s: 163\n",
      "35.8s: 164\n",
      "36.2s: 165\n",
      "36.5s: 166\n",
      "36.8s: 167\n",
      "37.3s: 168\n",
      "37.6s: 169\n",
      "37.9s: 170\n",
      "38.3s: 171\n",
      "38.6s: 172\n",
      "39.0s: 173\n",
      "39.3s: 174\n",
      "39.6s: 175\n",
      "39.9s: 176\n",
      "40.2s: 177\n",
      "40.6s: 178\n",
      "40.8s: 179\n",
      "41.2s: 180\n",
      "41.5s: 181\n",
      "42.1s: 182\n",
      "42.5s: 183\n",
      "42.8s: 184\n",
      "43.2s: 185\n",
      "43.6s: 186\n",
      "44.1s: 187\n",
      "44.5s: 188\n",
      "44.8s: 189\n",
      "45.1s: 190\n",
      "45.4s: 191\n",
      "45.8s: 192\n",
      "46.1s: 193\n",
      "46.5s: 194\n",
      "46.8s: 195\n",
      "47.2s: 196\n",
      "47.8s: 197\n",
      "48.4s: 198\n",
      "48.7s: 199\n",
      "49.1s: 200\n",
      "Retrieving using BM25\n",
      "0.0s: 51\n",
      "0.2s: 52\n",
      "0.6s: 53\n",
      "0.9s: 54\n",
      "1.1s: 55\n",
      "1.4s: 56\n",
      "1.8s: 57\n",
      "2.0s: 58\n",
      "2.2s: 59\n",
      "2.5s: 60\n",
      "2.8s: 61\n",
      "3.1s: 62\n",
      "3.4s: 63\n",
      "3.6s: 64\n",
      "3.9s: 65\n",
      "4.1s: 66\n",
      "4.4s: 67\n",
      "4.7s: 68\n",
      "5.0s: 69\n",
      "5.4s: 70\n",
      "5.6s: 71\n",
      "5.8s: 72\n",
      "6.1s: 73\n",
      "6.4s: 74\n",
      "6.6s: 75\n",
      "6.8s: 76\n",
      "7.2s: 77\n",
      "7.4s: 78\n",
      "7.6s: 79\n",
      "7.9s: 80\n",
      "8.1s: 81\n",
      "8.5s: 82\n",
      "8.7s: 83\n",
      "9.0s: 84\n",
      "9.4s: 85\n",
      "9.6s: 86\n",
      "9.8s: 87\n",
      "10.2s: 88\n",
      "10.4s: 89\n",
      "10.7s: 90\n",
      "11.0s: 91\n",
      "11.4s: 92\n",
      "11.6s: 93\n",
      "11.9s: 94\n",
      "12.1s: 95\n",
      "12.4s: 96\n",
      "12.7s: 97\n",
      "12.9s: 98\n",
      "13.1s: 99\n",
      "13.4s: 100\n",
      "13.6s: 101\n",
      "14.0s: 102\n",
      "14.3s: 103\n",
      "14.6s: 104\n",
      "14.8s: 105\n",
      "15.0s: 106\n",
      "15.3s: 107\n",
      "15.6s: 108\n",
      "15.8s: 109\n",
      "16.0s: 110\n",
      "16.3s: 111\n",
      "16.5s: 112\n",
      "16.8s: 113\n",
      "17.0s: 114\n",
      "17.3s: 115\n",
      "17.6s: 116\n",
      "17.8s: 117\n",
      "18.1s: 118\n",
      "18.3s: 119\n",
      "18.6s: 120\n",
      "18.8s: 121\n",
      "19.0s: 122\n",
      "19.3s: 123\n",
      "19.6s: 124\n",
      "19.9s: 125\n",
      "20.1s: 126\n",
      "20.4s: 127\n",
      "20.8s: 128\n",
      "21.0s: 129\n",
      "21.3s: 130\n",
      "21.6s: 131\n",
      "22.0s: 132\n",
      "22.2s: 133\n",
      "22.5s: 134\n",
      "22.7s: 135\n",
      "23.1s: 136\n",
      "23.3s: 137\n",
      "23.7s: 138\n",
      "24.0s: 139\n",
      "24.4s: 140\n",
      "24.7s: 141\n",
      "25.0s: 142\n",
      "25.4s: 143\n",
      "25.7s: 144\n",
      "26.0s: 145\n",
      "26.3s: 146\n",
      "26.7s: 147\n",
      "27.0s: 148\n",
      "27.2s: 149\n",
      "27.5s: 150\n",
      "27.8s: 151\n",
      "28.0s: 152\n",
      "28.4s: 153\n",
      "28.7s: 154\n",
      "28.9s: 155\n",
      "29.3s: 156\n",
      "29.6s: 157\n",
      "29.8s: 158\n",
      "30.2s: 159\n",
      "30.4s: 160\n",
      "30.7s: 161\n",
      "31.0s: 162\n",
      "31.2s: 163\n",
      "31.5s: 164\n",
      "31.8s: 165\n",
      "32.1s: 166\n",
      "32.4s: 167\n",
      "32.8s: 168\n",
      "33.1s: 169\n",
      "33.3s: 170\n",
      "33.7s: 171\n",
      "33.9s: 172\n",
      "34.3s: 173\n",
      "34.6s: 174\n",
      "34.8s: 175\n",
      "35.1s: 176\n",
      "35.4s: 177\n",
      "35.7s: 178\n",
      "35.9s: 179\n",
      "36.2s: 180\n",
      "36.6s: 181\n",
      "37.0s: 182\n",
      "37.3s: 183\n",
      "37.6s: 184\n",
      "37.9s: 185\n",
      "38.2s: 186\n",
      "38.6s: 187\n",
      "38.9s: 188\n",
      "39.2s: 189\n",
      "39.4s: 190\n",
      "39.7s: 191\n",
      "40.0s: 192\n",
      "40.3s: 193\n",
      "40.5s: 194\n",
      "40.8s: 195\n",
      "41.2s: 196\n",
      "41.6s: 197\n",
      "42.0s: 198\n",
      "42.3s: 199\n",
      "42.5s: 200\n"
     ]
    }
   ],
   "source": [
    "# run all experiments\n",
    "run_retrieval('tfidf', tfidf)\n",
    "run_retrieval('BM25', BM25)\n",
    "# run_retrieval('Jelinek-Mercer', Jelinek_Mercer)\n",
    "#run_retrieval('Dirichlet Prior', Dirichlet)\n",
    "#run_retrieval('Absolute Discounting', Absolute_Discounting)\n",
    "\n"
   ]
  },
  {
   "cell_type": "code",
   "execution_count": 123,
   "metadata": {
    "collapsed": false
   },
   "outputs": [
    {
     "data": {
      "text/plain": [
       "0"
      ]
     },
     "execution_count": 123,
     "metadata": {},
     "output_type": "execute_result"
    }
   ],
   "source": [
    "document_lengths[93688]"
   ]
  },
  {
   "cell_type": "code",
   "execution_count": 108,
   "metadata": {
    "collapsed": false
   },
   "outputs": [
    {
     "name": "stdout",
     "output_type": "stream",
     "text": [
      "0.0\n"
     ]
    }
   ],
   "source": [
    "def tfidf(int_document_id, query_term_ids):\n",
    "    \"\"\"\n",
    "    Scoring function for a document and a query term\n",
    "    \n",
    "    :param int_document_id: the document id\n",
    "    :param query_token_id: the query term id (assuming you have split the query to tokens)\n",
    "    :param document_term_freq: the document term frequency of the query term \n",
    "    \"\"\"\n",
    "    tfidf_score = 0\n",
    "    \n",
    "    for query_term_id in query_term_ids:\n",
    "        tf = inverted_index[query_term_id].get(int_document_id, 0)\n",
    "        num_of_document = index.maximum_document() - index.document_base()\n",
    "\n",
    "        document_frequency = len(inverted_index[query_term_id])\n",
    "        \n",
    "        idf = numpy.log(num_of_document / document_frequency)\n",
    "\n",
    "        #tf_idf = numpy.log(1+numpy.log(tf)) * idf\n",
    "        #if tf is zero ???\n",
    "        tf_idf = numpy.log(1+tf) * idf\n",
    "\n",
    "        tfidf_score += tf_idf\n",
    "        \n",
    "    return tfidf_score\n",
    "\n",
    "#print(tfidf(223, [8]))\n",
    "print(tfidf(2, [5872, 3066]))\n",
    "\n",
    "\n",
    "# tfidf_query_env = pyndri.TFIDFQueryEnvironment(index)\n",
    "# results = tfidf_query_env.query(id2token[8], results_requested=10)\n",
    "# print(len(results), 'results. Top 5:', results[:5])\n",
    "\n",
    "\n",
    "\n",
    "# combining the two functions above: \n",
    "#run_retrieval('tfidf', tfidf)\n",
    "\n",
    "# TODO implement the rest of the retrieval functions \n",
    "\n",
    "# TODO implement tools to help you with the analysis of the results."
   ]
  },
  {
   "cell_type": "code",
   "execution_count": 67,
   "metadata": {
    "collapsed": false
   },
   "outputs": [
    {
     "data": {
      "text/plain": [
       "1.1846073783530506"
      ]
     },
     "execution_count": 67,
     "metadata": {},
     "output_type": "execute_result"
    }
   ],
   "source": [
    "def BM25(int_document_id, query_term_ids, k1=1.2,b=0.75):\n",
    "    \n",
    "    BM25_score = 0\n",
    "    for query_term_id in query_term_ids:\n",
    "        tf = inverted_index[query_term_id].get(int_document_id, 0)\n",
    "        idf = 0 \n",
    "        num_of_document = index.maximum_document() - index.document_base()\n",
    "\n",
    "\n",
    "        document_frequency = len(inverted_index[query_term_id])\n",
    "        idf = numpy.log(num_of_document / document_frequency)\n",
    "\n",
    "        nominator = ((k1 + 1) * tf) * idf\n",
    "        denominator = k1 * ((1-b) + b * (document_lengths[int_document_id] / avg_doc_length)) + tf #document_length\n",
    "        BM25_score += nominator / denominator\n",
    "    \n",
    "    return BM25_score\n",
    "\n",
    "BM25(1, [11])"
   ]
  },
  {
   "cell_type": "code",
   "execution_count": 182,
   "metadata": {
    "collapsed": false
   },
   "outputs": [
    {
     "data": {
      "text/plain": [
       "0.002615742121004842"
      ]
     },
     "execution_count": 182,
     "metadata": {},
     "output_type": "execute_result"
    }
   ],
   "source": [
    "#### Jeline Mercer #####\n",
    "\n",
    "def Jelinek_Mercer(int_document_id, query_term_ids, lambda_ = 0.7):\n",
    "    \n",
    "    JM_score = 0\n",
    "    document_length = document_lengths[int_document_id]\n",
    "    for query_term in query_term_ids:\n",
    "        tf = inverted_index[query_term].get(int_document_id, 0)\n",
    "        collect_term_freq = collection_frequencies[query_term_id] / float(total_terms)\n",
    "        \n",
    "        first = lambda_ * tf / document_length\n",
    "        second = (1-lambda_) * collect_term_freq\n",
    "        JM_score += numpy.log(first + second)\n",
    "    \n",
    "    return numpy.exp(JM_score)\n",
    "    \n",
    "Jelinek_Mercer(1, [11])"
   ]
  },
  {
   "cell_type": "code",
   "execution_count": 184,
   "metadata": {
    "collapsed": false
   },
   "outputs": [
    {
     "name": "stdout",
     "output_type": "stream",
     "text": [
      "Retrieving using Jelinek-Mercer_0.7\n",
      "0.0s: 51\n",
      "0.3s: 52\n",
      "0.5s: 53\n",
      "0.8s: 54\n",
      "1.0s: 55\n",
      "1.3s: 56\n",
      "1.6s: 57\n",
      "1.9s: 58\n",
      "2.2s: 59\n",
      "2.5s: 60\n",
      "2.8s: 61\n",
      "3.1s: 62\n",
      "3.4s: 63\n",
      "3.6s: 64\n",
      "3.9s: 65\n",
      "4.2s: 66\n",
      "4.5s: 67\n",
      "4.8s: 68\n",
      "5.2s: 69\n",
      "5.5s: 70\n",
      "5.7s: 71\n",
      "6.0s: 72\n",
      "6.3s: 73\n",
      "6.7s: 74\n",
      "6.9s: 75\n",
      "7.2s: 76\n",
      "7.5s: 77\n",
      "7.7s: 78\n",
      "8.0s: 79\n",
      "8.3s: 80\n",
      "8.6s: 81\n",
      "8.9s: 82\n",
      "9.2s: 83\n",
      "9.5s: 84\n",
      "9.8s: 85\n",
      "10.0s: 86\n",
      "10.3s: 87\n",
      "10.6s: 88\n",
      "10.9s: 89\n",
      "11.2s: 90\n",
      "11.6s: 91\n",
      "11.9s: 92\n",
      "12.2s: 93\n",
      "12.5s: 94\n",
      "12.8s: 95\n",
      "13.1s: 96\n",
      "13.4s: 97\n",
      "13.6s: 98\n",
      "13.9s: 99\n",
      "14.2s: 100\n",
      "14.5s: 101\n",
      "14.9s: 102\n",
      "15.2s: 103\n",
      "15.5s: 104\n",
      "15.8s: 105\n",
      "16.0s: 106\n",
      "16.3s: 107\n",
      "16.6s: 108\n",
      "16.9s: 109\n",
      "17.1s: 110\n",
      "17.5s: 111\n",
      "17.8s: 112\n",
      "18.0s: 113\n",
      "18.4s: 114\n",
      "18.7s: 115\n",
      "19.0s: 116\n",
      "19.2s: 117\n",
      "19.6s: 118\n",
      "19.8s: 119\n",
      "20.1s: 120\n",
      "20.5s: 121\n",
      "20.7s: 122\n",
      "21.0s: 123\n",
      "21.3s: 124\n",
      "21.6s: 125\n",
      "21.9s: 126\n",
      "22.3s: 127\n",
      "22.7s: 128\n",
      "22.9s: 129\n",
      "23.2s: 130\n",
      "23.6s: 131\n",
      "23.9s: 132\n",
      "24.1s: 133\n",
      "24.4s: 134\n",
      "24.6s: 135\n",
      "24.9s: 136\n",
      "25.2s: 137\n",
      "25.5s: 138\n",
      "25.8s: 139\n",
      "26.1s: 140\n",
      "26.4s: 141\n",
      "26.7s: 142\n",
      "27.1s: 143\n",
      "27.3s: 144\n",
      "27.6s: 145\n",
      "27.9s: 146\n",
      "28.2s: 147\n",
      "28.5s: 148\n",
      "28.8s: 149\n",
      "29.0s: 150\n",
      "29.4s: 151\n",
      "29.6s: 152\n",
      "30.0s: 153\n",
      "30.4s: 154\n",
      "30.6s: 155\n",
      "31.0s: 156\n",
      "31.3s: 157\n",
      "31.5s: 158\n",
      "31.8s: 159\n",
      "32.1s: 160\n",
      "32.5s: 161\n",
      "32.8s: 162\n",
      "33.0s: 163\n",
      "33.3s: 164\n",
      "33.6s: 165\n",
      "33.9s: 166\n",
      "34.3s: 167\n",
      "34.9s: 168\n",
      "35.1s: 169\n",
      "35.4s: 170\n",
      "35.8s: 171\n",
      "36.1s: 172\n",
      "36.5s: 173\n",
      "36.7s: 174\n",
      "37.1s: 175\n",
      "37.5s: 176\n",
      "37.8s: 177\n",
      "38.3s: 178\n",
      "38.5s: 179\n",
      "38.9s: 180\n",
      "39.2s: 181\n",
      "39.6s: 182\n",
      "39.9s: 183\n",
      "40.2s: 184\n",
      "40.5s: 185\n",
      "40.7s: 186\n",
      "41.1s: 187\n",
      "41.4s: 188\n",
      "41.6s: 189\n",
      "41.9s: 190\n",
      "42.2s: 191\n",
      "42.5s: 192\n",
      "42.7s: 193\n",
      "43.0s: 194\n",
      "43.3s: 195\n",
      "43.6s: 196\n",
      "44.0s: 197\n",
      "44.3s: 198\n",
      "44.6s: 199\n",
      "44.9s: 200\n"
     ]
    }
   ],
   "source": [
    "run_retrieval('Jelinek-Mercer_0.7', Jelinek_Mercer)\n"
   ]
  },
  {
   "cell_type": "code",
   "execution_count": 111,
   "metadata": {
    "collapsed": false
   },
   "outputs": [
    {
     "data": {
      "text/plain": [
       "0.0026940314137574735"
      ]
     },
     "execution_count": 111,
     "metadata": {},
     "output_type": "execute_result"
    }
   ],
   "source": [
    "def Dirichlet(int_document_id,query_term_ids, mu=500):\n",
    "    num_of_document = index.maximum_document() - index.document_base()\n",
    "    document_length = float(document_lengths[int_document_id])\n",
    "\n",
    "    dirichlet_score = 0\n",
    "    for query_term_id in query_term_ids:\n",
    "        \n",
    "        document_frequency = len(inverted_index[query_term_id])\n",
    "\n",
    "        tf = inverted_index[query_term_id].get(int_document_id, 0)\n",
    "        collect_term_freq = collection_frequencies[query_term_id] / float(total_terms)\n",
    "        \n",
    "        score = (tf + mu*collect_term_freq) / float(document_length + mu)\n",
    "        dirichlet_score += numpy.log(score)\n",
    "    \n",
    "    return numpy.exp(dirichlet_score)\n",
    "\n",
    "Dirichlet(1, [11])"
   ]
  },
  {
   "cell_type": "code",
   "execution_count": 115,
   "metadata": {
    "collapsed": false
   },
   "outputs": [
    {
     "data": {
      "text/plain": [
       "0.004407675223311089"
      ]
     },
     "execution_count": 115,
     "metadata": {},
     "output_type": "execute_result"
    }
   ],
   "source": [
    "def Absolute_Discounting(int_document_id,query_term_ids, delta = 5):\n",
    "    document_length = float(document_lengths[int_document_id])\n",
    "    uniq_words = unique_terms_per_document[int_doc_id]\n",
    "    num_of_document = index.maximum_document() - index.document_base()\n",
    "    \n",
    "    AD_score = 0\n",
    "    \n",
    "    for query_term_id in query_term_ids:\n",
    "\n",
    "        tf = inverted_index[query_term_id].get(int_document_id, 0)\n",
    "        collect_term_freq = collection_frequencies[query_term_id] / float(total_terms)\n",
    "        \n",
    "        score1 = max(tf - delta, 0) / document_length\n",
    "        score2 = (delta * uniq_words / document_length) * collect_term_freq\n",
    "        score = score1 + score2\n",
    "        \n",
    "        AD_score += numpy.log(score)\n",
    "        \n",
    "    return numpy.exp(AD_score)\n",
    "\n",
    "Absolute_Discounting(1, [11])"
   ]
  },
  {
   "cell_type": "code",
   "execution_count": 6,
   "metadata": {
    "collapsed": true,
    "scrolled": true
   },
   "outputs": [],
   "source": [
    "import math\n",
    "#Kernel Functions\n",
    "\n",
    "def Gaussian(i, j, sigma):\n",
    "    value = math.exp(-(i-j)**2 / 2*sigma**2)\n",
    "    return value\n",
    "\n",
    "def Triangle(i, j, sigma):\n",
    "    if abs(i-j) <= sigma:\n",
    "        value = 1 - abs(i-j)/sigma\n",
    "    else:\n",
    "        value =  0\n",
    "    return value\n",
    "\n",
    "def Cosine(i, j, sigma):\n",
    "    if abs(i-j) <= sigma:\n",
    "        value =  0.5 * (1+math.cos(abs(i-j)*math.pi/sigma))\n",
    "    else:\n",
    "        value = 0\n",
    "    \n",
    "    return value\n",
    "\n",
    "\n",
    "def Circle(i, j, sigma):\n",
    "    if abs(i-j) <= sigma:\n",
    "        value = math.sqrt(1 - (abs(i-j)/sigma)**2)\n",
    "    else:\n",
    "        value = 0\n",
    "    return value\n",
    "\n",
    "# print(Circle(1,3,4))\n",
    "# print(Cosine(1,3,4))\n",
    "# print(Triangle(1,3,4))\n",
    "# print(Gaussian(1,3,4))\n",
    "\n",
    "def Passage(i, j, sigma):\n",
    "    if abs(i-j) <= sigma:\n",
    "        return 1\n",
    "    else:\n",
    "        return 0\n",
    "    \n"
   ]
  },
  {
   "cell_type": "code",
   "execution_count": 154,
   "metadata": {
    "collapsed": false
   },
   "outputs": [
    {
     "data": {
      "text/plain": [
       "1.0"
      ]
     },
     "execution_count": 154,
     "metadata": {},
     "output_type": "execute_result"
    }
   ],
   "source": [
    "zi = sum(Gaussian(2,j,50) for j in range(1000)) # Zi = sum(c'(w,i))\n",
    "\n",
    "zi"
   ]
  },
  {
   "cell_type": "code",
   "execution_count": null,
   "metadata": {
    "collapsed": false
   },
   "outputs": [],
   "source": [
    "from collections import defaultdict\n",
    "import numpy as np\n",
    "\n",
    "\n",
    "####### p(w|C) ######\n",
    "background_model = defaultdict(lambda:0)\n",
    "for doc_id in np.arange(index.document_base(), index.maximum_document()):\n",
    "    doc = index.document(doc_id)\n",
    "    for word in doc[1]:\n",
    "        background_model[word] += 1\n",
    "\n",
    "\n",
    "sum_ = sum(background_model.values())\n",
    "for key in background_model.keys():\n",
    "    background_model[key] = background_model[key]/sum_\n",
    "#######################\n",
    "\n",
    "\n",
    "def PLM_(query_id_tokens, document_id, kernel_method, mu=1000, sigma=50):\n",
    "    document = index.document(document_id)\n",
    "    sqd = -100000 # S(Q,D)\n",
    "\n",
    "    \n",
    "    for i, i_word in enumerate(document[1]):\n",
    "        sqdi = 0 # S(Q,D,i)\n",
    "        \n",
    "        zi = 0\n",
    "        for query_term in set(query_id_tokens):\n",
    "            v_word = id2token[query_term]\n",
    "            C_wi = 0 # c'(w,i)\n",
    "            \n",
    "            for j, j_word in enumerate(document[1]):\n",
    "                cwi = (i_word == j_word) # c(w,i)\n",
    "                C_wi += cwi * kernel_method(i,j,sigma)\n",
    "                \n",
    "            pwc = background_model[query_term] # p(w|C)\n",
    "            #print(\"pwc \", pwc)\n",
    "            \n",
    "            zi = sum(kernel_method(i,j,sigma) for j in range(len(document[1]))) # Zi = sum(c'(w,i))\n",
    "            \n",
    "            #zi = zi + C_wi\n",
    "            \n",
    "            pwdi = (C_wi+mu*pwc) / (zi+mu) # p(w|D,i)\n",
    "            \n",
    "            pwq = 0 # p(w|Q)\n",
    "            \n",
    "            if query_term > 0:\n",
    "                pwq = query_id_tokens.count(query_term) / float(len(query_id_tokens))       \n",
    "            \n",
    "            #print(\"pwq \", pwq)\n",
    "            \n",
    "            if pwq/pwdi != 0:\n",
    "                sqdi -= pwq * math.log(pwq/pwdi)\n",
    "                \n",
    "        sqd = max(sqd, sqdi)\n",
    "    return sqd\n",
    "\n",
    "\n",
    "query = \"weather related fatalities\"\n",
    "term_list = [token2id.get(term,0) for term in query.split()]\n",
    "term_list.append(363)\n",
    "term_list.append(880)\n",
    "\n",
    "print(PLM_(term_list, index.document_base(), Gaussian))"
   ]
  },
  {
   "cell_type": "code",
   "execution_count": null,
   "metadata": {
    "collapsed": true
   },
   "outputs": [],
   "source": [
    "# run all experiments\n",
    "run_retrieval('tfidf', tfidf)\n",
    "run_retrieval('BM25', BM25)\n",
    "run_retrieval('Jelinek-Mercer', Jelinek_Mercer) #[0.1, 0.5, 0.9]\n",
    "run_retrieval('Dirichlet Prior', Dirichlet) #[500, 1000, 1500]\n",
    "run_retrieval('Absolute Discounting', Absolute_Discounting) #[0.1, 0.5, 0.9]\n"
   ]
  },
  {
   "cell_type": "code",
   "execution_count": 27,
   "metadata": {
    "collapsed": false
   },
   "outputs": [
    {
     "name": "stdout",
     "output_type": "stream",
     "text": [
      "0.0s: Loading pyndri index\n",
      "1.2s: Loading queries\n",
      "1.5s: Finding relevant documents for each query\n",
      "3.2s: Reduced number of documents to process by 99.99838%\n"
     ]
    }
   ],
   "source": [
    "# collect only relevant documents for each query, based on reverse index\n",
    "import pyndri\n",
    "import time\n",
    "\n",
    "\n",
    "start_time = time.time()\n",
    "print('{:.1f}s: Loading pyndri index'.format(time.time() - start_time))\n",
    "index = pyndri.Index('index/')\n",
    "dictionary = pyndri.extract_dictionary(index)\n",
    "\n",
    "\n",
    "print('{:.1f}s: Loading queries'.format(time.time() - start_time))\n",
    "with open('./ap_88_89/topics_title', 'r') as f_topics:\n",
    "    queries = parse_topics([f_topics])\n",
    "tokenized_queries = {\n",
    "    query_id: [dictionary.translate_token(token)\n",
    "               for token in index.tokenize(query_string)\n",
    "               if dictionary.has_token(token)]\n",
    "    for query_id, query_string in queries.items()}\n",
    "query_term_ids = set(\n",
    "    query_term_id\n",
    "    for query_term_ids in tokenized_queries.values()\n",
    "    for query_term_id in query_term_ids)\n",
    "\n",
    "print('{:.1f}s: Finding relevant documents for each query'.format(time.time() - start_time))\n",
    "query_counter = 0\n",
    "relevant_documents_per_query = {}\n",
    "for query_id, query in queries.items():\n",
    "    set_of_relevant_documents = set()\n",
    "    for term_id in tokenized_queries[query_id]:\n",
    "        relevant_documents = inverted_index[term_id].keys()\n",
    "        set_of_relevant_documents.update(relevant_documents)\n",
    "        \n",
    "    relevant_documents_per_query[query_id] = set_of_relevant_documents\n",
    "\n",
    "    \n",
    "total_relevant_documents = sum([len(docs) for docs in relevant_documents_per_query])\n",
    "fraction_of_documents_left = total_relevant_documents / (len(queries) * len(index))\n",
    "print('{:.1f}s: Reduced number of documents to process by {:.5%}'.format(time.time() - start_time, 1-fraction_of_documents_left))"
   ]
  },
  {
   "cell_type": "code",
   "execution_count": 161,
   "metadata": {
    "collapsed": false
   },
   "outputs": [
    {
     "name": "stdout",
     "output_type": "stream",
     "text": [
      "Reading results for tfidf\n",
      "Reading results for BM25\n",
      "Filtering rows on: map_cut_1000, ndcg_cut_10, P_5, recall_1000\n"
     ]
    }
   ],
   "source": []
  },
  {
   "cell_type": "code",
   "execution_count": 186,
   "metadata": {
    "collapsed": false,
    "scrolled": true
   },
   "outputs": [
    {
     "data": {
      "image/png": "[encoded data removed]",
      "text/plain": [
       "<matplotlib.figure.Figure at 0x12ee3ddd8>"
      ]
     },
     "metadata": {},
     "output_type": "display_data"
    }
   ],
   "source": [
    "import matplotlib.pyplot as plt\n",
    "import subprocess\n",
    "\n",
    "def plot_parameter_values(model_name, params):\n",
    "    \n",
    "    ndcgs = []\n",
    "    for param in params:\n",
    "        file_name = model_name + '_' + str(param) + '.run'\n",
    "        \n",
    "        ev_methods = '(ndcg_cut_10\\W+all)'\n",
    "        qrel_set = 'ap_88_89/qrel_validation'\n",
    "        cmd = '/Users/basaktugceeskili/trec_eval/trec_eval -m all_trec -q \"' + qrel_set + '\" \"' + file_name + '\" | grep -E \"' + ev_methods + '\"'\n",
    "        ndcg = float(subprocess.check_output(cmd, shell=True).decode('utf-8').split('\\t')[2].strip())\n",
    "        ndcgs += [ndcg]\n",
    "    \n",
    "    plt.title(model_name + ' hyper parameter values')\n",
    "    plt.plot(params, ndcgs)\n",
    "    plt.xlabel('hyper parameter value')\n",
    "    plt.ylabel('ndcg')\n",
    "    plt.show()\n",
    "\n",
    "plot_parameter_values('Jelinek-Mercer', [0.1,0.3, 0.5, 0.7, 0.9])"
   ]
  },
  {
   "cell_type": "code",
   "execution_count": 185,
   "metadata": {
    "collapsed": false
   },
   "outputs": [
    {
     "data": {
      "image/png": "[encoded data removed]",
      "text/plain": [
       "<matplotlib.figure.Figure at 0x12ee3d358>"
      ]
     },
     "metadata": {},
     "output_type": "display_data"
    }
   ],
   "source": [
    "def plot_parameter_values(model_name, params):\n",
    "    \n",
    "    recall_1000s = []\n",
    "    for param in params:\n",
    "        file_name = model_name + '_' + str(param) + '.run'\n",
    "        \n",
    "        ev_methods = '(recall_1000\\W+all)'\n",
    "        qrel_set = 'ap_88_89/qrel_validation'\n",
    "        cmd = '/Users/basaktugceeskili/trec_eval/trec_eval -m all_trec -q \"' + qrel_set + '\" \"' + file_name + '\" | grep -E \"' + ev_methods + '\"'\n",
    "        recall_1000 = float(subprocess.check_output(cmd, shell=True).decode('utf-8').split('\\t')[2].strip())\n",
    "        recall_1000s += [recall_1000]\n",
    "    \n",
    "    plt.title(model_name + ' hyper parameter values')\n",
    "    plt.plot(params, recall_1000s)\n",
    "    plt.xlabel('hyper parameter value')\n",
    "    plt.ylabel('recall_1000')\n",
    "    plt.show()\n",
    "\n",
    "plot_parameter_values('Jelinek-Mercer', [0.1, 0.3, 0.5,0.7, 0.9])"
   ]
  },
  {
   "cell_type": "code",
   "execution_count": 187,
   "metadata": {
    "collapsed": false
   },
   "outputs": [
    {
     "data": {
      "image/png": "[encoded data removed]",
      "text/plain": [
       "<matplotlib.figure.Figure at 0x12ee3d4a8>"
      ]
     },
     "metadata": {},
     "output_type": "display_data"
    }
   ],
   "source": [
    "def plot_parameter_values(model_name, params):\n",
    "    \n",
    "    map_cut_1000s = []\n",
    "    for param in params:\n",
    "        file_name = model_name + '_' + str(param) + '.run'\n",
    "        \n",
    "        ev_methods = '(map_cut_1000\\W+all)'\n",
    "        qrel_set = 'ap_88_89/qrel_validation'\n",
    "        cmd = '/Users/basaktugceeskili/trec_eval/trec_eval -m all_trec -q \"' + qrel_set + '\" \"' + file_name + '\" | grep -E \"' + ev_methods + '\"'\n",
    "        map_cut_1000 = float(subprocess.check_output(cmd, shell=True).decode('utf-8').split('\\t')[2].strip())\n",
    "        map_cut_1000s += [map_cut_1000]\n",
    "    \n",
    "    plt.title(model_name + ' hyper parameter values')\n",
    "    plt.plot(params, map_cut_1000s)\n",
    "    plt.xlabel('hyper parameter value')\n",
    "    plt.ylabel('map_cut_1000')\n",
    "    plt.show()\n",
    "\n",
    "plot_parameter_values('Jelinek-Mercer', [0.1, 0.3, 0.5,0.7, 0.9])"
   ]
  },
  {
   "cell_type": "markdown",
   "metadata": {},
   "source": [
    "### Task 2: Latent Semantic Models (LSMs) [15 points] ###\n",
    "\n",
    "In this task you will experiment with applying distributional semantics methods ([LSI](http://lsa3.colorado.edu/papers/JASIS.lsi.90.pdf) **[5 points]** and [LDA](https://www.cs.princeton.edu/~blei/papers/BleiNgJordan2003.pdf) **[5 points]**) for retrieval.\n",
    "\n",
    "You do not need to implement LSI or LDA on your own. Instead, you can use [gensim](http://radimrehurek.com/gensim/index.html). An example on how to integrate Pyndri with Gensim for word2vec can be found [here](https://github.com/cvangysel/pyndri/blob/master/examples/word2vec.py). For the remaining latent vector space models, you will need to implement connector classes (such as `IndriSentences`) by yourself.\n",
    "\n",
    "In order to use a latent semantic model for retrieval, you need to:\n",
    "   * build a representation of the query **q**,\n",
    "   * build a representation of the document **d**,\n",
    "   * calculate the similarity between **q** and **d** (e.g., cosine similarity, KL-divergence).\n",
    "     \n",
    "The exact implementation here depends on the latent semantic model you are using. \n",
    "   \n",
    "Each of these LSMs come with various hyperparameters to tune. Make a choice on the parameters, and explicitly mention the reasons that led you to these decisions. You can use the validation set to optimize hyper parameters you see fit; motivate your decisions. In addition, mention clearly how the query/document representations were constructed for each LSM and explain your choices.\n",
    "\n",
    "In this experiment, you will first obtain an initial top-1000 ranking for each query using TF-IDF in **Task 1**, and then re-rank the documents using the LSMs. Use TREC Eval to obtain the results and report on `NDCG@10`, Mean Average Precision (`MAP@1000`), `Precision@5` and `Recall@1000`.\n",
    "\n",
    "Perform significance testing **[5 points]** (similar as in Task 1) in the class of semantic matching methods."
   ]
  },
  {
   "cell_type": "code",
   "execution_count": null,
   "metadata": {
    "collapsed": true
   },
   "outputs": [],
   "source": []
  },
  {
   "cell_type": "code",
   "execution_count": 58,
   "metadata": {
    "collapsed": false
   },
   "outputs": [
    {
     "name": "stdout",
     "output_type": "stream",
     "text": [
      "-1.2075766015838254\n"
     ]
    }
   ],
   "source": []
  },
  {
   "cell_type": "code",
   "execution_count": null,
   "metadata": {
    "collapsed": true
   },
   "outputs": [],
   "source": []
  },
  {
   "cell_type": "markdown",
   "metadata": {},
   "source": [
    "### Task 3:  Word embeddings for ranking [20 points] (open-ended) ###\n",
    "\n",
    "First create word embeddings on the corpus we provided using [word2vec](http://arxiv.org/abs/1411.2738) -- [gensim implementation](https://radimrehurek.com/gensim/models/word2vec.html). You should extract the indexed documents using pyndri and provide them to gensim for training a model (see example [here](https://github.com/nickvosk/pyndri/blob/master/examples/word2vec.py)).\n",
    "   \n",
    "This is an open-ended task. It is left up you to decide how you will combine word embeddings to derive query and document representations. Note that since we provide the implementation for training word2vec, you will be graded based on your creativity on combining word embeddings for building query and document representations.\n",
    "\n",
    "Note: If you want to experiment with pre-trained word embeddings on a different corpus, you can use the word embeddings we provide alongside the assignment (./data/reduced_vectors_google.txt.tar.gz). These are the [google word2vec word embeddings](https://code.google.com/archive/p/word2vec/), reduced to only the words that appear in the document collection we use in this assignment."
   ]
  },
  {
   "cell_type": "code",
   "execution_count": null,
   "metadata": {
    "collapsed": true
   },
   "outputs": [],
   "source": []
  },
  {
   "cell_type": "markdown",
   "metadata": {},
   "source": [
    "### Task 4: Learning to rank (LTR) [15 points] (open-ended) ###\n",
    "\n",
    "In this task you will get an introduction into learning to rank for information retrieval.\n",
    "\n",
    "You can explore different ways for devising features for the model. Obviously, you can use the retrieval methods you implemented in Task 1, Task 2 and Task 3 as features. Think about other features you can use (e.g. query/document length). Creativity on devising new features and providing motivation for them will be taken into account when grading.\n",
    "\n",
    "For every query, first create a document candidate set using the top-1000 documents using TF-IDF, and subsequently compute features given a query and a document. Note that the feature values of different retrieval methods are likely to be distributed differently.\n",
    "\n",
    "You are adviced to start some pointwise learning to rank algorithm e.g. logistic regression, implemented in [scikit-learn](http://scikit-learn.org/stable/modules/generated/sklearn.linear_model.LogisticRegression.html).\n",
    "Train your LTR model using 10-fold cross validation on the test set. More advanced learning to rank algorithms will be appreciated when grading."
   ]
  },
  {
   "cell_type": "code",
   "execution_count": null,
   "metadata": {
    "collapsed": true
   },
   "outputs": [],
   "source": []
  },
  {
   "cell_type": "markdown",
   "metadata": {
    "collapsed": true
   },
   "source": [
    "### Task 4: Write a report [15 points; instant FAIL if not provided] ###\n",
    "\n",
    "The report should be a PDF file created using the [sigconf ACM template](https://www.acm.org/publications/proceedings-template) and will determine a significant part of your grade.\n",
    "\n",
    "   * It should explain what you have implemented, motivate your experiments and detail what you expect to learn from them. **[10 points]**\n",
    "   * Lastly, provide a convincing analysis of your results and conclude the report accordingly. **[10 points]**\n",
    "      * Do all methods perform similarly on all queries? Why?\n",
    "      * Is there a single retrieval model that outperforms all other retrieval models (i.e., silver bullet)?\n",
    "      * ...\n",
    "\n",
    "**Hand in the report and your self-contained implementation source files.** Only send us the files that matter, organized in a well-documented zip/tgz file with clear instructions on how to reproduce your results. That is, we want to be able to regenerate all your results with minimal effort. You can assume that the index and ground-truth information is present in the same file structure as the one we have provided.\n"
   ]
  },
  {
   "cell_type": "code",
   "execution_count": null,
   "metadata": {
    "collapsed": true
   },
   "outputs": [],
   "source": []
  }
 ],
 "metadata": {
  "anaconda-cloud": {},
  "kernelspec": {
   "display_name": "Python 3",
   "language": "python",
   "name": "python3"
  },
  "language_info": {
   "codemirror_mode": {
    "name": "ipython",
    "version": 3
   },
   "file_extension": ".py",
   "mimetype": "text/x-python",
   "name": "python",
   "nbconvert_exporter": "python",
   "pygments_lexer": "ipython3",
   "version": "3.5.2"
  }
 },
 "nbformat": 4,
 "nbformat_minor": 1
}
