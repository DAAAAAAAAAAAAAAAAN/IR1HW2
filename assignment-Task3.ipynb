{
 "cells": [
  {
   "cell_type": "markdown",
   "metadata": {},
   "source": [
    "# Information Retrieval 1#\n",
    "## Assignment 2: Retrieval models [100 points] ##"
   ]
  },
  {
   "cell_type": "markdown",
   "metadata": {},
   "source": [
    "In this assignment you will get familiar with basic and advanced information retrieval concepts. You will implement different information retrieval ranking models and evaluate their performance.\n",
    "\n",
    "We provide you with a Indri index. To query the index, you'll use a Python package ([pyndri](https://github.com/cvangysel/pyndri)) that allows easy access to the underlying document statistics.\n",
    "\n",
    "For evaluation you'll use the [TREC Eval](https://github.com/usnistgov/trec_eval) utility, provided by the National Institute of Standards and Technology of the United States. TREC Eval is the de facto standard way to compute Information Retrieval measures and is frequently referenced in scientific papers.\n",
    "\n",
    "This is a **groups-of-three assignment**, the deadline is **Wednesday, January 31st**. Code quality, informative comments and convincing analysis of the results will be considered when grading. Submission should be done through blackboard, questions can be asked on the course [Piazza](piazza.com/university_of_amsterdam/spring2018/52041inr6y/home).\n",
    "\n",
    "### Technicalities (must-read!) ###\n",
    "\n",
    "The assignment directory is organized as follows:\n",
    "   * `./assignment.ipynb` (this file): the description of the assignment.\n",
    "   * `./index/`: the index we prepared for you.\n",
    "   * `./ap_88_90/`: directory with ground-truth and evaluation sets:\n",
    "      * `qrel_test`: test query relevance collection (**test set**).\n",
    "      * `qrel_validation`: validation query relevance collection (**validation set**).\n",
    "      * `topics_title`: semicolon-separated file with query identifiers and terms.\n",
    "\n",
    "You will need the following software packages (tested with Python 3.5 inside [Anaconda](https://conda.io/docs/user-guide/install/index.html)):\n",
    "   * Python 3.5 and Jupyter\n",
    "   * Indri + Pyndri (Follow the installation instructions [here](https://github.com/nickvosk/pyndri/blob/master/README.md))\n",
    "   * gensim [link](https://radimrehurek.com/gensim/install.html)\n",
    "   * TREC Eval [link](https://github.com/usnistgov/trec_eval)"
   ]
  },
  {
   "cell_type": "markdown",
   "metadata": {},
   "source": [
    "### TREC Eval primer ###\n",
    "The TREC Eval utility can be downloaded and compiled as follows:\n",
    "\n",
    "    git clone https://github.com/usnistgov/trec_eval.git\n",
    "    cd trec_eval\n",
    "    make\n",
    "\n",
    "TREC Eval computes evaluation scores given two files: ground-truth information regarding relevant documents, named *query relevance* or *qrel*, and a ranking of documents for a set of queries, referred to as a *run*. The *qrel* will be supplied by us and should not be changed. For every retrieval model (or combinations thereof) you will generate a run of the top-1000 documents for every query. The format of the *run* file is as follows:\n",
    "\n",
    "    $query_identifier Q0 $document_identifier $rank_of_document_for_query $query_document_similarity $run_identifier\n",
    "    \n",
    "where\n",
    "   * `$query_identifier` is the unique identifier corresponding to a query (usually this follows a sequential numbering).\n",
    "   * `Q0` is a legacy field that you can ignore.\n",
    "   * `$document_identifier` corresponds to the unique identifier of a document (e.g., APXXXXXXX where AP denotes the collection and the Xs correspond to a unique numerical identifier).\n",
    "   * `$rank_of_document_for_query` denotes the rank of the document for the particular query. This field is ignored by TREC Eval and is only maintained for legacy support. The ranks are computed by TREC Eval itself using the `$query_document_similarity` field (see next). However, it remains good practice to correctly compute this field.\n",
    "   * `$query_document_similarity` is a score indicating the similarity between query and document where a higher score denotes greater similarity.\n",
    "   * `$run_identifier` is an identifier of the run. This field is for your own convenience and has no purpose beyond bookkeeping.\n",
    "   \n",
    "For example, say we have two queries: `Q1` and `Q2` and we rank three documents (`DOC1`, `DOC2`, `DOC3`). For query `Q1`, we find the following similarity scores `score(Q1, DOC1) = 1.0`, `score(Q1, DOC2) = 0.5`, `score(Q1, DOC3) = 0.75`; and for `Q2`: `score(Q2, DOC1) = -0.1`, `score(Q2, DOC2) = 1.25`, `score(Q1, DOC3) = 0.0`. We can generate run using the following snippet:"
   ]
  },
  {
   "cell_type": "code",
   "execution_count": 1,
   "metadata": {
    "collapsed": false,
    "scrolled": false
   },
   "outputs": [
    {
     "name": "stdout",
     "output_type": "stream",
     "text": [
      "Q1 Q0 DOC1 1 1.0 example\n",
      "Q1 Q0 DOC3 2 0.75 example\n",
      "Q1 Q0 DOC2 3 0.5 example\n",
      "Q2 Q0 DOC2 1 1.25 example\n",
      "Q2 Q0 DOC3 2 0.0 example\n",
      "Q2 Q0 DOC1 3 -0.1 example\n"
     ]
    }
   ],
   "source": [
    "import logging\n",
    "import sys\n",
    "import os\n",
    "\n",
    "def write_run(model_name, data, out_f,\n",
    "              max_objects_per_query=sys.maxsize,\n",
    "              skip_sorting=False):\n",
    "    \"\"\"\n",
    "    Write a run to an output file.\n",
    "    Parameters:\n",
    "        - model_name: identifier of run.\n",
    "        - data: dictionary mapping topic_id to object_assesments;\n",
    "            object_assesments is an iterable (list or tuple) of\n",
    "            (relevance, object_id) pairs.\n",
    "            The object_assesments iterable is sorted by decreasing order.\n",
    "        - out_f: output file stream.\n",
    "        - max_objects_per_query: cut-off for number of objects per query.\n",
    "    \"\"\"\n",
    "    for subject_id, object_assesments in data.items():\n",
    "        if not object_assesments:\n",
    "            logging.warning('Received empty ranking for %s; ignoring.',\n",
    "                            subject_id)\n",
    "\n",
    "            continue\n",
    "\n",
    "        # Probe types, to make sure everything goes alright.\n",
    "        # assert isinstance(object_assesments[0][0], float) or \\\n",
    "        #     isinstance(object_assesments[0][0], np.float32)\n",
    "        assert isinstance(object_assesments[0][1], str) or \\\n",
    "            isinstance(object_assesments[0][1], bytes)\n",
    "\n",
    "        if not skip_sorting:\n",
    "            object_assesments = sorted(object_assesments, reverse=True)\n",
    "\n",
    "        if max_objects_per_query < sys.maxsize:\n",
    "            object_assesments = object_assesments[:max_objects_per_query]\n",
    "\n",
    "        if isinstance(subject_id, bytes):\n",
    "            subject_id = subject_id.decode('utf8')\n",
    "\n",
    "        for rank, (relevance, object_id) in enumerate(object_assesments):\n",
    "            if isinstance(object_id, bytes):\n",
    "                object_id = object_id.decode('utf8')\n",
    "\n",
    "            out_f.write(\n",
    "                '{subject} Q0 {object} {rank} {relevance} '\n",
    "                '{model_name}\\n'.format(\n",
    "                    subject=subject_id,\n",
    "                    object=object_id,\n",
    "                    rank=rank + 1,\n",
    "                    relevance=relevance,\n",
    "                    model_name=model_name))\n",
    "            \n",
    "# The following writes the run to standard output.\n",
    "# In your code, you should write the runs to local\n",
    "# storage in order to pass them to trec_eval.\n",
    "write_run(\n",
    "    model_name='example',\n",
    "    data={\n",
    "        'Q1': ((1.0, 'DOC1'), (0.5, 'DOC2'), (0.75, 'DOC3')),\n",
    "        'Q2': ((-0.1, 'DOC1'), (1.25, 'DOC2'), (0.0, 'DOC3')),\n",
    "    },\n",
    "    out_f=sys.stdout,\n",
    "    max_objects_per_query=1000)"
   ]
  },
  {
   "cell_type": "markdown",
   "metadata": {},
   "source": [
    "Now, imagine that we know that `DOC1` is relevant and `DOC3` is non-relevant for `Q1`. In addition, for `Q2` we only know of the relevance of `DOC3`. The query relevance file looks like:\n",
    "\n",
    "    Q1 0 DOC1 1\n",
    "    Q1 0 DOC3 0\n",
    "    Q2 0 DOC3 1\n",
    "    \n",
    "We store the run and qrel in files `example.run` and `example.qrel` respectively on disk. We can now use TREC Eval to compute evaluation measures. In this example, we're only interested in Mean Average Precision and we'll only show this below for brevity. However, TREC Eval outputs much more information such as NDCG, recall, precision, etc.\n",
    "\n",
    "    $ trec_eval -m all_trec -q example.qrel example.run | grep -E \"^map\\s\"\n",
    "    > map                   \tQ1\t1.0000\n",
    "    > map                   \tQ2\t0.5000\n",
    "    > map                   \tall\t0.7500\n",
    "    \n",
    "Now that we've discussed the output format of rankings and how you can compute evaluation measures from these rankings, we'll now proceed with an overview of the indexing framework you'll use."
   ]
  },
  {
   "cell_type": "markdown",
   "metadata": {},
   "source": [
    "### Pyndri primer ###\n",
    "For this assignment you will use [Pyndri](https://github.com/cvangysel/pyndri) [[1](https://arxiv.org/abs/1701.00749)], a python interface for [Indri](https://www.lemurproject.org/indri.php). We have indexed the document collection and you can query the index using Pyndri. We will start by giving you some examples of what Pyndri can do:\n",
    "\n",
    "First we read the document collection index with Pyndri:"
   ]
  },
  {
   "cell_type": "code",
   "execution_count": 1,
   "metadata": {
    "collapsed": false,
    "scrolled": true
   },
   "outputs": [],
   "source": [
    "import pyndri\n",
    "\n",
    "index = pyndri.Index('index/')"
   ]
  },
  {
   "cell_type": "markdown",
   "metadata": {},
   "source": [
    "The loaded index can be used to access a collection of documents in an easy manner. We'll give you some examples to get some idea of what it can do, it is up to you to figure out how to use it for the remainder of the assignment.\n",
    "\n",
    "First let's look at the number of documents, since Pyndri indexes the documents using incremental identifiers we can simply take the lowest index and the maximum document and consider the difference:"
   ]
  },
  {
   "cell_type": "code",
   "execution_count": 37,
   "metadata": {
    "collapsed": false
   },
   "outputs": [
    {
     "name": "stdout",
     "output_type": "stream",
     "text": [
      "There are 164597 documents in this collection.\n"
     ]
    }
   ],
   "source": [
    "print(\"There are %d documents in this collection.\" % (index.maximum_document() - index.document_base()))"
   ]
  },
  {
   "cell_type": "markdown",
   "metadata": {},
   "source": [
    "Let's take the first document out of the collection and take a look at it:"
   ]
  },
  {
   "cell_type": "code",
   "execution_count": null,
   "metadata": {
    "collapsed": false,
    "scrolled": true
   },
   "outputs": [],
   "source": [
    "example_document = index.document(index.document_base())\n",
    "print(example_document)"
   ]
  },
  {
   "cell_type": "markdown",
   "metadata": {},
   "source": [
    "Here we see a document consists of two things, a string representing the external document identifier and an integer list representing the identifiers of words that make up the document. Pyndri uses integer representations for words or terms, thus a token_id is an integer that represents a word whereas the token is the actual text of the word/term. Every id has a unique token and vice versa with the exception of stop words: words so common that there are uninformative, all of these receive the zero id.\n",
    "\n",
    "To see what some ids and their matching tokens we take a look at the dictionary of the index:"
   ]
  },
  {
   "cell_type": "code",
   "execution_count": null,
   "metadata": {
    "collapsed": false
   },
   "outputs": [],
   "source": [
    "token2id, id2token, _ = index.get_dictionary()\n",
    "print(list(id2token.items())[:15])"
   ]
  },
  {
   "cell_type": "markdown",
   "metadata": {},
   "source": [
    "Using this dictionary we can see the tokens for the (non-stop) words in our example document:"
   ]
  },
  {
   "cell_type": "code",
   "execution_count": null,
   "metadata": {
    "collapsed": false
   },
   "outputs": [],
   "source": [
    "print([id2token[word_id] for word_id in example_document[1] if word_id > 0])"
   ]
  },
  {
   "cell_type": "markdown",
   "metadata": {},
   "source": [
    "The reverse can also be done, say we want to look for news about the \"University of Massachusetts\", the tokens of that query can be converted to ids using the reverse dictionary:"
   ]
  },
  {
   "cell_type": "code",
   "execution_count": null,
   "metadata": {
    "collapsed": false
   },
   "outputs": [],
   "source": [
    "query_tokens = index.tokenize(\"University of Massachusetts\")\n",
    "print(\"Query by tokens:\", query_tokens)\n",
    "query_id_tokens = [token2id.get(query_token,0) for query_token in query_tokens]\n",
    "print(\"Query by ids with stopwords:\", query_id_tokens)\n",
    "query_id_tokens = [word_id for word_id in query_id_tokens if word_id > 0]\n",
    "print(\"Query by ids without stopwords:\", query_id_tokens)"
   ]
  },
  {
   "cell_type": "markdown",
   "metadata": {},
   "source": [
    "Naturally we can now match the document and query in the id space, let's see how often a word from the query occurs in our example document:"
   ]
  },
  {
   "cell_type": "code",
   "execution_count": null,
   "metadata": {
    "collapsed": false
   },
   "outputs": [],
   "source": [
    "matching_words = sum([True for word_id in example_document[1] if word_id in query_id_tokens])\n",
    "print(\"Document %s has %d word matches with query: \\\"%s\\\".\" % (example_document[0], matching_words, ' '.join(query_tokens)))\n",
    "print(\"Document %s and query \\\"%s\\\" have a %.01f%% overlap.\" % (example_document[0], ' '.join(query_tokens),matching_words/float(len(example_document[1]))*100))"
   ]
  },
  {
   "cell_type": "markdown",
   "metadata": {},
   "source": [
    "While this is certainly not everything Pyndri can do, it should give you an idea of how to use it. Please take a look at the [examples](https://github.com/cvangysel/pyndri) as it will help you a lot with this assignment.\n",
    "\n",
    "**CAUTION**: Avoid printing out the whole index in this Notebook as it will generate a lot of output and is likely to corrupt the Notebook."
   ]
  },
  {
   "cell_type": "markdown",
   "metadata": {},
   "source": [
    "### Parsing the query file\n",
    "You can parse the query file (`ap_88_89/topics_title`) using the following snippet:"
   ]
  },
  {
   "cell_type": "code",
   "execution_count": 4,
   "metadata": {
    "collapsed": false
   },
   "outputs": [
    {
     "name": "stdout",
     "output_type": "stream",
     "text": [
      "OrderedDict([(51, 'Airbus Subsidies'),\n",
      "             (52, 'South African Sanctions'),\n",
      "             (53, 'Leveraged Buyouts'),\n",
      "             (54, 'Satellite Launch Contracts'),\n",
      "             (55, 'Insider Trading'),\n",
      "             (56, 'Prime (Lending) Rate Moves, Predictions'),\n",
      "             (57, 'MCI'),\n",
      "             (58, 'Rail Strikes'),\n",
      "             (59, 'Weather Related Fatalities'),\n",
      "             (60, 'Merit-Pay vs. Seniority'),\n",
      "             (61, 'Israeli Role in Iran-Contra Affair'),\n",
      "             (62, \"Military Coups D'etat\"),\n",
      "             (63, 'Machine Translation'),\n",
      "             (64, 'Hostage-Taking'),\n",
      "             (65, 'Information Retrieval Systems'),\n",
      "             (66, 'Natural Language Processing'),\n",
      "             (67, 'Politically Motivated Civil Disturbances'),\n",
      "             (68, 'Health Hazards from Fine-Diameter Fibers'),\n",
      "             (69, 'Attempts to Revive the SALT II Treaty'),\n",
      "             (70, 'Surrogate Motherhood'),\n",
      "             (71, 'Border Incursions'),\n",
      "             (72, 'Demographic Shifts in the U.S.'),\n",
      "             (73, 'Demographic Shifts across National Boundaries'),\n",
      "             (74, 'Conflicting Policy'),\n",
      "             (75, 'Automation'),\n",
      "             (76, 'U.S. Constitution - Original Intent'),\n",
      "             (77, 'Poaching'),\n",
      "             (78, 'Greenpeace'),\n",
      "             (79, 'FRG Political Party Positions'),\n",
      "             (80, '1988 Presidential Candidates Platforms'),\n",
      "             (81,\n",
      "              'Financial crunch for televangelists in the wake of the PTL '\n",
      "              'scandal'),\n",
      "             (82, 'Genetic Engineering'),\n",
      "             (83, 'Measures to Protect the Atmosphere'),\n",
      "             (84,\n",
      "              'Alternative/renewable Energy Plant & Equipment Installation'),\n",
      "             (85, 'Official Corruption'),\n",
      "             (86, 'Bank Failures'),\n",
      "             (87,\n",
      "              'Criminal Actions Against Officers of Failed Financial '\n",
      "              'Institutions'),\n",
      "             (88, 'Crude Oil Price Trends'),\n",
      "             (89, '\"Downstream\" Investments by OPEC Member States'),\n",
      "             (90, 'Data on Proven Reserves of Oil & Natural Gas Producers'),\n",
      "             (91, 'U.S. Army Acquisition of Advanced Weapons Systems'),\n",
      "             (92, 'International Military Equipment Sales'),\n",
      "             (93, 'What Backing Does the National Rifle Association Have?'),\n",
      "             (94, 'Computer-aided Crime'),\n",
      "             (95, 'Computer-aided Crime Detection'),\n",
      "             (96, 'Computer-Aided Medical Diagnosis'),\n",
      "             (97, 'Fiber Optics Applications'),\n",
      "             (98, 'Fiber Optics Equipment Manufacturers'),\n",
      "             (99, 'Iran-Contra Affair'),\n",
      "             (100, 'Controlling the Transfer of High Technology'),\n",
      "             (101, 'Design of the \"Star Wars\" Anti-missile Defense System'),\n",
      "             (102,\n",
      "              \"Laser Research Applicable to the U.S.'s Strategic Defense \"\n",
      "              'Initiative'),\n",
      "             (103, 'Welfare Reform'),\n",
      "             (104, 'Catastrophic Health Insurance'),\n",
      "             (105, '\"Black Monday\"'),\n",
      "             (106, 'U.S. Control of Insider Trading'),\n",
      "             (107, 'Japanese Regulation of Insider Trading'),\n",
      "             (108, 'Japanese Protectionist Measures'),\n",
      "             (109, 'Find Innovative Companies'),\n",
      "             (110, 'Black Resistance Against the South African Government'),\n",
      "             (111, 'Nuclear Proliferation'),\n",
      "             (112, 'Funding Biotechnology'),\n",
      "             (113, 'New Space Satellite Applications'),\n",
      "             (114, 'Non-commercial Satellite Launches'),\n",
      "             (115, 'Impact of the 1986 Immigration Law'),\n",
      "             (116, 'Generic Drug Substitutions'),\n",
      "             (117, 'Capacity of the U.S. Cellular Telephone Network'),\n",
      "             (118, 'International Terrorists'),\n",
      "             (119, 'Actions Against International Terrorists'),\n",
      "             (120, 'Economic Impact of International Terrorism'),\n",
      "             (121, 'Death from Cancer'),\n",
      "             (122, 'RDT&E of New Cancer Fighting Drugs'),\n",
      "             (123, 'Research into & Control of Carcinogens'),\n",
      "             (124, 'Alternatives to Traditional Cancer Therapies'),\n",
      "             (125, 'Anti-smoking Actions by Government'),\n",
      "             (126, 'Medical Ethics and Modern Technology'),\n",
      "             (127, 'U.S.-U.S.S.R. Arms Control Agreements'),\n",
      "             (128, 'Privatization of State Assets'),\n",
      "             (129, 'Soviet Spying on the U.S.'),\n",
      "             (130, 'Jewish Emigration and U.S.-USSR Relations'),\n",
      "             (131, 'McDonnell Douglas Contracts for Military Aircraft'),\n",
      "             (132, '\"Stealth\" Aircraft'),\n",
      "             (133, 'Hubble Space Telescope'),\n",
      "             (134, 'The Human Genome Project'),\n",
      "             (135, 'Possible Contributions of Gene Mapping to Medicine'),\n",
      "             (136, 'Diversification by Pacific Telesis'),\n",
      "             (137, 'Expansion in the U.S. Theme Park Industry'),\n",
      "             (138, 'Iranian Support for Lebanese Hostage-takers'),\n",
      "             (139,\n",
      "              \"Iran's Islamic Revolution - Domestic and Foreign Social \"\n",
      "              'Consequences'),\n",
      "             (140, 'Political Impact of Islamic Fundamentalism'),\n",
      "             (141, \"Japan's Handling of its Trade Surplus with the U.S.\"),\n",
      "             (142,\n",
      "              'Impact of Government Regulated Grain Farming on International '\n",
      "              'Relations'),\n",
      "             (143, 'Why Protect U.S. Farmers?'),\n",
      "             (144, 'Management Problems at the United Nations'),\n",
      "             (145, 'Influence of the \"Pro-Israel Lobby\"'),\n",
      "             (146, 'Negotiating an End to the Nicaraguan Civil War'),\n",
      "             (147, 'Productivity Trends in the U.S. Economy'),\n",
      "             (148, 'Conflict in the Horn of Africa'),\n",
      "             (149, 'Industrial Espionage'),\n",
      "             (150, 'U.S. Political Campaign Financing'),\n",
      "             (151, 'Coping with overcrowded prisons'),\n",
      "             (152,\n",
      "              'Accusations of Cheating by Contractors on U.S. Defense '\n",
      "              'Projects'),\n",
      "             (153, 'Insurance Coverage which pays for Long Term Care'),\n",
      "             (154, 'Oil Spills'),\n",
      "             (155, 'Right Wing Christian Fundamentalism in U.S.'),\n",
      "             (156, 'Efforts to enact Gun Control Legislation'),\n",
      "             (157, 'Causes and treatments of multiple sclerosis (MS)'),\n",
      "             (158, 'Term limitations for members of the U.S. Congress'),\n",
      "             (159, 'Electric Car Development'),\n",
      "             (160, 'Vitamins - The Cure for or Cause of Human Ailments'),\n",
      "             (161, 'Acid Rain'),\n",
      "             (162, 'Automobile Recalls'),\n",
      "             (163, 'Vietnam Veterans and Agent Orange'),\n",
      "             (164, 'Generic Drugs - Illegal Activities by Manufacturers'),\n",
      "             (165, 'Tobacco company advertising and the young'),\n",
      "             (166, 'Standardized testing and cultural bias'),\n",
      "             (167,\n",
      "              'Regulation of the showing of violence and explicit sex in '\n",
      "              'motion picture theaters, on television, and on video '\n",
      "              'cassettes.'),\n",
      "             (168, 'Financing AMTRAK'),\n",
      "             (169, 'Cost of Garbage/Trash Removal'),\n",
      "             (170,\n",
      "              'The Consequences of Implantation of Silicone Gel Breast '\n",
      "              'Devices'),\n",
      "             (171,\n",
      "              \"Use of Mutual Funds in an Individual's Retirement Strategy\"),\n",
      "             (172,\n",
      "              'The Effectiveness of Medical Products and Related Programs '\n",
      "              'Utilized in the Cessation of Smoking.'),\n",
      "             (173, 'Smoking Bans'),\n",
      "             (174, 'Hazardous Waste Cleanup'),\n",
      "             (175, 'NRA Prevention of Gun Control Legislation'),\n",
      "             (176, 'Real-life private investigators'),\n",
      "             (177, 'English as the Official Language in U.S.'),\n",
      "             (178, 'Dog Maulings'),\n",
      "             (179, 'U. S. Restaurants in Foreign Lands'),\n",
      "             (180, 'Ineffectiveness of U.S. Embargoes/Sanctions'),\n",
      "             (181,\n",
      "              'Abuse of the Elderly by Family Members, and Medical and '\n",
      "              'Nonmedical Personnel, and Initiatives Being Taken to Minimize '\n",
      "              'This Mistreatment'),\n",
      "             (182, 'Commercial Overfishing Creates Food Fish Deficit'),\n",
      "             (183, 'Asbestos Related Lawsuits'),\n",
      "             (184, 'Corporate Pension Plans/Funds'),\n",
      "             (185, 'Reform of the U.S. Welfare System'),\n",
      "             (186,\n",
      "              'Difference of Learning Levels Among Inner City and More '\n",
      "              'Suburban School Students'),\n",
      "             (187, 'Signs of the Demise of Independent Publishing'),\n",
      "             (188, 'Beachfront Erosion'),\n",
      "             (189, 'Real Motives for Murder'),\n",
      "             (190, 'Instances of Fraud Involving the Use of a Computer'),\n",
      "             (191, 'Efforts to Improve U.S. Schooling'),\n",
      "             (192, 'Oil Spill Cleanup'),\n",
      "             (193, 'Toys R Dangerous'),\n",
      "             (194, 'The Amount of Money Earned by Writers'),\n",
      "             (195,\n",
      "              'Stock Market Perturbations Attributable to Computer Initiated '\n",
      "              'Trading'),\n",
      "             (196,\n",
      "              'School Choice Voucher System and its effects upon the entire '\n",
      "              'U.S. educational program'),\n",
      "             (197,\n",
      "              'Reform of the jurisprudence system to stop juries from granting '\n",
      "              'unreasonable monetary awards'),\n",
      "             (198, 'Gene Therapy and Its Benefits to Humankind'),\n",
      "             (199, 'Legality of Medically Assisted Suicides'),\n",
      "             (200,\n",
      "              'Impact of foreign textile imports on U.S. textile industry')])\n"
     ]
    }
   ],
   "source": [
    "import collections\n",
    "import io\n",
    "import logging\n",
    "import sys\n",
    "from pprint import pprint\n",
    "\n",
    "def parse_topics(file_or_files,\n",
    "                 max_topics=sys.maxsize, delimiter=';'):\n",
    "    assert max_topics >= 0 or max_topics is None\n",
    "\n",
    "    topics = collections.OrderedDict()\n",
    "\n",
    "    if not isinstance(file_or_files, list) and \\\n",
    "            not isinstance(file_or_files, tuple):\n",
    "        if hasattr(file_or_files, '__iter__'):\n",
    "            file_or_files = list(file_or_files)\n",
    "        else:\n",
    "            file_or_files = [file_or_files]\n",
    "\n",
    "    for f in file_or_files:\n",
    "        assert isinstance(f, io.IOBase)\n",
    "\n",
    "        for line in f:\n",
    "            assert(isinstance(line, str))\n",
    "\n",
    "            line = line.strip()\n",
    "\n",
    "            if not line:\n",
    "                continue\n",
    "\n",
    "            topic_id, terms = line.split(delimiter, 1)\n",
    "            topic_id = int(topic_id)\n",
    "            \n",
    "            if topic_id in topics and (topics[topic_id] != terms):\n",
    "                    logging.error('Duplicate topic \"%s\" (%s vs. %s).',\n",
    "                                  topic_id,\n",
    "                                  topics[topic_id],\n",
    "                                  terms)\n",
    "\n",
    "            topics[topic_id] = terms\n",
    "\n",
    "            if max_topics > 0 and len(topics) >= max_topics:\n",
    "                break\n",
    "\n",
    "    return topics\n",
    "\n",
    "with open('./ap_88_89/topics_title', 'r') as f_topics:\n",
    "    pprint(parse_topics([f_topics]))"
   ]
  },
  {
   "cell_type": "markdown",
   "metadata": {},
   "source": [
    "### Task 1: Implement and compare lexical IR methods [35 points] ### \n",
    "\n",
    "In this task you will implement a number of lexical methods for IR using the **Pyndri** framework. Then you will evaluate these methods on the dataset we have provided using **TREC Eval**.\n",
    "\n",
    "Use the **Pyndri** framework to get statistics of the documents (term frequency, document frequency, collection frequency; **you are not allowed to use the query functionality of Pyndri**) and implement the following scoring methods in **Python**:\n",
    "\n",
    "- [TF-IDF](http://nlp.stanford.edu/IR-book/html/htmledition/tf-idf-weighting-1.html) and \n",
    "- [BM25](http://nlp.stanford.edu/IR-book/html/htmledition/okapi-bm25-a-non-binary-model-1.html) with k1=1.2 and b=0.75. **[5 points]**\n",
    "- Language models ([survey](https://drive.google.com/file/d/0B-zklbckv9CHc0c3b245UW90NE0/view))\n",
    "    - Jelinek-Mercer (explore different values of 𝛌 in the range [0.1, 0.5, 0.9]). **[5 points]**\n",
    "    - Dirichlet Prior (explore different values of 𝛍 [500, 1000, 1500]). **[5 points]**\n",
    "    - Absolute discounting (explore different values of 𝛅 in the range [0.1, 0.5, 0.9]). **[5 points]**\n",
    "    - [Positional Language Models](http://sifaka.cs.uiuc.edu/~ylv2/pub/sigir09-plm.pdf) define a language model for each position of a document, and score a document based on the scores of its PLMs. The PLM is estimated based on propagated counts of words within a document through a proximity-based density function, which both captures proximity heuristics and achieves an effect of “soft” passage retrieval. Implement the PLM, all five kernels, but only the Best position strategy to score documents. Use 𝛔 equal to 50, and Dirichlet smoothing with 𝛍 optimized on the validation set (decide how to optimize this value yourself and motivate your decision in the report). **[10 points]**\n",
    "    \n",
    "Implement the above methods and report evaluation measures (on the test set) using the hyper parameter values you optimized on the validation set (also report the values of the hyper parameters). Use TREC Eval to obtain the results and report on `NDCG@10`, Mean Average Precision (`MAP@1000`), `Precision@5` and `Recall@1000`.\n",
    "\n",
    "For the language models, create plots showing `NDCG@10` with varying values of the parameters. You can do this by chaining small scripts using shell scripting (preferred) or execute trec_eval using Python's `subprocess`.\n",
    "\n",
    "Compute significance of the results using a [two-tailed paired Student t-test](https://docs.scipy.org/doc/scipy/reference/generated/scipy.stats.ttest_rel.html) **[5 points]**. Be wary of false rejection of the null hypothesis caused by the [multiple comparisons problem](https://en.wikipedia.org/wiki/Multiple_comparisons_problem). There are multiple ways to mitigate this problem and it is up to you to choose one.\n",
    "\n",
    "Analyse the results by identifying specific queries where different methods succeed or fail and discuss possible reasons that cause these differences. This is *very important* in order to understand who the different retrieval functions behave.\n",
    "\n",
    "**NOTE**: Don’t forget to use log computations in your calculations to avoid underflows. "
   ]
  },
  {
   "cell_type": "markdown",
   "metadata": {},
   "source": [
    "**IMPORTANT**: You should structure your code around the helper functions we provide below."
   ]
  },
  {
   "cell_type": "code",
   "execution_count": 5,
   "metadata": {
    "collapsed": false
   },
   "outputs": [
    {
     "name": "stdout",
     "output_type": "stream",
     "text": [
      "Gathering statistics about 456 terms.\n",
      "Inverted index creation took 172.77073907852173 seconds.\n"
     ]
    }
   ],
   "source": [
    "import time\n",
    "start_time = time.time()\n",
    "\n",
    "with open('./ap_88_89/topics_title', 'r') as f_topics:\n",
    "    queries = parse_topics([f_topics])\n",
    "\n",
    "index = pyndri.Index('index/')\n",
    "\n",
    "num_documents = index.maximum_document() - index.document_base()\n",
    "\n",
    "dictionary = pyndri.extract_dictionary(index)\n",
    "\n",
    "tokenized_queries = {\n",
    "    query_id: [dictionary.translate_token(token)\n",
    "               for token in index.tokenize(query_string)\n",
    "               if dictionary.has_token(token)]\n",
    "    for query_id, query_string in queries.items()}\n",
    "\n",
    "query_term_ids = set(\n",
    "    query_term_id\n",
    "    for query_term_ids in tokenized_queries.values()\n",
    "    for query_term_id in query_term_ids)\n",
    "\n",
    "print('Gathering statistics about', len(query_term_ids), 'terms.')\n",
    "\n",
    "# inverted index creation.\n",
    "\n",
    "document_lengths = {}\n",
    "unique_terms_per_document = {}\n",
    "\n",
    "inverted_index = collections.defaultdict(dict)\n",
    "collection_frequencies = collections.defaultdict(int)\n",
    "tokenized_queries\n",
    "total_terms = 0\n",
    "\n",
    "for int_doc_id in range(index.document_base(), index.maximum_document()):\n",
    "    ext_doc_id, doc_token_ids = index.document(int_doc_id)\n",
    "\n",
    "    document_bow = collections.Counter(\n",
    "        token_id for token_id in doc_token_ids\n",
    "        if token_id > 0)\n",
    "    document_length = sum(document_bow.values())\n",
    "\n",
    "    document_lengths[int_doc_id] = document_length\n",
    "    total_terms += document_length\n",
    "\n",
    "    unique_terms_per_document[int_doc_id] = len(document_bow)\n",
    "\n",
    "    for query_term_id in query_term_ids:\n",
    "        assert query_term_id is not None\n",
    "\n",
    "        document_term_frequency = document_bow.get(query_term_id, 0)\n",
    "\n",
    "        if document_term_frequency == 0:\n",
    "            continue\n",
    "\n",
    "        collection_frequencies[query_term_id] += document_term_frequency\n",
    "        inverted_index[query_term_id][int_doc_id] = document_term_frequency\n",
    "\n",
    "avg_doc_length = total_terms / num_documents\n",
    "\n",
    "print('Inverted index creation took', time.time() - start_time, 'seconds.')"
   ]
  },
  {
   "cell_type": "code",
   "execution_count": 6,
   "metadata": {
    "collapsed": false
   },
   "outputs": [],
   "source": [
    "external2int = {}\n",
    "for int_doc_id in range(index.document_base(), index.maximum_document()):\n",
    "    ext_doc_id, _ = index.document(int_doc_id)\n",
    "    external2int[ext_doc_id] = int_doc_id"
   ]
  },
  {
   "cell_type": "markdown",
   "metadata": {},
   "source": [
    "### Task 2: Latent Semantic Models (LSMs) [15 points] ###\n",
    "\n",
    "In this task you will experiment with applying distributional semantics methods ([LSI](http://lsa3.colorado.edu/papers/JASIS.lsi.90.pdf) **[5 points]** and [LDA](https://www.cs.princeton.edu/~blei/papers/BleiNgJordan2003.pdf) **[5 points]**) for retrieval.\n",
    "\n",
    "You do not need to implement LSI or LDA on your own. Instead, you can use [gensim](http://radimrehurek.com/gensim/index.html). An example on how to integrate Pyndri with Gensim for word2vec can be found [here](https://github.com/cvangysel/pyndri/blob/master/examples/word2vec.py). For the remaining latent vector space models, you will need to implement connector classes (such as `IndriSentences`) by yourself.\n",
    "\n",
    "In order to use a latent semantic model for retrieval, you need to:\n",
    "   * build a representation of the query **q**,\n",
    "   * build a representation of the document **d**,\n",
    "   * calculate the similarity between **q** and **d** (e.g., cosine similarity, KL-divergence).\n",
    "     \n",
    "The exact implementation here depends on the latent semantic model you are using. \n",
    "   \n",
    "Each of these LSMs come with various hyperparameters to tune. Make a choice on the parameters, and explicitly mention the reasons that led you to these decisions. You can use the validation set to optimize hyper parameters you see fit; motivate your decisions. In addition, mention clearly how the query/document representations were constructed for each LSM and explain your choices.\n",
    "\n",
    "In this experiment, you will first obtain an initial top-1000 ranking for each query using TF-IDF in **Task 1**, and then re-rank the documents using the LSMs. Use TREC Eval to obtain the results and report on `NDCG@10`, Mean Average Precision (`MAP@1000`), `Precision@5` and `Recall@1000`.\n",
    "\n",
    "Perform significance testing **[5 points]** (similar as in Task 1) in the class of semantic matching methods."
   ]
  },
  {
   "cell_type": "code",
   "execution_count": 2,
   "metadata": {
    "collapsed": false
   },
   "outputs": [],
   "source": []
  },
  {
   "cell_type": "code",
   "execution_count": null,
   "metadata": {
    "collapsed": false
   },
   "outputs": [],
   "source": []
  },
  {
   "cell_type": "markdown",
   "metadata": {},
   "source": [
    "### Task 3:  Word embeddings for ranking [20 points] (open-ended) ###\n",
    "\n",
    "First create word embeddings on the corpus we provided using [word2vec](http://arxiv.org/abs/1411.2738) -- [gensim implementation](https://radimrehurek.com/gensim/models/word2vec.html). You should extract the indexed documents using pyndri and provide them to gensim for training a model (see example [here](https://github.com/nickvosk/pyndri/blob/master/examples/word2vec.py)).\n",
    "   \n",
    "This is an open-ended task. It is left up you to decide how you will combine word embeddings to derive query and document representations. Note that since we provide the implementation for training word2vec, you will be graded based on your creativity on combining word embeddings for building query and document representations.\n",
    "\n",
    "Note: If you want to experiment with pre-trained word embeddings on a different corpus, you can use the word embeddings we provide alongside the assignment (./data/reduced_vectors_google.txt.tar.gz). These are the [google word2vec word embeddings](https://code.google.com/archive/p/word2vec/), reduced to only the words that appear in the document collection we use in this assignment."
   ]
  },
  {
   "cell_type": "code",
   "execution_count": 7,
   "metadata": {
    "collapsed": false
   },
   "outputs": [
    {
     "name": "stdout",
     "output_type": "stream",
     "text": [
      "0.0s: Converting to IndriSentences\n",
      "0.0s: Loading cached Gensim word2vec model if available\n",
      "5.8s: Loaded cached gensim word2vec model\n",
      "5.8s: Done for now\n"
     ]
    }
   ],
   "source": [
    "# Training the Gensim word2vec model ourselves for 5 epochs, like in the example\n",
    "# code. This process took about 90 minutes, so we pickled the final model (250MB)\n",
    "# and provide it in our submission.\n",
    "\n",
    "import copy\n",
    "import pyndri\n",
    "import pyndri.compat\n",
    "import sys\n",
    "import time\n",
    "from gensim import corpora, models, similarities\n",
    "import pickle\n",
    "\n",
    "\n",
    "start_time = time.time()\n",
    "\n",
    "print('{:.1f}s: Converting to IndriSentences'.format(time.time() - start_time))\n",
    "sentences = pyndri.compat.IndriSentences(index, dictionary)\n",
    "\n",
    "# print('{:.1f}s: Test IndriSentences'.format(time.time() - start_time))\n",
    "# for i, doc in enumerate(sentences):\n",
    "#     if i>=3:\n",
    "#         break\n",
    "#     print(doc)\n",
    "\n",
    "is_model_trained_already = False\n",
    "print('{:.1f}s: Loading cached Gensim word2vec model if available'.format(time.time() - start_time))\n",
    "try:\n",
    "    with open('trained_word2vec_after_5_epoch.pickle', 'rb') as f:\n",
    "        gensim_embeddings = pickle.load(f).wv\n",
    "    print('{:.1f}s: Loaded cached gensim word2vec model'.format(time.time() - start_time))\n",
    "    is_model_trained_already = True\n",
    "except:\n",
    "    print('{:.1f}s: Nope'.format(time.time() - start_time))\n",
    "\n",
    "\n",
    "if not is_model_trained_already:\n",
    "    print('{:.1f}s: Starting process of training model (est. 90 minutes total)'.format(time.time() - start_time))\n",
    "    print('{:.1f}s: Building vocab (estimated 220 seconds)'.format(time.time() - start_time))\n",
    "    word2vec_init = gensim.models.Word2Vec(\n",
    "        size=300,  # Embedding size\n",
    "        window=5,  # One-sided window size\n",
    "        sg=True,  # Skip-gram.\n",
    "        min_count=5,  # Minimum word frequency.\n",
    "        sample=1e-3,  # Sub-sample threshold.\n",
    "        hs=False,  # Hierarchical softmax.\n",
    "        negative=10,  # Number of negative examples.\n",
    "        iter=1,  # Number of iterations.\n",
    "        workers=8,  # Number of workers.\n",
    "    )\n",
    "    word2vec_init.build_vocab(sentences, trim_rule=None)\n",
    "    \n",
    "    print('{:.1f}s: Training word2vec'.format(time.time() - start_time))\n",
    "    model = word2vec_init\n",
    "    del word2vec_init\n",
    "    for epoch in range(1, 5 + 1):\n",
    "        print('{:.1f}s: start epoch {} of 5 (estimated 1000 seconds)'.format(time.time() - start_time, epoch))\n",
    "        model.train(sentences, total_examples=model.corpus_count, epochs=model.iter)\n",
    "        print('{:.1f}s: Saving model {} to pickle file'.format(time.time() - start_time, epoch))\n",
    "        with open('trained_word2vec_after_{}_epoch.pickle'.format(epoch), 'wb') as f:\n",
    "            pickle.dump(model, f, pickle.HIGHEST_PROTOCOL)\n",
    "    \n",
    "    print('{:.1f}s: Finished training word2vec model'.format(time.time() - start_time))\n",
    "    gensim_embeddings = model.wv\n",
    "    del model\n",
    "    \n",
    "print('{:.1f}s: Done for now'.format(time.time() - start_time))\n",
    "del sentences"
   ]
  },
  {
   "cell_type": "code",
   "execution_count": 42,
   "metadata": {
    "collapsed": false
   },
   "outputs": [
    {
     "name": "stdout",
     "output_type": "stream",
     "text": [
      "0.0s: Loading pyndri index\n",
      "0.8s: Loading cached google word2vec model if available\n",
      "0.8s: Nope\n",
      "0.8s: Loading google word2vec embeddings from text file\n",
      "36.9s: Finished loading 83549 word vectors with a dimensionality of 300.\n",
      "36.9s: Saving google word2vec to pickle file\n",
      "40.1s: Done for now\n"
     ]
    }
   ],
   "source": [
    "###########################\n",
    "#### NEVER MIND THIS BLOCK\n",
    "#### This functionality is \n",
    "#### provided by Gensim out\n",
    "#### of the box. See next\n",
    "#### block or search for\n",
    "#### EuclideanKeyedVectors\n",
    "\n",
    "\n",
    "# Here we load the provided word2vec embeddings that were made by the google word2vec tool. Takes about 30 seconds.\n",
    "# To save time for ourselves, we also picked this file, but don't provide it.\n",
    "import pickle\n",
    "import time\n",
    "start_time = time.time()\n",
    "\n",
    "\n",
    "print('{:.1f}s: Loading pyndri index'.format(time.time() - start_time))\n",
    "index = pyndri.Index('index/')\n",
    "dictionary = pyndri.extract_dictionary(index)\n",
    "\n",
    "are_google_embeddings_processed_already = False\n",
    "print('{:.1f}s: Loading cached google word2vec model if available'.format(time.time() - start_time))\n",
    "try:\n",
    "    with open('google_word2vec.pickle', 'rb') as f:\n",
    "        google_embeddings = pickle.load(f)\n",
    "    print('{:.1f}s: Loaded cached google word2vec model'.format(time.time() - start_time))\n",
    "    are_google_embeddings_processed_already = True\n",
    "except:\n",
    "    print('{:.1f}s: Nope'.format(time.time() - start_time))\n",
    "    \n",
    "\n",
    "if not are_google_embeddings_processed_already:\n",
    "    print('{:.1f}s: Loading google word2vec embeddings from text file'.format(time.time() - start_time))\n",
    "    google_embeddings = {}\n",
    "    expected_embedding_count = -1\n",
    "    expected_dimensionality = -1\n",
    "    with open('reduced_vectors_google.txt', 'rb') as f:\n",
    "        for line in f:\n",
    "            line = line.strip()\n",
    "\n",
    "            if not line:\n",
    "                continue\n",
    "\n",
    "            tokens = line.split()\n",
    "\n",
    "            if len(tokens) == 2:\n",
    "                # first line in file\n",
    "                expected_embedding_count = int(tokens[0])\n",
    "                expected_dimensionality = int(tokens[1])\n",
    "                continue\n",
    "\n",
    "            if not len(tokens) == expected_dimensionality + 1:\n",
    "                print(\"ah shit\", len(tokens))\n",
    "                break\n",
    "\n",
    "            word = tokens[0].decode(\"utf-8\")\n",
    "            vector = [float(token) for token in tokens[1:]]\n",
    "            google_embeddings[dictionary.token2id[word]] = vector\n",
    "    print('{:.1f}s: Finished loading {} word vectors with a dimensionality of {}.'.format(time.time() - start_time, len(google_embeddings), expected_dimensionality))\n",
    "    assert(expected_embedding_count == len(google_embeddings))\n",
    "    print('{:.1f}s: Saving google word2vec to pickle file'.format(time.time() - start_time))\n",
    "    with open('google_word2vec.pickle', 'wb') as f:\n",
    "        pickle.dump(google_embeddings, f, pickle.HIGHEST_PROTOCOL)\n",
    "\n",
    "print('{:.1f}s: Done for now'.format(time.time() - start_time))"
   ]
  },
  {
   "cell_type": "code",
   "execution_count": 44,
   "metadata": {
    "collapsed": false
   },
   "outputs": [
    {
     "name": "stdout",
     "output_type": "stream",
     "text": [
      "[('disgrace', 0.63954443925357163), ('shame', 0.5933829469013715), ('charade', 0.58929057062700785), ('disgraceful', 0.58426778334142027), ('travesties', 0.57893335080266761), ('shameful', 0.57365971123034853), ('abomination', 0.56772761156077578), ('farce', 0.54743083824266903), ('injustice', 0.53827891648225379), ('appalling', 0.53326061612329956)]\n"
     ]
    },
    {
     "ename": "TypeError",
     "evalue": "'int' object is not iterable",
     "output_type": "error",
     "traceback": [
      "\u001b[0;31m---------------------------------------------------------------------------\u001b[0m",
      "\u001b[0;31mTypeError\u001b[0m                                 Traceback (most recent call last)",
      "\u001b[0;32m<ipython-input-44-3bc6987013a6>\u001b[0m in \u001b[0;36m<module>\u001b[0;34m()\u001b[0m\n\u001b[1;32m     27\u001b[0m \u001b[0;34m\u001b[0m\u001b[0m\n\u001b[1;32m     28\u001b[0m \u001b[0mprint\u001b[0m\u001b[0;34m(\u001b[0m\u001b[0mfind_synonyms\u001b[0m\u001b[0;34m(\u001b[0m\u001b[0;34m'travesty'\u001b[0m\u001b[0;34m,\u001b[0m \u001b[0mgoogle_embeddings\u001b[0m\u001b[0;34m,\u001b[0m \u001b[0mdictionary\u001b[0m\u001b[0;34m)\u001b[0m\u001b[0;34m)\u001b[0m\u001b[0;34m\u001b[0m\u001b[0m\n\u001b[0;32m---> 29\u001b[0;31m \u001b[0mprint\u001b[0m\u001b[0;34m(\u001b[0m\u001b[0mfind_synonyms\u001b[0m\u001b[0;34m(\u001b[0m\u001b[0;34m'travesty'\u001b[0m\u001b[0;34m,\u001b[0m \u001b[0mgensim_embeddings\u001b[0m\u001b[0;34m,\u001b[0m \u001b[0mdictionary\u001b[0m\u001b[0;34m)\u001b[0m\u001b[0;34m)\u001b[0m\u001b[0;34m\u001b[0m\u001b[0m\n\u001b[0m",
      "\u001b[0;32m<ipython-input-44-3bc6987013a6>\u001b[0m in \u001b[0;36mfind_synonyms\u001b[0;34m(target_word, embeddings, dictionary, synonym_count)\u001b[0m\n\u001b[1;32m     15\u001b[0m     \u001b[0mtop_synonyms\u001b[0m \u001b[0;34m=\u001b[0m \u001b[0;34m[\u001b[0m\u001b[0;34m(\u001b[0m\u001b[0;34m''\u001b[0m \u001b[0;34m,\u001b[0m \u001b[0;36m0.0\u001b[0m\u001b[0;34m)\u001b[0m\u001b[0;34m]\u001b[0m\u001b[0;34m\u001b[0m\u001b[0m\n\u001b[1;32m     16\u001b[0m     \u001b[0mtarget_token_id\u001b[0m \u001b[0;34m=\u001b[0m \u001b[0mdictionary\u001b[0m\u001b[0;34m.\u001b[0m\u001b[0mtoken2id\u001b[0m\u001b[0;34m[\u001b[0m\u001b[0mtarget_word\u001b[0m\u001b[0;34m]\u001b[0m\u001b[0;34m\u001b[0m\u001b[0m\n\u001b[0;32m---> 17\u001b[0;31m     \u001b[0mtarget_embedding\u001b[0m \u001b[0;34m=\u001b[0m \u001b[0membeddings\u001b[0m\u001b[0;34m[\u001b[0m\u001b[0mtarget_token_id\u001b[0m\u001b[0;34m]\u001b[0m\u001b[0;34m\u001b[0m\u001b[0m\n\u001b[0m\u001b[1;32m     18\u001b[0m     \u001b[0;32mfor\u001b[0m \u001b[0mtoken_id\u001b[0m\u001b[0;34m,\u001b[0m \u001b[0membedding\u001b[0m \u001b[0;32min\u001b[0m \u001b[0membeddings\u001b[0m\u001b[0;34m.\u001b[0m\u001b[0mitems\u001b[0m\u001b[0;34m(\u001b[0m\u001b[0;34m)\u001b[0m\u001b[0;34m:\u001b[0m\u001b[0;34m\u001b[0m\u001b[0m\n\u001b[1;32m     19\u001b[0m         \u001b[0mcosine_similarity\u001b[0m \u001b[0;34m=\u001b[0m \u001b[0;36m1\u001b[0m \u001b[0;34m-\u001b[0m \u001b[0mspatial\u001b[0m\u001b[0;34m.\u001b[0m\u001b[0mdistance\u001b[0m\u001b[0;34m.\u001b[0m\u001b[0mcosine\u001b[0m\u001b[0;34m(\u001b[0m\u001b[0membedding\u001b[0m\u001b[0;34m,\u001b[0m \u001b[0mtarget_embedding\u001b[0m\u001b[0;34m)\u001b[0m\u001b[0;34m\u001b[0m\u001b[0m\n",
      "\u001b[0;32m/usr/local/lib/python3.5/dist-packages/gensim-3.2.0-py3.5-linux-x86_64.egg/gensim/models/keyedvectors.py\u001b[0m in \u001b[0;36m__getitem__\u001b[0;34m(self, words)\u001b[0m\n\u001b[1;32m    326\u001b[0m             \u001b[0;32mreturn\u001b[0m \u001b[0mself\u001b[0m\u001b[0;34m.\u001b[0m\u001b[0mword_vec\u001b[0m\u001b[0;34m(\u001b[0m\u001b[0mwords\u001b[0m\u001b[0;34m)\u001b[0m\u001b[0;34m\u001b[0m\u001b[0m\n\u001b[1;32m    327\u001b[0m \u001b[0;34m\u001b[0m\u001b[0m\n\u001b[0;32m--> 328\u001b[0;31m         \u001b[0;32mreturn\u001b[0m \u001b[0mvstack\u001b[0m\u001b[0;34m(\u001b[0m\u001b[0;34m[\u001b[0m\u001b[0mself\u001b[0m\u001b[0;34m.\u001b[0m\u001b[0mword_vec\u001b[0m\u001b[0;34m(\u001b[0m\u001b[0mword\u001b[0m\u001b[0;34m)\u001b[0m \u001b[0;32mfor\u001b[0m \u001b[0mword\u001b[0m \u001b[0;32min\u001b[0m \u001b[0mwords\u001b[0m\u001b[0;34m]\u001b[0m\u001b[0;34m)\u001b[0m\u001b[0;34m\u001b[0m\u001b[0m\n\u001b[0m\u001b[1;32m    329\u001b[0m \u001b[0;34m\u001b[0m\u001b[0m\n\u001b[1;32m    330\u001b[0m     \u001b[0;32mdef\u001b[0m \u001b[0m__contains__\u001b[0m\u001b[0;34m(\u001b[0m\u001b[0mself\u001b[0m\u001b[0;34m,\u001b[0m \u001b[0mword\u001b[0m\u001b[0;34m)\u001b[0m\u001b[0;34m:\u001b[0m\u001b[0;34m\u001b[0m\u001b[0m\n",
      "\u001b[0;31mTypeError\u001b[0m: 'int' object is not iterable"
     ]
    }
   ],
   "source": [
    "###########################\n",
    "#### NEVER MIND THIS BLOCK\n",
    "#### This functionality is \n",
    "#### provided by Gensim out\n",
    "#### of the box. See next\n",
    "#### block or search for\n",
    "#### EuclideanKeyedVectors\n",
    "\n",
    "# Use a word2vec model to find synonyms\n",
    "\n",
    "from scipy import spatial\n",
    "from operator import itemgetter\n",
    "\n",
    "def find_synonyms (target_word, embeddings, dictionary, synonym_count=10):\n",
    "    top_synonyms = [('' , 0.0)]\n",
    "    target_token_id = dictionary.token2id[target_word]\n",
    "    target_embedding = embeddings[target_token_id]\n",
    "    for token_id, embedding in embeddings.items():\n",
    "        cosine_similarity = 1 - spatial.distance.cosine(embedding, target_embedding)\n",
    "        is_in_top = cosine_similarity > top_synonyms[-1][1]\n",
    "        if is_in_top and token_id != target_token_id:\n",
    "            # add to top, sort and truncate\n",
    "            top_synonyms.append((dictionary.id2token[token_id], cosine_similarity))\n",
    "            top_synonyms = sorted(top_synonyms, key=itemgetter(1), reverse=True)\n",
    "            top_synonyms = top_synonyms[:synonym_count]\n",
    "    return top_synonyms\n",
    "        \n",
    "print(find_synonyms('travesty', google_embeddings, dictionary))\n",
    "print(find_synonyms('travesty', gensim_embeddings, dictionary))"
   ]
  },
  {
   "cell_type": "code",
   "execution_count": 4,
   "metadata": {
    "collapsed": false
   },
   "outputs": [],
   "source": [
    "from gensim.models.keyedvectors import KeyedVectors\n",
    "google_embeddings = KeyedVectors.load_word2vec_format('reduced_vectors_google.txt', binary=False)"
   ]
  },
  {
   "cell_type": "code",
   "execution_count": 60,
   "metadata": {
    "collapsed": false
   },
   "outputs": [
    {
     "name": "stdout",
     "output_type": "stream",
     "text": [
      "[('vacations', 0.8465889692306519),\n",
      " ('vacationing', 0.7091163396835327),\n",
      " ('vaction', 0.6794564723968506),\n",
      " ('getaways', 0.618423342704773),\n",
      " ('honeymoon', 0.6129909157752991),\n",
      " ('holidays', 0.6012001037597656),\n",
      " ('vacationed', 0.5707447528839111),\n",
      " ('vacationers', 0.5669425129890442),\n",
      " ('getaway', 0.5532756447792053),\n",
      " ('holiday', 0.5512028932571411)]\n",
      "[('vacations', 0.7073043584823608),\n",
      " ('kennebunkport', 0.5963935852050781),\n",
      " ('vacationed', 0.5364298820495605),\n",
      " ('vacationing', 0.5339806079864502),\n",
      " ('holidays', 0.5285091400146484),\n",
      " ('oceanside', 0.5270141363143921),\n",
      " ('trip', 0.525744616985321),\n",
      " ('jaunts', 0.5229578018188477),\n",
      " ('begrudges', 0.5171878933906555),\n",
      " ('trips', 0.5128523111343384)]\n"
     ]
    }
   ],
   "source": [
    "from pprint import pprint\n",
    "word = 'vacation'\n",
    "pprint(google_embeddings.similar_by_word(word))\n",
    "pprint(gensim_embeddings.similar_by_word(word))\n",
    "# Google is more accurate, but gensim seems at least alright"
   ]
  },
  {
   "cell_type": "code",
   "execution_count": 8,
   "metadata": {
    "collapsed": false
   },
   "outputs": [
    {
     "name": "stdout",
     "output_type": "stream",
     "text": [
      "0.0s: Calculating extended inverse index\n",
      "160.0s: Done for now\n"
     ]
    }
   ],
   "source": [
    "# what\n",
    "\n",
    "from collections import defaultdict\n",
    "import numpy as np\n",
    "\n",
    "import time\n",
    "start_time = time.time()\n",
    "\n",
    "\n",
    "print('{:.1f}s: Calculating extended inverse index'.format(time.time() - start_time))\n",
    "\n",
    "docs_per_word = defaultdict(set)\n",
    "for doc_id in np.arange(index.document_base(), index.maximum_document()):\n",
    "    doc = index.document(doc_id)\n",
    "    for word_id in doc[1]:\n",
    "        docs_per_word[word_id].add(doc_id)\n",
    "\n",
    "df_per_word = defaultdict(int)\n",
    "for word_id, docs in docs_per_word.items():\n",
    "    df_per_word[word_id] = len(docs)\n",
    "del docs_per_word\n",
    "print('{:.1f}s: Done for now'.format(time.time() - start_time))\n"
   ]
  },
  {
   "cell_type": "code",
   "execution_count": 9,
   "metadata": {
    "collapsed": true
   },
   "outputs": [],
   "source": [
    "import numpy as np\n",
    "\n",
    "# build document or query embedding by averaging the word embedding\n",
    "def get_average_word_embedding (bow_of_input, embeddings, use_tfidf_weights=False):\n",
    "    #embedding_size = embeddings.vector_size # doesn't work for gensim trained model ???\n",
    "    embedding_size = embeddings[embeddings.index2word[0]].size\n",
    "    total_embedding = np.zeros(embedding_size)\n",
    "    for token_id, count in bow_of_input.items():\n",
    "        word = dictionary.id2token[token_id]\n",
    "        if not word in embeddings.vocab:\n",
    "            continue\n",
    "        embedding = embeddings[word]\n",
    "        if use_tfidf_weights: # weigh each word by its discriminative power\n",
    "            tf = 1 + np.log(bow_of_input.get(token_id, 1)) # log normalized\n",
    "            df = df_per_word[token_id]\n",
    "            if df == 0:\n",
    "                weight = 0.0\n",
    "            else:\n",
    "                idf = num_documents / df\n",
    "                weight = tf*idf\n",
    "        else:\n",
    "            weight = count # just simple average\n",
    "        total_embedding += np.array(weight * embedding)\n",
    "    total_embedding /= len(bow_of_input)\n",
    "    return total_embedding"
   ]
  },
  {
   "cell_type": "code",
   "execution_count": 10,
   "metadata": {
    "collapsed": false
   },
   "outputs": [
    {
     "name": "stdout",
     "output_type": "stream",
     "text": [
      "query: Surrogate Motherhood\n",
      "query as BOW: Counter({233033: 1, 163926: 1})\n",
      "query embedding (gensim): <class 'numpy.ndarray'> (300,)\n",
      "[-0.10624129 -0.19719909  0.01255816  0.01103399 -0.11671718] ...\n",
      "query embedding (gensim, weighted): <class 'numpy.ndarray'> (300,)\n",
      "[-151.10468292 -295.35044861  -25.09288025   17.34195423 -177.32430077] ...\n"
     ]
    }
   ],
   "source": [
    "#example\n",
    "query_id = 70\n",
    "print('query:', queries[query_id])\n",
    "query_bow = collections.Counter(\n",
    "        token_id for token_id in tokenized_queries[query_id]\n",
    "        if token_id > 0)\n",
    "print('query as BOW:', query_bow)\n",
    "query_embedding = get_average_word_embedding(query_bow, gensim_embeddings)\n",
    "print('query embedding (gensim):', type(query_embedding), query_embedding.shape)\n",
    "print(query_embedding[:5], '...')\n",
    "query_embedding = get_average_word_embedding(query_bow, gensim_embeddings, use_tfidf_weights=True)\n",
    "print('query embedding (gensim, weighted):', type(query_embedding), query_embedding.shape)\n",
    "print(query_embedding[:5], '...')"
   ]
  },
  {
   "cell_type": "markdown",
   "metadata": {},
   "source": [
    "# Document embeddings\n",
    "We came up with 2 ideas to improve the 'standard' approach in constructing representations of queries and documents using word embeddings. The standard approach refers to the average embedding of each word in the query or document. Inspired by [paper https://arxiv.org/pdf/1707.02377.pdf end of introduction], we considered the TF-IDF scores as weights in the summation of each word embedding in a query or document. Inspired by a comment in the lecture (that simple averaging doesn't work well for long documents), we also split documents into overlapping parts of M (100) words. Applying/not applying these ideas resulted in 4 models."
   ]
  },
  {
   "cell_type": "code",
   "execution_count": 11,
   "metadata": {
    "collapsed": false
   },
   "outputs": [
    {
     "name": "stdout",
     "output_type": "stream",
     "text": [
      "0.0s: Collecting all document embeddings\n"
     ]
    },
    {
     "name": "stderr",
     "output_type": "stream",
     "text": [
      "/home/student/.local/lib/python3.5/site-packages/ipykernel/__main__.py:24: RuntimeWarning: invalid value encountered in true_divide\n"
     ]
    },
    {
     "ename": "KeyboardInterrupt",
     "evalue": "",
     "output_type": "error",
     "traceback": [
      "\u001b[0;31m---------------------------------------------------------------------------\u001b[0m",
      "\u001b[0;31mKeyboardInterrupt\u001b[0m                         Traceback (most recent call last)",
      "\u001b[0;32m<ipython-input-11-7ec61471e16a>\u001b[0m in \u001b[0;36m<module>\u001b[0;34m()\u001b[0m\n\u001b[1;32m     39\u001b[0m             if token_id > 0)\n\u001b[1;32m     40\u001b[0m         \u001b[0mdoc_embeddings_simple_split\u001b[0m\u001b[0;34m[\u001b[0m\u001b[0mint_doc_id\u001b[0m\u001b[0;34m]\u001b[0m\u001b[0;34m.\u001b[0m\u001b[0mappend\u001b[0m\u001b[0;34m(\u001b[0m\u001b[0mget_average_word_embedding\u001b[0m\u001b[0;34m(\u001b[0m\u001b[0mchunk_bow\u001b[0m\u001b[0;34m,\u001b[0m \u001b[0mgensim_embeddings\u001b[0m\u001b[0;34m)\u001b[0m\u001b[0;34m)\u001b[0m\u001b[0;34m\u001b[0m\u001b[0m\n\u001b[0;32m---> 41\u001b[0;31m         \u001b[0mdoc_embeddings_weighted_split\u001b[0m\u001b[0;34m[\u001b[0m\u001b[0mint_doc_id\u001b[0m\u001b[0;34m]\u001b[0m\u001b[0;34m.\u001b[0m\u001b[0mappend\u001b[0m\u001b[0;34m(\u001b[0m\u001b[0mget_average_word_embedding\u001b[0m\u001b[0;34m(\u001b[0m\u001b[0mchunk_bow\u001b[0m\u001b[0;34m,\u001b[0m \u001b[0mgensim_embeddings\u001b[0m\u001b[0;34m,\u001b[0m \u001b[0;32mTrue\u001b[0m\u001b[0;34m)\u001b[0m\u001b[0;34m)\u001b[0m\u001b[0;34m\u001b[0m\u001b[0m\n\u001b[0m\u001b[1;32m     42\u001b[0m \u001b[0mprint\u001b[0m\u001b[0;34m(\u001b[0m\u001b[0;34m'{:.1f}s: Done for now'\u001b[0m\u001b[0;34m.\u001b[0m\u001b[0mformat\u001b[0m\u001b[0;34m(\u001b[0m\u001b[0mtime\u001b[0m\u001b[0;34m.\u001b[0m\u001b[0mtime\u001b[0m\u001b[0;34m(\u001b[0m\u001b[0;34m)\u001b[0m \u001b[0;34m-\u001b[0m \u001b[0mstart_time\u001b[0m\u001b[0;34m)\u001b[0m\u001b[0;34m)\u001b[0m\u001b[0;34m\u001b[0m\u001b[0m\n",
      "\u001b[0;32m<ipython-input-9-e2f24d845c88>\u001b[0m in \u001b[0;36mget_average_word_embedding\u001b[0;34m(bow_of_input, embeddings, use_tfidf_weights)\u001b[0m\n\u001b[1;32m     21\u001b[0m         \u001b[0;32melse\u001b[0m\u001b[0;34m:\u001b[0m\u001b[0;34m\u001b[0m\u001b[0m\n\u001b[1;32m     22\u001b[0m             \u001b[0mweight\u001b[0m \u001b[0;34m=\u001b[0m \u001b[0mcount\u001b[0m \u001b[0;31m# just simple average\u001b[0m\u001b[0;34m\u001b[0m\u001b[0m\n\u001b[0;32m---> 23\u001b[0;31m         \u001b[0mtotal_embedding\u001b[0m \u001b[0;34m+=\u001b[0m \u001b[0mnp\u001b[0m\u001b[0;34m.\u001b[0m\u001b[0marray\u001b[0m\u001b[0;34m(\u001b[0m\u001b[0mweight\u001b[0m \u001b[0;34m*\u001b[0m \u001b[0membedding\u001b[0m\u001b[0;34m)\u001b[0m\u001b[0;34m\u001b[0m\u001b[0m\n\u001b[0m\u001b[1;32m     24\u001b[0m     \u001b[0mtotal_embedding\u001b[0m \u001b[0;34m/=\u001b[0m \u001b[0mlen\u001b[0m\u001b[0;34m(\u001b[0m\u001b[0mbow_of_input\u001b[0m\u001b[0;34m)\u001b[0m\u001b[0;34m\u001b[0m\u001b[0m\n\u001b[1;32m     25\u001b[0m     \u001b[0;32mreturn\u001b[0m \u001b[0mtotal_embedding\u001b[0m\u001b[0;34m\u001b[0m\u001b[0m\n",
      "\u001b[0;31mKeyboardInterrupt\u001b[0m: "
     ]
    }
   ],
   "source": [
    "# collect all document embeddings (estimated 70 minutes)\n",
    "import math\n",
    "import time\n",
    "start_time = time.time()\n",
    "\n",
    "\n",
    "print('{:.1f}s: Collecting all document embeddings'.format(time.time() - start_time))\n",
    "\n",
    "doc_embeddings_simple = {}\n",
    "doc_embeddings_weighted = {}\n",
    "doc_embeddings_simple_split = {}\n",
    "doc_embeddings_weighted_split = {}\n",
    "for int_doc_id in range(index.document_base(), index.maximum_document()):\n",
    "    if int_doc_id % 1000 == 0:\n",
    "        print('{:.1f}s: {} out of {}'.format(time.time() - start_time, int_doc_id, index.maximum_document()))\n",
    "    ext_doc_id, doc_token_ids = index.document(int_doc_id)\n",
    "\n",
    "    document_bow = collections.Counter(\n",
    "        token_id for token_id in doc_token_ids\n",
    "        if token_id > 0)\n",
    "    \n",
    "    doc_embeddings_simple[int_doc_id] = get_average_word_embedding(document_bow, gensim_embeddings)\n",
    "    doc_embeddings_weighted[int_doc_id] = get_average_word_embedding(document_bow, gensim_embeddings, True)\n",
    "    \n",
    "    # split document into parts of M words and represent each part as a separate embedding\n",
    "    doc_embeddings_simple_split[int_doc_id] = []\n",
    "    doc_embeddings_weighted_split[int_doc_id] = []\n",
    "    M = 100\n",
    "    chunk_count = math.ceil(len(doc_token_ids)/M)\n",
    "    chunks = []\n",
    "    for i in range(chunk_count):\n",
    "        chunks.append(doc_token_ids[i*M:(i+1)*M])\n",
    "        if i < chunk_count - 1:\n",
    "            offset = int(M/2)\n",
    "            chunks.append(doc_token_ids[offset+i*M:offset+(i+1)*M])\n",
    "    for chunk in chunks:\n",
    "        chunk_bow = collections.Counter(\n",
    "            token_id for token_id in chunk\n",
    "            if token_id > 0)\n",
    "        doc_embeddings_simple_split[int_doc_id].append(get_average_word_embedding(chunk_bow, gensim_embeddings))\n",
    "        doc_embeddings_weighted_split[int_doc_id].append(get_average_word_embedding(chunk_bow, gensim_embeddings, True))\n",
    "print('{:.1f}s: Done for now'.format(time.time() - start_time))"
   ]
  },
  {
   "cell_type": "code",
   "execution_count": 165,
   "metadata": {
    "collapsed": false
   },
   "outputs": [
    {
     "name": "stdout",
     "output_type": "stream",
     "text": [
      "[[0, 1, 2, 3, 4, 5, 6, 7, 8, 9],\n",
      " [5, 6, 7, 8, 9, 10, 11, 12, 13, 14],\n",
      " [10, 11, 12, 13, 14, 15, 16, 17, 18, 19],\n",
      " [15, 16, 17, 18, 19, 20, 21, 22, 23, 24],\n",
      " [20, 21, 22, 23, 24, 25, 26, 27, 28, 29],\n",
      " [25, 26, 27, 28, 29, 30, 31, 32, 33, 34],\n",
      " [30, 31, 32, 33, 34, 35, 36, 37, 38, 39],\n",
      " [35, 36, 37, 38, 39, 40, 41, 42, 43, 44],\n",
      " [40, 41, 42, 43, 44, 45, 46, 47, 48, 49],\n",
      " [45, 46, 47, 48, 49, 50, 51, 52, 53, 54],\n",
      " [50, 51, 52, 53, 54, 55, 56, 57, 58, 59],\n",
      " [55, 56, 57, 58, 59, 60, 61, 62, 63, 64],\n",
      " [60, 61, 62, 63, 64, 65, 66, 67, 68, 69],\n",
      " [65, 66, 67, 68, 69, 70, 71, 72],\n",
      " [70, 71, 72]]\n"
     ]
    }
   ],
   "source": [
    "# example of how chunks of documents are subdivided\n",
    "\n",
    "doc_token_ids = list(range(73))\n",
    "\n",
    "M = 10\n",
    "chunk_count = math.ceil(len(doc_token_ids)/M)\n",
    "chunks = []\n",
    "for i in range(chunk_count):\n",
    "    chunks.append(doc_token_ids[i*M:(i+1)*M])\n",
    "    if i < chunk_count - 1:\n",
    "        offset = int(M/2)\n",
    "        chunks.append(doc_token_ids[offset+i*M:offset+(i+1)*M])\n",
    "pprint(chunks)"
   ]
  },
  {
   "cell_type": "code",
   "execution_count": 12,
   "metadata": {
    "collapsed": true
   },
   "outputs": [],
   "source": [
    "from scipy import spatial\n",
    "\n",
    "def simple_embeddings_gensim (int_document_id, query_term_ids):\n",
    "    query_bow = collections.Counter(\n",
    "        token_id for token_id in query_term_ids\n",
    "        if token_id > 0)\n",
    "    query_embedding = get_average_word_embedding(query_bow, gensim_embeddings)\n",
    "    doc_embedding = doc_embeddings_simple[int_document_id]\n",
    "    cosine_similarity = 1 - spatial.distance.cosine(query_embedding, doc_embedding)\n",
    "    return cosine_similarity\n",
    "\n",
    "\n",
    "def weighted_embeddings_gensim (int_document_id, query_term_ids):\n",
    "    query_bow = collections.Counter(\n",
    "        token_id for token_id in query_term_ids\n",
    "        if token_id > 0)\n",
    "    query_embedding = get_average_word_embedding(query_bow, gensim_embeddings, True)\n",
    "    doc_embedding = doc_embeddings_weighted[int_document_id]\n",
    "    cosine_similarity = 1 - spatial.distance.cosine(query_embedding, doc_embedding)\n",
    "    return cosine_similarity\n",
    "\n",
    "\n",
    "def simple_split_embeddings_gensim (int_document_id, query_term_ids):\n",
    "    query_bow = collections.Counter(\n",
    "        token_id for token_id in query_term_ids\n",
    "        if token_id > 0)\n",
    "    query_embedding = get_average_word_embedding(query_bow, gensim_embeddings)\n",
    "    doc_embeddings = doc_embeddings_simple_split[int_document_id]\n",
    "    cosine_similarity = max([1 - spatial.distance.cosine(query_embedding, doc_embedding) for doc_embedding in doc_embeddings])\n",
    "    return cosine_similarity\n",
    "\n",
    "\n",
    "def weighted_split_embeddings_gensim (int_document_id, query_term_ids):\n",
    "    query_bow = collections.Counter(\n",
    "        token_id for token_id in query_term_ids\n",
    "        if token_id > 0)\n",
    "    query_embedding = get_average_word_embedding(query_bow, gensim_embeddings, True)\n",
    "    doc_embeddings = doc_embeddings_weighted_split[int_document_id]\n",
    "    cosine_similarity = max([1 - spatial.distance.cosine(query_embedding, doc_embedding) for doc_embedding in doc_embeddings])\n",
    "    return cosine_similarity"
   ]
  },
  {
   "cell_type": "code",
   "execution_count": 13,
   "metadata": {
    "collapsed": false
   },
   "outputs": [
    {
     "name": "stdout",
     "output_type": "stream",
     "text": [
      "800\n",
      "on hit:\n",
      "0.730520310599\n",
      "0.823788059064\n",
      "0.806145897762\n",
      "0.925391343151\n",
      "on miss:\n",
      "0.600923433406\n",
      "0.379962573991\n",
      "0.607054587014\n",
      "0.379922451188\n"
     ]
    }
   ],
   "source": [
    "# test experiment\n",
    "query = [2701, 1496, 420, 0, 25480] # words from document 1\n",
    "print(len(index.document(8)[1]))\n",
    "# print(index.document(1))\n",
    "print('on hit:')\n",
    "print(simple_embeddings_gensim(1, query))\n",
    "print(weighted_embeddings_gensim(1, query))\n",
    "print(simple_split_embeddings_gensim(1, query))\n",
    "print(weighted_split_embeddings_gensim(1, query))\n",
    "print('on miss:')\n",
    "print(simple_embeddings_gensim(8, query))\n",
    "print(weighted_embeddings_gensim(8, query))\n",
    "print(simple_split_embeddings_gensim(8, query))\n",
    "print(weighted_split_embeddings_gensim(8, query))\n"
   ]
  },
  {
   "cell_type": "code",
   "execution_count": 16,
   "metadata": {
    "collapsed": false
   },
   "outputs": [
    {
     "name": "stdout",
     "output_type": "stream",
     "text": [
      "ext_doc_id: AP890425-0184 int_doc_id: 184 query: Airbus Subsidies tokens: [5872, 3066]\n",
      "0.329753876868\n",
      "0.187987433689\n",
      "0.334746736647\n",
      "0.192825132626\n"
     ]
    }
   ],
   "source": [
    "# test nan\n",
    "query_id = 51\n",
    "query = tokenized_queries[query_id]\n",
    "ext_doc_id = 'AP890425-0184'\n",
    "int_doc_id = external2int[ext_doc_id]\n",
    "print('ext_doc_id:', ext_doc_id, 'int_doc_id:', int_doc_id, 'query:', queries[query_id], 'tokens:', tokenized_queries[query_id])\n",
    "_, doc_token_ids = index.document(int_doc_id)\n",
    "document_bow = collections.Counter(\n",
    "    token_id for token_id in doc_token_ids\n",
    "    if token_id > 0)\n",
    "print(simple_embeddings_gensim(int_doc_id, query))\n",
    "print(weighted_embeddings_gensim(int_doc_id, query))\n",
    "print(simple_split_embeddings_gensim(int_doc_id, query))\n",
    "print(weighted_split_embeddings_gensim(int_doc_id, query))"
   ]
  },
  {
   "cell_type": "code",
   "execution_count": 171,
   "metadata": {
    "collapsed": false
   },
   "outputs": [
    {
     "ename": "NameError",
     "evalue": "name 'run_retrieval' is not defined",
     "output_type": "error",
     "traceback": [
      "\u001b[0;31m---------------------------------------------------------------------------\u001b[0m",
      "\u001b[0;31mNameError\u001b[0m                                 Traceback (most recent call last)",
      "\u001b[0;32m<ipython-input-171-2a577698eabd>\u001b[0m in \u001b[0;36m<module>\u001b[0;34m()\u001b[0m\n\u001b[1;32m      1\u001b[0m \u001b[0;31m# run experiment\u001b[0m\u001b[0;34m\u001b[0m\u001b[0;34m\u001b[0m\u001b[0m\n\u001b[0;32m----> 2\u001b[0;31m \u001b[0mrun_retrieval\u001b[0m\u001b[0;34m(\u001b[0m\u001b[0;34m'simple word2vec (gensim)'\u001b[0m\u001b[0;34m,\u001b[0m \u001b[0msimple_embeddings_gensim\u001b[0m\u001b[0;34m)\u001b[0m\u001b[0;34m\u001b[0m\u001b[0m\n\u001b[0m\u001b[1;32m      3\u001b[0m \u001b[0mrun_retrieval\u001b[0m\u001b[0;34m(\u001b[0m\u001b[0;34m'weighted word2vec (gensim)'\u001b[0m\u001b[0;34m,\u001b[0m \u001b[0mweighted_embeddings_gensim\u001b[0m\u001b[0;34m)\u001b[0m\u001b[0;34m\u001b[0m\u001b[0m\n\u001b[1;32m      4\u001b[0m \u001b[0mrun_retrieval\u001b[0m\u001b[0;34m(\u001b[0m\u001b[0;34m'simple word2vec on document splits (gensim)'\u001b[0m\u001b[0;34m,\u001b[0m \u001b[0msimple_split_embeddings_gensim\u001b[0m\u001b[0;34m)\u001b[0m\u001b[0;34m\u001b[0m\u001b[0m\n\u001b[1;32m      5\u001b[0m \u001b[0mrun_retrieval\u001b[0m\u001b[0;34m(\u001b[0m\u001b[0;34m'weighted word2vec on document splits (gensim)'\u001b[0m\u001b[0;34m,\u001b[0m \u001b[0mweighted_split_embeddings_gensim\u001b[0m\u001b[0;34m)\u001b[0m\u001b[0;34m\u001b[0m\u001b[0m\n",
      "\u001b[0;31mNameError\u001b[0m: name 'run_retrieval' is not defined"
     ]
    }
   ],
   "source": [
    "# run experiment\n",
    "run_retrieval('simple word2vec (gensim)', simple_embeddings_gensim)\n",
    "run_retrieval('weighted word2vec (gensim)', weighted_embeddings_gensim)\n",
    "run_retrieval('simple word2vec on document splits (gensim)', simple_split_embeddings_gensim)\n",
    "run_retrieval('weighted word2vec on document splits (gensim)', weighted_split_embeddings_gensim)"
   ]
  },
  {
   "cell_type": "markdown",
   "metadata": {},
   "source": [
    "### Task 4: Learning to rank (LTR) [15 points] (open-ended) ###\n",
    "\n",
    "In this task you will get an introduction into learning to rank for information retrieval.\n",
    "\n",
    "You can explore different ways for devising features for the model. Obviously, you can use the retrieval methods you implemented in Task 1, Task 2 and Task 3 as features. Think about other features you can use (e.g. query/document length). Creativity on devising new features and providing motivation for them will be taken into account when grading.\n",
    "\n",
    "For every query, first create a document candidate set using the top-1000 documents using TF-IDF, and subsequently compute features given a query and a document. Note that the feature values of different retrieval methods are likely to be distributed differently.\n",
    "\n",
    "You are adviced to start some pointwise learning to rank algorithm e.g. logistic regression, implemented in [scikit-learn](http://scikit-learn.org/stable/modules/generated/sklearn.linear_model.LogisticRegression.html).\n",
    "Train your LTR model using 10-fold cross validation on the test set. More advanced learning to rank algorithms will be appreciated when grading."
   ]
  },
  {
   "cell_type": "code",
   "execution_count": null,
   "metadata": {
    "collapsed": true
   },
   "outputs": [],
   "source": []
  },
  {
   "cell_type": "markdown",
   "metadata": {
    "collapsed": true
   },
   "source": [
    "### Task 5: Write a report [15 points; instant FAIL if not provided] ###\n",
    "\n",
    "The report should be a PDF file created using the [sigconf ACM template](https://www.acm.org/publications/proceedings-template) and will determine a significant part of your grade.\n",
    "\n",
    "   * It should explain what you have implemented, motivate your experiments and detail what you expect to learn from them. **[10 points]**\n",
    "   * Lastly, provide a convincing analysis of your results and conclude the report accordingly. **[10 points]**\n",
    "      * Do all methods perform similarly on all queries? Why?\n",
    "      * Is there a single retrieval model that outperforms all other retrieval models (i.e., silver bullet)?\n",
    "      * ...\n",
    "\n",
    "**Hand in the report and your self-contained implementation source files.** Only send us the files that matter, organized in a well-documented zip/tgz file with clear instructions on how to reproduce your results. That is, we want to be able to regenerate all your results with minimal effort. You can assume that the index and ground-truth information is present in the same file structure as the one we have provided.\n"
   ]
  },
  {
   "cell_type": "code",
   "execution_count": null,
   "metadata": {
    "collapsed": true
   },
   "outputs": [],
   "source": []
  }
 ],
 "metadata": {
  "anaconda-cloud": {},
  "kernelspec": {
   "display_name": "Python 3",
   "language": "python",
   "name": "python3"
  },
  "language_info": {
   "codemirror_mode": {
    "name": "ipython",
    "version": 3
   },
   "file_extension": ".py",
   "mimetype": "text/x-python",
   "name": "python",
   "nbconvert_exporter": "python",
   "pygments_lexer": "ipython3",
   "version": "3.5.2"
  }
 },
 "nbformat": 4,
 "nbformat_minor": 1
}
